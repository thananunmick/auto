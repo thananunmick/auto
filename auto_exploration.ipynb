{
 "cells": [
  {
   "cell_type": "code",
   "execution_count": 112,
   "id": "cc0482dc",
   "metadata": {},
   "outputs": [],
   "source": [
    "from bs4 import BeautifulSoup\n",
    "import requests\n",
    "from selenium import webdriver\n",
    "from selenium.webdriver.chrome.service import Service\n",
    "from requests_html import HTMLSession\n",
    "from requests_html import AsyncHTMLSession\n",
    "import nest_asyncio\n",
    "import asyncio"
   ]
  },
  {
   "cell_type": "code",
   "execution_count": 2,
   "id": "4c675273",
   "metadata": {},
   "outputs": [],
   "source": [
    "# url = \"https://jobs.apple.com/en-us/details/200389054/software-engineering-internship?team=STDNT\"\n",
    "# url = \"https://www.amazon.jobs/en/jobs/2110678/software-development-engineer-internship-2023-us\"\n",
    "url = \"https://voloridge-investment-management.hiringthing.com/job/447975/operations-intern-2023\""
   ]
  },
  {
   "cell_type": "code",
   "execution_count": 3,
   "id": "b9249e98",
   "metadata": {},
   "outputs": [
    {
     "data": {
      "text/plain": [
       "'<!DOCTYPE html>\\n<html lang=\"en\">\\n<head>\\n\\t<meta charset=\"UTF-8\" />\\n\\t<meta name=\"viewport\" content=\"width=device-width, initial-scale=1\">\\n\\t\\n<script>\\n\\t(function(i,s,o,g,r,a,m){i[\\'GoogleAnalyticsObject\\']=r;i[r]=i[r]||function(){\\n\\t(i[r].q=i[r].q||[]).push(arguments)},i[r].l=1*new Date();a=s.createElement(o),\\n\\tm=s.getElementsByTagName(o)[0];a.async=1;a.src=g;m.parentNode.insertBefore(a,m)\\n\\t})(window,document,\\'script\\',\\'https://www.google-analytics.com/analytics.js\\',\\'ga\\');\\n\\n\\tga(\\'create\\', \\'UA-10916761-1\\', \\'auto\\', \\'atsTracker\\');\\n\\tga(\\'atsTracker.set\\', \\'dimension1\\', \\'voloridge-investment-management\\');\\n\\tga(\\'atsTracker.send\\', \\'pageview\\');\\n\\tga(\\'set\\', \\'anonymizeIp\\', true);\\n\\n</script>\\n\\n\\n\\n<link rel=\"stylesheet\" media=\"screen\" href=\"https://assets.applicant-tracking.com/webpack/applicant-86a5502082a601543d2a.css\" />\\n\\n<meta name=\"twitter:card\" content=\"summary\" />\\n<meta name=\"twitter:site\" content=\"\" />\\n\\n\\n\\n\\t<meta name=\"description\" content=\"We&#39;re looking for a great Operations Intern - 2023 to join our team at Voloridge Investment Management\" />\\n\\t<meta property=\"og:description\" content=\"Voloridge Investment Management is seeking an Operations Intern to assist our Trading Operations Team and Chief Operating Officer in completing project-based research designed to support trading, finance, and other activities essential to the ongoing operations of Voloridge. Our Operations Team works together in a collaborative entrepreneurial environment designed to meet the Voloridge mission…\" />\\n\\t<meta property=\"og:title\" content=\"Operations Intern - 2023\" />\\n\\t<meta property=\"og:url\" content=\"https://voloridge-investment-management.hiringthing.com/job/447975/operations-intern-2023\" />\\n\\t<link rel=\"canonical\" href=\"https://voloridge-investment-management.hiringthing.com/job/447975/operations-intern-2023\" />\\n\\t\\t<script type=\"application/ld+json\">{\"@context\":\"http://schema.org/\",\"@type\":\"JobPosting\",\"title\":\"Operations Intern - 2023\",\"datePosted\":\"2022-06-24T08:39:32-04:00\",\"description\":\"\\\\u003cp\\\\u003eVoloridge Investment Management is seeking an Operations Intern to assist our Trading Operations Team and Chief Operating Officer in completing project-based research designed to support trading, finance, and other activities essential to the ongoing operations of Voloridge. Our Operations Team works together in a collaborative entrepreneurial environment designed to meet the Voloridge mission of delivering superior risk-adjusted returns using proprietary modeling techniques.\\\\u003c/p\\\\u003e\\\\u003cp\\\\u003e\\\\u003cstrong\\\\u003eSummary of Job Functions\\\\u003c/strong\\\\u003e\\\\u003cbr\\\\u003e\\\\u003c/p\\\\u003e\\\\u003cul\\\\u003e\\\\u003cli\\\\u003eWork on projects for COO across trading, middle office and investor relations.\\\\u0026nbsp; \\\\u0026nbsp;\\\\u0026nbsp;\\\\u003c/li\\\\u003e\\\\u003cli\\\\u003eAssist with creation and maintenance of reporting framework for trading group.  \\\\u003c/li\\\\u003e\\\\u003cli\\\\u003ePerform data quality checks of trading and middle office systems.  \\\\u003c/li\\\\u003e\\\\u003cli\\\\u003eConduct outside market research and present at periodic meetings.\\\\u003c/li\\\\u003e\\\\u003c/ul\\\\u003e\\\\u003cp\\\\u003e\\\\u003cstrong\\\\u003eMinimum Requirements\\\\u003c/strong\\\\u003e\\\\u003cbr\\\\u003e\\\\u003c/p\\\\u003e\\\\u003cul\\\\u003e\\\\u003cli\\\\u003eCompletion of at least one year of an undergraduate degree program in Computer Science / Finance / Accounting or equivalent field of study.\\\\u003c/li\\\\u003e\\\\u003cli\\\\u003eAdvanced knowledge of Excel (Able to create worksheet formulas, extract and validate data, use advanced filters and merge workbooks, VBA).\\\\u003c/li\\\\u003e\\\\u003cli\\\\u003eStrong math background through demonstrated coursework.\\\\u003c/li\\\\u003e\\\\u003c/ul\\\\u003e\\\\u003cp\\\\u003e\\\\u003cstrong\\\\u003ePreferred Skills and Previous Experience\\\\u003c/strong\\\\u003e  \\\\u003c/p\\\\u003e\\\\u003cul\\\\u003e\\\\u003cli\\\\u003e\\\\u0026nbsp;Experience with programming languages such as Python / SQL / C#.\\\\u003c/li\\\\u003e\\\\u003c/ul\\\\u003e\\\\u003cp\\\\u003e\\\\u003cstrong\\\\u003eAdditional Information\\\\u003c/strong\\\\u003e\\\\u003cbr\\\\u003e\\\\u003c/p\\\\u003e\\\\u003cp\\\\u003eVoloridge Investment Management is an SEC registered investment advisor. A private investment company founded in 2009, our mission is to deliver superior risk-adjusted returns for qualified investors, using advanced proprietary modeling technology, conservative investment tactics and sophisticated risk management.\\\\u003c/p\\\\u003e\\\\u003cp\\\\u003eVoloridge Investment Management is an Equal Opportunity Employer. All qualified applicants are encouraged to apply and will receive consideration for employment without regard to race, color, religion, sex, sexual orientation, gender identity, national origin, disability, protected veteran status, or any other legally protected characteristic or status.\\\\u003c/p\\\\u003e\",\"hiringOrganization\":{\"@type\":\"Organization\",\"name\":\"Voloridge Investment Management\"},\"jobLocation\":{\"@type\":\"Place\",\"address\":{\"@type\":\"PostalAddress\",\"streetAddress\":\"\",\"addressLocality\":\"JUPITER\",\"addressRegion\":\"FL\",\"postalCode\":\"\",\"addressCountry\":\"US\"}}}</script>\\n\\n\\n\\n\\t<link rel=\"apple-touch-icon\" sizes=\"180x180\" href=\"/apple-touch-icon.png\">\\n<link rel=\"icon\" type=\"image/png\" sizes=\"32x32\" href=\"/favicon-32x32.png\">\\n<link rel=\"icon\" type=\"image/png\" sizes=\"16x16\" href=\"/favicon-16x16.png\">\\n\\n\\n\\t<link rel=\"stylesheet\" href=\"https://voloridge-investment-management.hiringthing.com/companies/company.css\" />\\n\\n\\t<link rel=\"stylesheet\" href=\"https://use.typekit.net/ken1jax.css\">\\n\\n\\t\\t\\t<title>Operations Intern - 2023 @ Voloridge Investment Management</title>\\n\\n</head>\\n<body id=\"voloridge-investment-management\">\\n<div class=\"content\">\\n\\t\\t<div id=\"careers-page-header\">\\n\\t<div class=\"company-logo\">\\n\\t\\t\\t<a target=\"_blank\" href=\"https://voloridge.com\">\\t\\t<img src=\"https://d161ew7sqkx7j0.cloudfront.net/public/images/logos/12494_1306_Volo_logo_R___FULL_no_border_08.16.17.png\" alt=\"Link to Voloridge Investment Management website\"/>\\n</a>\\n\\t</div>\\n</div>\\n\\n\\n\\t\\n\\n\\t\\n<div class=\"jobs-content\">\\n\\t<div id=\"careers-page-job\">\\n\\t\\t<div class=\"job-content-header\">\\n\\t\\t\\t<div class=\"job-title-container\">\\n\\t\\t\\t\\t<h1>Operations Intern - 2023</h1>\\n\\t\\t\\t\\t<div class=\"job-content-location-category\">\\n\\t\\t\\t\\t\\t\\t<span class=\"job-content-location\">\\n\\t\\t\\t\\t\\t\\t \\tJUPITER, FL\\n\\t\\t\\t\\t\\t\\t</span>\\n\\t\\t\\t\\t\\t\\t<div class=\"job-content-category-mobile\">\\n\\t\\t\\t\\t\\t\\t\\t<span>Internships</span>\\n\\t\\t\\t\\t\\t\\t</div>\\n\\t\\t\\t\\t\\t\\t<span class=\"job-content-category\">Internships</span>\\n\\t\\t\\t\\t</div>\\n\\t\\t\\t</div>\\n\\t\\t\\t\\t<div data-react-class=\"HiringThing.Components.ApplyButtonGroup\" data-react-props=\"{&quot;backToAllJobsLink&quot;:&quot;&quot;,&quot;formID&quot;:&quot;application-form-container&quot;,&quot;jobObj&quot;:{&quot;table&quot;:{&quot;id&quot;:447975,&quot;company_id&quot;:12494,&quot;company_name&quot;:&quot;Voloridge Investment Management&quot;,&quot;title&quot;:&quot;Operations Intern - 2023&quot;,&quot;abstract&quot;:&quot;Voloridge Investment Management is seeking an Operations Intern to assist our Trading Operations Team and Chief Operating Officer in completing project-based research designed to support trading, finance, and other activities essential to the ongoing operations of Voloridge. Our Operations Team works together in a collaborative entrepreneurial environment designed to meet the Voloridge mission…&quot;,&quot;html_description&quot;:&quot;\\\\u003cp\\\\u003eVoloridge Investment Management is seeking an Operations Intern to assist our Trading Operations Team and Chief Operating Officer in completing project-based research designed to support trading, finance, and other activities essential to the ongoing operations of Voloridge. Our Operations Team works together in a collaborative entrepreneurial environment designed to meet the Voloridge mission of delivering superior risk-adjusted returns using proprietary modeling techniques.\\\\u003c/p\\\\u003e\\\\u003cp\\\\u003e\\\\u003cstrong\\\\u003eSummary of Job Functions\\\\u003c/strong\\\\u003e\\\\u003cbr\\\\u003e\\\\u003c/p\\\\u003e\\\\u003cul\\\\u003e\\\\u003cli\\\\u003eWork on projects for COO across trading, middle office and investor relations.\\\\u0026nbsp; \\\\u0026nbsp;\\\\u0026nbsp;\\\\u003c/li\\\\u003e\\\\u003cli\\\\u003eAssist with creation and maintenance of reporting framework for trading group.  \\\\u003c/li\\\\u003e\\\\u003cli\\\\u003ePerform data quality checks of trading and middle office systems.  \\\\u003c/li\\\\u003e\\\\u003cli\\\\u003eConduct outside market research and present at periodic meetings.\\\\u003c/li\\\\u003e\\\\u003c/ul\\\\u003e\\\\u003cp\\\\u003e\\\\u003cstrong\\\\u003eMinimum Requirements\\\\u003c/strong\\\\u003e\\\\u003cbr\\\\u003e\\\\u003c/p\\\\u003e\\\\u003cul\\\\u003e\\\\u003cli\\\\u003eCompletion of at least one year of an undergraduate degree program in Computer Science / Finance / Accounting or equivalent field of study.\\\\u003c/li\\\\u003e\\\\u003cli\\\\u003eAdvanced knowledge of Excel (Able to create worksheet formulas, extract and validate data, use advanced filters and merge workbooks, VBA).\\\\u003c/li\\\\u003e\\\\u003cli\\\\u003eStrong math background through demonstrated coursework.\\\\u003c/li\\\\u003e\\\\u003c/ul\\\\u003e\\\\u003cp\\\\u003e\\\\u003cstrong\\\\u003ePreferred Skills and Previous Experience\\\\u003c/strong\\\\u003e  \\\\u003c/p\\\\u003e\\\\u003cul\\\\u003e\\\\u003cli\\\\u003e\\\\u0026nbsp;Experience with programming languages such as Python / SQL / C#.\\\\u003c/li\\\\u003e\\\\u003c/ul\\\\u003e\\\\u003cp\\\\u003e\\\\u003cstrong\\\\u003eAdditional Information\\\\u003c/strong\\\\u003e\\\\u003cbr\\\\u003e\\\\u003c/p\\\\u003e\\\\u003cp\\\\u003eVoloridge Investment Management is an SEC registered investment advisor. A private investment company founded in 2009, our mission is to deliver superior risk-adjusted returns for qualified investors, using advanced proprietary modeling technology, conservative investment tactics and sophisticated risk management.\\\\u003c/p\\\\u003e\\\\u003cp\\\\u003eVoloridge Investment Management is an Equal Opportunity Employer. All qualified applicants are encouraged to apply and will receive consideration for employment without regard to race, color, religion, sex, sexual orientation, gender identity, national origin, disability, protected veteran status, or any other legally protected characteristic or status.\\\\u003c/p\\\\u003e&quot;,&quot;url&quot;:&quot;/job/447975/operations-intern-2023&quot;,&quot;joblink_url&quot;:&quot;https://voloridge-investment-management.hiringthing.com/job/447975/operations-intern-2023&quot;,&quot;posted_at&quot;:&quot;2022-06-24T08:39:32-04:00&quot;,&quot;location&quot;:&quot;JUPITER, FL&quot;,&quot;location_info&quot;:{&quot;country&quot;:&quot;US&quot;,&quot;address&quot;:&quot;&quot;,&quot;city&quot;:&quot;JUPITER&quot;,&quot;state&quot;:&quot;FL&quot;,&quot;zipcode&quot;:&quot;&quot;},&quot;job_code&quot;:&quot;&quot;,&quot;category&quot;:&quot;Internships&quot;,&quot;enable_application_address_completion?&quot;:false,&quot;allow_job_board_applications&quot;:false,&quot;collect_linkedin_profile?&quot;:true,&quot;is_address_enabled?&quot;:false,&quot;is_address_required?&quot;:false,&quot;show_contact_preference?&quot;:true,&quot;resume_upload_enabled?&quot;:true,&quot;resume_upload_required?&quot;:false,&quot;coverletter_upload_enabled?&quot;:true,&quot;coverletter_upload_required?&quot;:false,&quot;other_upload_enabled?&quot;:true,&quot;referral_required?&quot;:true,&quot;referral_options&quot;:[&quot;Craigslist&quot;,&quot;Monster.com&quot;,&quot;Indeed.com&quot;,&quot;Handshake&quot;,&quot;Employee Referral&quot;,&quot;Friend/Colleague&quot;,&quot;Recruiter&quot;,&quot;Voloridge Website&quot;,&quot;VoloCampaign&quot;,&quot;Outreach - LinkedIn&quot;,&quot;Jobdango&quot;,&quot;TalentZoo&quot;,&quot;CareerBuilder&quot;,&quot;Purdue&quot;,&quot;UCF&quot;,&quot;University of Washington&quot;,&quot;NavTalent&quot;,&quot;MIT&quot;,&quot;JP Morgan&quot;,&quot;Bloomberg&quot;,&quot;Glassdoor&quot;,&quot;Indeed.com2&quot;,&quot;Virtual Career Fair&quot;,&quot;Robin Referral&quot;,&quot;Employment Department&quot;],&quot;disclosure_agreement&quot;:null,&quot;captcha_enabled?&quot;:true,&quot;remote&quot;:false,&quot;max_salary&quot;:{},&quot;min_salary&quot;:{},&quot;pay_frequency&quot;:&quot;hourly&quot;,&quot;show_remote_in_location&quot;:false,&quot;external_apply_url&quot;:null,&quot;questions&quot;:[{&quot;table&quot;:{&quot;id&quot;:6063916,&quot;option_type&quot;:&quot;essay&quot;,&quot;question&quot;:&quot;What is your expected graduation date?&quot;,&quot;required?&quot;:true,&quot;flags&quot;:null,&quot;options&quot;:[]}},{&quot;table&quot;:{&quot;id&quot;:6063917,&quot;option_type&quot;:&quot;multiple-choice&quot;,&quot;question&quot;:&quot;Are you currently pursuing your:&quot;,&quot;required?&quot;:true,&quot;flags&quot;:null,&quot;options&quot;:[&quot;Bachelor&#39;s Degree&quot;,&quot;Master&#39;s&quot;,&quot;Ph.D&quot;]}},{&quot;table&quot;:{&quot;id&quot;:6063918,&quot;option_type&quot;:&quot;essay&quot;,&quot;question&quot;:&quot;What is your primary field of study?&quot;,&quot;required?&quot;:true,&quot;flags&quot;:null,&quot;options&quot;:[]}}]},&quot;modifiable&quot;:true},&quot;labelTranslations&quot;:{&quot;back_to_jobs&quot;:&quot;Back to Jobs&quot;,&quot;apply_for_this_position&quot;:&quot;Apply for this Position&quot;,&quot;back_to_wl_jobs&quot;:&quot;All Jobs at HiringThing&quot;},&quot;lang&quot;:&quot;en&quot;,&quot;recaptchaSiteKey&quot;:&quot;6Le5hLsSAAAAAE43yKMBj3XR8Ox2GNeDD4VYZx_5&quot;,&quot;showGDPRDisclosure&quot;:null,&quot;showNotify&quot;:true,&quot;showReferral&quot;:true,&quot;source&quot;:null,&quot;widgetMode&quot;:null,&quot;showBackButtons&quot;:true}\" class=\"apply-button-group\"></div>\\n\\t\\t</div>\\n\\t\\t\\t\\t<div class=\"job-content-form\" id=\"application-form-container\"></div>\\n\\t\\t\\t\\t<div class=\"job-content-body user-content\">\\n\\t\\t\\t\\t\\t<p>Voloridge Investment Management is seeking an Operations Intern to assist our Trading Operations Team and Chief Operating Officer in completing project-based research designed to support trading, finance, and other activities essential to the ongoing operations of Voloridge. Our Operations Team works together in a collaborative entrepreneurial environment designed to meet the Voloridge mission of delivering superior risk-adjusted returns using proprietary modeling techniques.</p><p><strong>Summary of Job Functions</strong><br></p><ul><li>Work on projects for COO across trading, middle office and investor relations.&nbsp; &nbsp;&nbsp;</li><li>Assist with creation and maintenance of reporting framework for trading group.  </li><li>Perform data quality checks of trading and middle office systems.  </li><li>Conduct outside market research and present at periodic meetings.</li></ul><p><strong>Minimum Requirements</strong><br></p><ul><li>Completion of at least one year of an undergraduate degree program in Computer Science / Finance / Accounting or equivalent field of study.</li><li>Advanced knowledge of Excel (Able to create worksheet formulas, extract and validate data, use advanced filters and merge workbooks, VBA).</li><li>Strong math background through demonstrated coursework.</li></ul><p><strong>Preferred Skills and Previous Experience</strong>  </p><ul><li>&nbsp;Experience with programming languages such as Python / SQL / C#.</li></ul><p><strong>Additional Information</strong><br></p><p>Voloridge Investment Management is an SEC registered investment advisor. A private investment company founded in 2009, our mission is to deliver superior risk-adjusted returns for qualified investors, using advanced proprietary modeling technology, conservative investment tactics and sophisticated risk management.</p><p>Voloridge Investment Management is an Equal Opportunity Employer. All qualified applicants are encouraged to apply and will receive consideration for employment without regard to race, color, religion, sex, sexual orientation, gender identity, national origin, disability, protected veteran status, or any other legally protected characteristic or status.</p>\\n\\t\\t\\t\\t</div>\\n\\t\\t\\t\\t<div id=\"job-content-footer\">\\n\\t\\t\\t\\t\\t<div data-react-class=\"HiringThing.Components.ApplyButtonGroup\" data-react-props=\"{&quot;backToAllJobsLink&quot;:&quot;&quot;,&quot;formID&quot;:&quot;application-form-container&quot;,&quot;jobObj&quot;:{&quot;table&quot;:{&quot;id&quot;:447975,&quot;company_id&quot;:12494,&quot;company_name&quot;:&quot;Voloridge Investment Management&quot;,&quot;title&quot;:&quot;Operations Intern - 2023&quot;,&quot;abstract&quot;:&quot;Voloridge Investment Management is seeking an Operations Intern to assist our Trading Operations Team and Chief Operating Officer in completing project-based research designed to support trading, finance, and other activities essential to the ongoing operations of Voloridge. Our Operations Team works together in a collaborative entrepreneurial environment designed to meet the Voloridge mission…&quot;,&quot;html_description&quot;:&quot;\\\\u003cp\\\\u003eVoloridge Investment Management is seeking an Operations Intern to assist our Trading Operations Team and Chief Operating Officer in completing project-based research designed to support trading, finance, and other activities essential to the ongoing operations of Voloridge. Our Operations Team works together in a collaborative entrepreneurial environment designed to meet the Voloridge mission of delivering superior risk-adjusted returns using proprietary modeling techniques.\\\\u003c/p\\\\u003e\\\\u003cp\\\\u003e\\\\u003cstrong\\\\u003eSummary of Job Functions\\\\u003c/strong\\\\u003e\\\\u003cbr\\\\u003e\\\\u003c/p\\\\u003e\\\\u003cul\\\\u003e\\\\u003cli\\\\u003eWork on projects for COO across trading, middle office and investor relations.\\\\u0026nbsp; \\\\u0026nbsp;\\\\u0026nbsp;\\\\u003c/li\\\\u003e\\\\u003cli\\\\u003eAssist with creation and maintenance of reporting framework for trading group.  \\\\u003c/li\\\\u003e\\\\u003cli\\\\u003ePerform data quality checks of trading and middle office systems.  \\\\u003c/li\\\\u003e\\\\u003cli\\\\u003eConduct outside market research and present at periodic meetings.\\\\u003c/li\\\\u003e\\\\u003c/ul\\\\u003e\\\\u003cp\\\\u003e\\\\u003cstrong\\\\u003eMinimum Requirements\\\\u003c/strong\\\\u003e\\\\u003cbr\\\\u003e\\\\u003c/p\\\\u003e\\\\u003cul\\\\u003e\\\\u003cli\\\\u003eCompletion of at least one year of an undergraduate degree program in Computer Science / Finance / Accounting or equivalent field of study.\\\\u003c/li\\\\u003e\\\\u003cli\\\\u003eAdvanced knowledge of Excel (Able to create worksheet formulas, extract and validate data, use advanced filters and merge workbooks, VBA).\\\\u003c/li\\\\u003e\\\\u003cli\\\\u003eStrong math background through demonstrated coursework.\\\\u003c/li\\\\u003e\\\\u003c/ul\\\\u003e\\\\u003cp\\\\u003e\\\\u003cstrong\\\\u003ePreferred Skills and Previous Experience\\\\u003c/strong\\\\u003e  \\\\u003c/p\\\\u003e\\\\u003cul\\\\u003e\\\\u003cli\\\\u003e\\\\u0026nbsp;Experience with programming languages such as Python / SQL / C#.\\\\u003c/li\\\\u003e\\\\u003c/ul\\\\u003e\\\\u003cp\\\\u003e\\\\u003cstrong\\\\u003eAdditional Information\\\\u003c/strong\\\\u003e\\\\u003cbr\\\\u003e\\\\u003c/p\\\\u003e\\\\u003cp\\\\u003eVoloridge Investment Management is an SEC registered investment advisor. A private investment company founded in 2009, our mission is to deliver superior risk-adjusted returns for qualified investors, using advanced proprietary modeling technology, conservative investment tactics and sophisticated risk management.\\\\u003c/p\\\\u003e\\\\u003cp\\\\u003eVoloridge Investment Management is an Equal Opportunity Employer. All qualified applicants are encouraged to apply and will receive consideration for employment without regard to race, color, religion, sex, sexual orientation, gender identity, national origin, disability, protected veteran status, or any other legally protected characteristic or status.\\\\u003c/p\\\\u003e&quot;,&quot;url&quot;:&quot;/job/447975/operations-intern-2023&quot;,&quot;joblink_url&quot;:&quot;https://voloridge-investment-management.hiringthing.com/job/447975/operations-intern-2023&quot;,&quot;posted_at&quot;:&quot;2022-06-24T08:39:32-04:00&quot;,&quot;location&quot;:&quot;JUPITER, FL&quot;,&quot;location_info&quot;:{&quot;country&quot;:&quot;US&quot;,&quot;address&quot;:&quot;&quot;,&quot;city&quot;:&quot;JUPITER&quot;,&quot;state&quot;:&quot;FL&quot;,&quot;zipcode&quot;:&quot;&quot;},&quot;job_code&quot;:&quot;&quot;,&quot;category&quot;:&quot;Internships&quot;,&quot;enable_application_address_completion?&quot;:false,&quot;allow_job_board_applications&quot;:false,&quot;collect_linkedin_profile?&quot;:true,&quot;is_address_enabled?&quot;:false,&quot;is_address_required?&quot;:false,&quot;show_contact_preference?&quot;:true,&quot;resume_upload_enabled?&quot;:true,&quot;resume_upload_required?&quot;:false,&quot;coverletter_upload_enabled?&quot;:true,&quot;coverletter_upload_required?&quot;:false,&quot;other_upload_enabled?&quot;:true,&quot;referral_required?&quot;:true,&quot;referral_options&quot;:[&quot;Craigslist&quot;,&quot;Monster.com&quot;,&quot;Indeed.com&quot;,&quot;Handshake&quot;,&quot;Employee Referral&quot;,&quot;Friend/Colleague&quot;,&quot;Recruiter&quot;,&quot;Voloridge Website&quot;,&quot;VoloCampaign&quot;,&quot;Outreach - LinkedIn&quot;,&quot;Jobdango&quot;,&quot;TalentZoo&quot;,&quot;CareerBuilder&quot;,&quot;Purdue&quot;,&quot;UCF&quot;,&quot;University of Washington&quot;,&quot;NavTalent&quot;,&quot;MIT&quot;,&quot;JP Morgan&quot;,&quot;Bloomberg&quot;,&quot;Glassdoor&quot;,&quot;Indeed.com2&quot;,&quot;Virtual Career Fair&quot;,&quot;Robin Referral&quot;,&quot;Employment Department&quot;],&quot;disclosure_agreement&quot;:null,&quot;captcha_enabled?&quot;:true,&quot;remote&quot;:false,&quot;max_salary&quot;:{},&quot;min_salary&quot;:{},&quot;pay_frequency&quot;:&quot;hourly&quot;,&quot;show_remote_in_location&quot;:false,&quot;external_apply_url&quot;:null,&quot;questions&quot;:[{&quot;table&quot;:{&quot;id&quot;:6063916,&quot;option_type&quot;:&quot;essay&quot;,&quot;question&quot;:&quot;What is your expected graduation date?&quot;,&quot;required?&quot;:true,&quot;flags&quot;:null,&quot;options&quot;:[]}},{&quot;table&quot;:{&quot;id&quot;:6063917,&quot;option_type&quot;:&quot;multiple-choice&quot;,&quot;question&quot;:&quot;Are you currently pursuing your:&quot;,&quot;required?&quot;:true,&quot;flags&quot;:null,&quot;options&quot;:[&quot;Bachelor&#39;s Degree&quot;,&quot;Master&#39;s&quot;,&quot;Ph.D&quot;]}},{&quot;table&quot;:{&quot;id&quot;:6063918,&quot;option_type&quot;:&quot;essay&quot;,&quot;question&quot;:&quot;What is your primary field of study?&quot;,&quot;required?&quot;:true,&quot;flags&quot;:null,&quot;options&quot;:[]}}]},&quot;modifiable&quot;:true},&quot;labelTranslations&quot;:{&quot;back_to_jobs&quot;:&quot;Back to Jobs&quot;,&quot;apply_for_this_position&quot;:&quot;Apply for this Position&quot;,&quot;back_to_wl_jobs&quot;:&quot;All Jobs at HiringThing&quot;},&quot;lang&quot;:&quot;en&quot;,&quot;recaptchaSiteKey&quot;:&quot;6Le5hLsSAAAAAE43yKMBj3XR8Ox2GNeDD4VYZx_5&quot;,&quot;showGDPRDisclosure&quot;:null,&quot;showNotify&quot;:true,&quot;showReferral&quot;:true,&quot;source&quot;:null,&quot;widgetMode&quot;:null,&quot;showBackButtons&quot;:false}\" class=\"apply-button-group\"></div>\\n\\t\\t\\t\\t</div>\\n\\t</div>\\n</div>\\n\\n\\n</div>\\n<div class=\"footer\">\\n\\t\\t<div id=\"careers-page-footer\" class=\"\">\\n\\t<div>\\n\\t\\t\\t<h4>Get Updates</h4>\\n\\t\\t<div id=\"footer-main-content\">\\n\\t\\t\\t\\t<div class=\"get-updates-copy\">\\n\\t\\t\\t\\t\\tAre you interested in hearing about new opportunities at Voloridge Investment Management in real time?&nbsp;Enter your email address to be notified automatically when new positions are posted.\\n\\t\\t\\t\\t</div>\\n\\t\\t\\t\\t<div data-react-class=\"HiringThing.Components.EmailSubscribe\" data-react-props=\"{}\"></div>\\n\\t\\t</div>\\n\\t\\t<div id=\"copyright-links\">\\n\\t\\t\\t<div class=\"copyright\">\\n\\t\\t\\t\\tPowered by <a href=\"http://www.hiringthing.com\">HiringThing</a>\\n\\t\\t\\t\\t&copy; 2022\\n\\t\\t\\t</div>\\n\\t\\t\\t<div class=\"login-subscribe\">\\n\\t\\t\\t\\t\\t<a href=\"/users/login/\">Admin Login</a>\\n\\t\\t\\t\\t\\t|\\n\\t\\t\\t\\t\\t<a href=\"/api/rss.xml\">Subscribe via RSS</a>\\n\\t\\t\\t</div>\\n\\t\\t</div>\\n\\t</div>\\n</div>\\n\\n</div>\\n<script nomodule src=\"/javascripts/unsupported_browser_public.js\"></script>\\n\\n<script src=\"https://assets.applicant-tracking.com/webpack/applicant-8c57ac1260634b4ed844.js\"></script>\\n\\n<script>\\n\\tHiringThing.environment = \"production\";\\n\\ti18n.changeLanguage(\"en\");\\n</script>\\n\\n</body>\\n</html>\\n'"
      ]
     },
     "execution_count": 3,
     "metadata": {},
     "output_type": "execute_result"
    }
   ],
   "source": [
    "r = requests.get(url)\n",
    "r.text"
   ]
  },
  {
   "cell_type": "code",
   "execution_count": 4,
   "id": "c16eb413",
   "metadata": {},
   "outputs": [],
   "source": [
    "soup = BeautifulSoup(r.text, 'html.parser')"
   ]
  },
  {
   "cell_type": "code",
   "execution_count": 5,
   "id": "d29d6608",
   "metadata": {},
   "outputs": [
    {
     "data": {
      "text/plain": [
       "'\\n\\n\\n\\n\\n\\n\\n\\n\\n\\n\\n\\n\\n\\n\\n\\n\\n\\n\\n\\nOperations Intern - 2023 @ Voloridge Investment Management\\n\\n\\n\\n\\n\\n \\n\\n\\n\\n\\n\\n\\n\\nOperations Intern - 2023\\n\\n\\n\\t\\t\\t\\t\\t\\t \\tJUPITER, FL\\n\\t\\t\\t\\t\\t\\t\\n\\nInternships\\n\\nInternships\\n\\n\\n\\n\\n\\n\\nVoloridge Investment Management is seeking an Operations Intern to assist our Trading Operations Team and Chief Operating Officer in completing project-based research designed to support trading, finance, and other activities essential to the ongoing operations of Voloridge. Our Operations Team works together in a collaborative entrepreneurial environment designed to meet the Voloridge mission of delivering superior risk-adjusted returns using proprietary modeling techniques.Summary of Job FunctionsWork on projects for COO across trading, middle office and investor relations.\\xa0 \\xa0\\xa0Assist with creation and maintenance of reporting framework for trading group.  Perform data quality checks of trading and middle office systems.  Conduct outside market research and present at periodic meetings.Minimum RequirementsCompletion of at least one year of an undergraduate degree program in Computer Science / Finance / Accounting or equivalent field of study.Advanced knowledge of Excel (Able to create worksheet formulas, extract and validate data, use advanced filters and merge workbooks, VBA).Strong math background through demonstrated coursework.Preferred Skills and Previous Experience \\xa0Experience with programming languages such as Python / SQL / C#.Additional InformationVoloridge Investment Management is an SEC registered investment advisor. A private investment company founded in 2009, our mission is to deliver superior risk-adjusted returns for qualified investors, using advanced proprietary modeling technology, conservative investment tactics and sophisticated risk management.Voloridge Investment Management is an Equal Opportunity Employer. All qualified applicants are encouraged to apply and will receive consideration for employment without regard to race, color, religion, sex, sexual orientation, gender identity, national origin, disability, protected veteran status, or any other legally protected characteristic or status.\\n\\n\\n\\n\\n\\n\\n\\n\\n\\n\\nGet Updates\\n\\n\\n\\t\\t\\t\\t\\tAre you interested in hearing about new opportunities at Voloridge Investment Management in real time?\\xa0Enter your email address to be notified automatically when new positions are posted.\\n\\t\\t\\t\\t\\n\\n\\n\\n\\n\\t\\t\\t\\tPowered by HiringThing\\n\\t\\t\\t\\t© 2022\\n\\t\\t\\t\\n\\nAdmin Login\\n\\t\\t\\t\\t\\t|\\n\\t\\t\\t\\t\\tSubscribe via RSS\\n\\n\\n\\n\\n\\n\\n\\n\\n\\n\\n'"
      ]
     },
     "execution_count": 5,
     "metadata": {},
     "output_type": "execute_result"
    }
   ],
   "source": [
    "soup.get_text()"
   ]
  },
  {
   "cell_type": "code",
   "execution_count": 6,
   "id": "60f822f1",
   "metadata": {},
   "outputs": [
    {
     "name": "stderr",
     "output_type": "stream",
     "text": [
      "/Users/mick/opt/anaconda3/envs/auto/lib/python3.10/site-packages/tqdm/auto.py:22: TqdmWarning: IProgress not found. Please update jupyter and ipywidgets. See https://ipywidgets.readthedocs.io/en/stable/user_install.html\n",
      "  from .autonotebook import tqdm as notebook_tqdm\n"
     ]
    }
   ],
   "source": [
    "import spacy\n",
    "from collections import Counter\n",
    "from string import punctuation"
   ]
  },
  {
   "cell_type": "code",
   "execution_count": 7,
   "id": "105f6faa",
   "metadata": {},
   "outputs": [
    {
     "name": "stdout",
     "output_type": "stream",
     "text": [
      "depth\n",
      "knowledge\n",
      "algorithmsproficiency\n",
      "mysql\n",
      "processing\n",
      "hadoop\n",
      "skillsable\n",
      "python\n",
      "strong\n",
      "php\n"
     ]
    }
   ],
   "source": [
    "nlp = spacy.load(\"en_core_web_sm\")\n",
    "# nlp = spacy.load(\"en_core_web_trf\")\n",
    "def get_hotwords(text):\n",
    "    result = []\n",
    "    pos_tag = ['PROPN', 'ADJ', 'NOUN'] \n",
    "    doc = nlp(text.lower()) \n",
    "    for token in doc:\n",
    "        if(token.text in nlp.Defaults.stop_words or token.text in punctuation):\n",
    "            continue\n",
    "        if(token.pos_ in pos_tag):\n",
    "            result.append(token.text)\n",
    "    return result\n",
    "new_text = \"\"\"\n",
    "You may meet or have interest in any one of the following qualifications:Strong object-oriented design skills, \n",
    "coupled with a deep knowledge of data structures and algorithmsProficiency in one or more of the following developer \n",
    "skills: Java, C/C++, PHP, Python, Ruby, Unix, MySQL, Clojure, Scala, Java Script, CSS, HTML5Experience in \n",
    "sophisticated methodologies such as Data Modeling, Validation, Processing, Hadoop, MapReduce, Mongo, PigExperience \n",
    "with web frameworks such as AngularJS, NodeJS, SproutCoreProven experience in application development in Objective-C \n",
    "for macOS or iOS a plusClient-Server protocol & API design SkillsAble to craft multi-functional requirements and \n",
    "translate them into practical engineering tasksA fundamental knowledge of embedded processors, with in-depth \n",
    "knowledge of real time operating system concepts.\n",
    "\"\"\"\n",
    "output = set(get_hotwords(new_text))\n",
    "most_common_list = Counter(output).most_common(10)\n",
    "for item in most_common_list:\n",
    "    print(item[0])"
   ]
  },
  {
   "cell_type": "code",
   "execution_count": 8,
   "id": "4ad9053a",
   "metadata": {},
   "outputs": [
    {
     "name": "stdout",
     "output_type": "stream",
     "text": [
      "(U.S., the first day, CPT, OPT, STEM)\n"
     ]
    }
   ],
   "source": [
    "nlp = spacy.load(\"en_core_web_sm\")\n",
    "# text = \"\"\"spaCy is an open-source software library for advanced natural language processing, \n",
    "# written in the programming languages Python and Cython. The library is published under the MIT license\n",
    "# and its main developers are Matthew Honnibal and Ines Montani, the founders of the software company Explosion.\"\"\"\n",
    "text = \"\"\"\n",
    "Legal authorization to work in the U.S. is required on the first day of employment including F-1 students using CPT, OPT or STEM\n",
    "\"\"\"\n",
    "doc = nlp(text)\n",
    "print(doc.ents)"
   ]
  },
  {
   "cell_type": "code",
   "execution_count": 9,
   "id": "12e6a939",
   "metadata": {},
   "outputs": [],
   "source": [
    "from __future__ import unicode_literals, print_function\n",
    "import random\n",
    "from pathlib import Path\n",
    "import spacy\n",
    "from tqdm import tqdm\n",
    "from spacy.training import Example"
   ]
  },
  {
   "cell_type": "code",
   "execution_count": 10,
   "id": "31bb663c",
   "metadata": {},
   "outputs": [],
   "source": [
    "TRAIN_DATA = list()\n",
    "\n",
    "raw_data = [\n",
    "    \"Pursuing a Bachelors, Masters or PhD in technical field – Computer Science/Engineering, Math, Physics, Analytical/Computational Finance or equivalent\",\n",
    "    \"Demonstrated experience developing software on Linux using Python and accessing/manipulating data with SQL, Pandas and/or PySpark.\",\n",
    "    \"Exposure to or academic project work utilizing one or more Python Machine Learning frameworks. libraries and/or Machine Learning workflow tools, such as LightGBM, scikit-learn, statsmodels, XGBoost and/or MLFlow\",\n",
    "    \"Understanding of the core concepts of distributing computing, database design, and data storage\",\n",
    "    \"Familiarity with Docker, Kubernetes, Kafka, Flink/Spark/Kafka-Streams, or cloud technologies is a plus\",\n",
    "    \"You are familiar with programming languages and web frameworks like Ruby (Rails, EventMachine), Python (Django, Flask), or Node.js (Express)\",\n",
    "    \"You strive to build rich and dynamic web applications with front-end frameworks such as React, Redux, Ember, or Angular\",\n",
    "    \"You have worked with SQL and relational Databases\",\n",
    "    \"Strong object-oriented design skills, coupled with a deep knowledge of data structures and algorithms\",\n",
    "    \"Proficiency in one or more of the following developer skills: Java, C/C++, PHP, Python, Ruby, Unix, MySQL, Clojure, Scala, Java Script, CSS, HTML5\",\n",
    "    \"Experience in sophisticated methodologies such as Data Modeling, Validation, Processing, Hadoop, MapReduce, Mongo, Pig\",\n",
    "    \"Experience with web frameworks such as AngularJS, NodeJS, SproutCore\",\n",
    "    \"A fundamental knowledge of embedded processors, with in-depth knowledge of real time operating system concepts.\",\n",
    "    \"Entry-level experience in a language such as C, C#, Python, Java, or Rust\",\n",
    "    \"Minimum of 6 months of experience working with: Object Oriented Programming (e.g., C#, C++, Java, Python)\",\n",
    "    \"Interns will be mentored by experienced Software Developers and immersed in significant enhancements to our production trading system. They will also gain valuable technology knowledge with classroom training. Proficiency with C or C++ and Linux is preferred. Python is a plus.\",\n",
    "    \"The candidate should have a strong technical background.  It is preferred that the candidate has at least one year experience programming in SAS.  The candidate should have received or is pursuing a degree in engineering, life sciences, computer science, mathematics, statistics or biostatistics.\",\n",
    "    \"Exposure to any of the following concepts: AWS and other Web Technologies, schedulers, workflows, state machines, multi-threading, and networking protocols\",\n",
    "    \"Experience with programming languages such as C# / .Net / Python.\",\n",
    "    \"SQL and / or experience working with large, complex data sets a plus.\",\n",
    "    \"Experience with Jupyter Notebook.\",\n",
    "]\n",
    "\n",
    "vocabs = [[\"Computer Science/Engineering\", \"Math\", \"Physics\", \"Analytical/Computational Finance\"], \n",
    "          [\"Linux\", \"Python\", \"SQL\", \"Pandas\", \"PySpark\"], \n",
    "          [\"LightGBM\", \"scikit-learn\", \"statsmodels\", \"XGBoost\", \"MLFlow\"], \n",
    "          [\"distributing computing\", \"database design\", \"data storage\"], \n",
    "          [\"Docker\", \"Kubernetes\", \"Kafka\", \"Flink/Spark/Kafka-Streams\"],\n",
    "          [\"Ruby\", \"Rails\", \"EventMachine\", \"Python\", \"Django\", \"Flask\", \"Node.js\", \"Express\"],\n",
    "          [\"React\", \"Redux\", \"Ember\", \"Angular\"],\n",
    "          [\"SQL\", \"relational Databases\"],\n",
    "          [\"object-oriented\", \"data structures\", \"algorithms\"],\n",
    "          [\"Java\", \"C\", \"C++\", \"PHP\", \"Python\", \"Ruby\", \"Unix\", \"MySQL\", \"Clojure\", \"Scala\", \"Java Script\", \"CSS\", \"HTML5\"],\n",
    "          [\"Data Modeling\", \"Validation\", \"Processing\", \"Hadoop\", \"MapReduce\", \"Mongo\", \"Pig\"],\n",
    "          [\"AngularJS\", \"NodeJS\", \"SproutCore\"],\n",
    "          [\"embedded processors\", \"operating system\"],\n",
    "          [\"C\", \"C#\", \"Python\", \"Java\", \"Rust\"],\n",
    "          [\"Object Oriented\", \"C#\", \"C++\", \"Java\", \"Python\"],\n",
    "          [\"C\", \"C++\", \"Linux\", \"Python\"],\n",
    "          [\"SAS\", \"engineering\", \"life sciences\", \"computer science\", \"mathematics\", \"statistics\", \"biostatistics\"],\n",
    "          [\"AWS\", \"schedulers\", \"workflows\", \"state machines\", \"multi-threading\", \"networking protocols\"],\n",
    "          [\"C#\", \".Net\", \"Python\"],\n",
    "          [\"SQL\"],\n",
    "          [\"Jupyter Notebook\"]]\n",
    "\n",
    "# raw_data[0].index('a') - start\n",
    "# raw_data[0].index('a') + len('a') - end\n",
    "\n",
    "for index, words in enumerate(vocabs):\n",
    "    entities = list()\n",
    "    for word in words:\n",
    "        start = raw_data[index].index(word)\n",
    "        end = start + len(word)\n",
    "        \n",
    "        entities.append((start, end, \"TECH\"))\n",
    "        \n",
    "    TRAIN_DATA.append((raw_data[index], {'entities': entities}))"
   ]
  },
  {
   "cell_type": "code",
   "execution_count": 14,
   "id": "b1f1126f",
   "metadata": {},
   "outputs": [],
   "source": [
    "# TRAIN_DATA = [\n",
    "#     ('Who is Nishanth?', {\n",
    "#         'entities': [(7, 15, 'PERSON')]\n",
    "#     }),\n",
    "#      ('Who is Kamal Khumar?', {\n",
    "#         'entities': [(7, 19, 'PERSON')]\n",
    "#     }),\n",
    "#     ('I like London and Berlin.', {\n",
    "#         'entities': [(7, 13, 'LOC'), (18, 24, 'LOC')]\n",
    "#     }),\n",
    "#     ('Strong object-oriented design skills, coupled with a deep knowledge of data structures and algorithmsProficiency in one or more of the following developer skills: Java, C/C++, PHP, Python, Ruby, Unix, MySQL, Clojure, Scala, Java Script, CSS, HTML5', {\n",
    "#         'entities': [(7, 22, 'TECH')]\n",
    "#     })\n",
    "# ]"
   ]
  },
  {
   "cell_type": "code",
   "execution_count": 25,
   "id": "bdb3ce4d",
   "metadata": {},
   "outputs": [],
   "source": [
    "model = None\n",
    "output_dir=Path(\"./ner\")\n",
    "n_iter=150"
   ]
  },
  {
   "cell_type": "code",
   "execution_count": 16,
   "id": "9448cf21",
   "metadata": {},
   "outputs": [
    {
     "name": "stdout",
     "output_type": "stream",
     "text": [
      "Created blank 'en_core_web_sm' model\n"
     ]
    }
   ],
   "source": [
    "#load the model\n",
    "\n",
    "if model is not None:\n",
    "    nlp = spacy.load(model)  \n",
    "    print(\"Loaded model '%s'\" % model)\n",
    "else:\n",
    "    nlp = spacy.blank('en')  \n",
    "    print(\"Created blank 'en_core_web_sm' model\")\n",
    "\n",
    "#set up the pipeline\n",
    "\n",
    "if 'ner' not in nlp.pipe_names:\n",
    "#     ner = nlp.create_pipe('ner')\n",
    "    ner = nlp.add_pipe('ner', last=True)\n",
    "else:\n",
    "    ner = nlp.get_pipe('ner')"
   ]
  },
  {
   "cell_type": "code",
   "execution_count": 17,
   "id": "fc0b92b7",
   "metadata": {},
   "outputs": [
    {
     "name": "stderr",
     "output_type": "stream",
     "text": [
      "6it [00:00, 28.51it/s]"
     ]
    },
    {
     "name": "stdout",
     "output_type": "stream",
     "text": [
      "{'ner': 61.469153344631195}\n",
      "{'ner': 84.79786288738251}\n",
      "{'ner': 117.27209144830704}\n",
      "{'ner': 137.49932399392128}\n",
      "{'ner': 155.00015664100647}\n",
      "{'ner': 167.43837296962738}\n",
      "{'ner': 190.4175349920988}\n"
     ]
    },
    {
     "name": "stderr",
     "output_type": "stream",
     "text": [
      "11it [00:00, 27.54it/s]\n"
     ]
    },
    {
     "name": "stdout",
     "output_type": "stream",
     "text": [
      "{'ner': 202.77397238463163}\n",
      "{'ner': 212.83604501653463}\n",
      "{'ner': 244.02364541435963}\n",
      "{'ner': 250.16052795769065}\n"
     ]
    },
    {
     "name": "stderr",
     "output_type": "stream",
     "text": [
      "\r",
      "0it [00:00, ?it/s]"
     ]
    },
    {
     "name": "stdout",
     "output_type": "stream",
     "text": [
      "{'ner': 13.387240100888448}\n",
      "{'ner': 28.476664086190794}\n",
      "{'ner': 42.657580653814875}\n"
     ]
    },
    {
     "name": "stderr",
     "output_type": "stream",
     "text": [
      "\r",
      "4it [00:00, 33.30it/s]"
     ]
    },
    {
     "name": "stdout",
     "output_type": "stream",
     "text": [
      "{'ner': 50.728285932620565}\n",
      "{'ner': 61.33998065494052}\n",
      "{'ner': 68.38137569889477}\n",
      "{'ner': 88.69491303892391}\n"
     ]
    },
    {
     "name": "stderr",
     "output_type": "stream",
     "text": [
      "\r",
      "8it [00:00, 29.73it/s]"
     ]
    },
    {
     "name": "stdout",
     "output_type": "stream",
     "text": [
      "{'ner': 104.9489524757937}\n",
      "{'ner': 122.2453847969864}\n"
     ]
    },
    {
     "name": "stderr",
     "output_type": "stream",
     "text": [
      "11it [00:00, 29.98it/s]\n"
     ]
    },
    {
     "name": "stdout",
     "output_type": "stream",
     "text": [
      "{'ner': 144.257425254209}\n",
      "{'ner': 146.0551142505701}\n"
     ]
    },
    {
     "name": "stderr",
     "output_type": "stream",
     "text": [
      "\r",
      "0it [00:00, ?it/s]"
     ]
    },
    {
     "name": "stdout",
     "output_type": "stream",
     "text": [
      "{'ner': 16.40735161001794}\n",
      "{'ner': 27.894985698338132}\n"
     ]
    },
    {
     "name": "stderr",
     "output_type": "stream",
     "text": [
      "\r",
      "3it [00:00, 29.25it/s]"
     ]
    },
    {
     "name": "stdout",
     "output_type": "stream",
     "text": [
      "{'ner': 41.248110824788455}\n",
      "{'ner': 58.2289764459274}\n",
      "{'ner': 65.28474138620368}\n"
     ]
    },
    {
     "name": "stderr",
     "output_type": "stream",
     "text": [
      "\r",
      "7it [00:00, 31.21it/s]"
     ]
    },
    {
     "name": "stdout",
     "output_type": "stream",
     "text": [
      "{'ner': 71.1667955864832}\n",
      "{'ner': 81.36199943585234}\n",
      "{'ner': 93.53712232868565}\n",
      "{'ner': 104.91553038054553}\n"
     ]
    },
    {
     "name": "stderr",
     "output_type": "stream",
     "text": [
      "11it [00:00, 31.75it/s]\n"
     ]
    },
    {
     "name": "stdout",
     "output_type": "stream",
     "text": [
      "{'ner': 115.79838293855846}\n",
      "{'ner': 125.57787229309452}\n"
     ]
    },
    {
     "name": "stderr",
     "output_type": "stream",
     "text": [
      "\r",
      "0it [00:00, ?it/s]"
     ]
    },
    {
     "name": "stdout",
     "output_type": "stream",
     "text": [
      "{'ner': 14.074900401476043}\n"
     ]
    },
    {
     "name": "stderr",
     "output_type": "stream",
     "text": [
      "\r",
      "3it [00:00, 25.87it/s]"
     ]
    },
    {
     "name": "stdout",
     "output_type": "stream",
     "text": [
      "{'ner': 23.867307277407235}\n",
      "{'ner': 41.56088190579112}\n",
      "{'ner': 50.93215101848409}\n"
     ]
    },
    {
     "name": "stderr",
     "output_type": "stream",
     "text": [
      "\r",
      "6it [00:00, 27.75it/s]"
     ]
    },
    {
     "name": "stdout",
     "output_type": "stream",
     "text": [
      "{'ner': 61.16580122842015}\n",
      "{'ner': 67.30843402605444}\n",
      "{'ner': 73.92578389302832}\n"
     ]
    },
    {
     "name": "stderr",
     "output_type": "stream",
     "text": [
      "\r",
      "10it [00:00, 30.30it/s]"
     ]
    },
    {
     "name": "stdout",
     "output_type": "stream",
     "text": [
      "{'ner': 78.41606165482173}\n",
      "{'ner': 83.84824492285841}\n",
      "{'ner': 88.625427702912}\n"
     ]
    },
    {
     "name": "stderr",
     "output_type": "stream",
     "text": [
      "11it [00:00, 30.55it/s]\n"
     ]
    },
    {
     "name": "stdout",
     "output_type": "stream",
     "text": [
      "{'ner': 93.49960714057453}\n"
     ]
    },
    {
     "name": "stderr",
     "output_type": "stream",
     "text": [
      "\r",
      "0it [00:00, ?it/s]"
     ]
    },
    {
     "name": "stdout",
     "output_type": "stream",
     "text": [
      "{'ner': 5.489001531037596}\n",
      "{'ner': 15.318036218817875}\n"
     ]
    },
    {
     "name": "stderr",
     "output_type": "stream",
     "text": [
      "\r",
      "3it [00:00, 29.35it/s]"
     ]
    },
    {
     "name": "stdout",
     "output_type": "stream",
     "text": [
      "{'ner': 25.152680422156386}\n",
      "{'ner': 29.902178264707114}\n",
      "{'ner': 43.863846307743486}\n"
     ]
    },
    {
     "name": "stderr",
     "output_type": "stream",
     "text": [
      "\r",
      "6it [00:00, 26.94it/s]"
     ]
    },
    {
     "name": "stdout",
     "output_type": "stream",
     "text": [
      "{'ner': 55.30129544459532}\n",
      "{'ner': 62.12847834913184}\n",
      "{'ner': 65.41070103568948}\n"
     ]
    },
    {
     "name": "stderr",
     "output_type": "stream",
     "text": [
      "\r",
      "9it [00:00, 28.16it/s]"
     ]
    },
    {
     "name": "stdout",
     "output_type": "stream",
     "text": [
      "{'ner': 68.78430036523005}\n",
      "{'ner': 75.7762182309751}\n"
     ]
    },
    {
     "name": "stderr",
     "output_type": "stream",
     "text": [
      "11it [00:00, 29.71it/s]\n"
     ]
    },
    {
     "name": "stdout",
     "output_type": "stream",
     "text": [
      "{'ner': 78.96897423154076}\n"
     ]
    },
    {
     "name": "stderr",
     "output_type": "stream",
     "text": [
      "\r",
      "0it [00:00, ?it/s]"
     ]
    },
    {
     "name": "stdout",
     "output_type": "stream",
     "text": [
      "{'ner': 10.883330245243819}\n"
     ]
    },
    {
     "name": "stderr",
     "output_type": "stream",
     "text": [
      "\r",
      "3it [00:00, 22.50it/s]"
     ]
    },
    {
     "name": "stdout",
     "output_type": "stream",
     "text": [
      "{'ner': 19.748783328652088}\n",
      "{'ner': 24.21293317586697}\n",
      "{'ner': 30.457481182017474}\n"
     ]
    },
    {
     "name": "stderr",
     "output_type": "stream",
     "text": [
      "\r",
      "7it [00:00, 27.91it/s]"
     ]
    },
    {
     "name": "stdout",
     "output_type": "stream",
     "text": [
      "{'ner': 37.14343769829412}\n",
      "{'ner': 42.64573583197378}\n",
      "{'ner': 47.6223172493484}\n",
      "{'ner': 49.79378212816485}\n"
     ]
    },
    {
     "name": "stderr",
     "output_type": "stream",
     "text": [
      "11it [00:00, 30.13it/s]\n"
     ]
    },
    {
     "name": "stdout",
     "output_type": "stream",
     "text": [
      "{'ner': 53.9488850932823}\n",
      "{'ner': 57.45471679993464}\n",
      "{'ner': 60.04011384845603}\n"
     ]
    },
    {
     "name": "stderr",
     "output_type": "stream",
     "text": [
      "\r",
      "0it [00:00, ?it/s]"
     ]
    },
    {
     "name": "stdout",
     "output_type": "stream",
     "text": [
      "{'ner': 3.401116797169626}\n"
     ]
    },
    {
     "name": "stderr",
     "output_type": "stream",
     "text": [
      "\r",
      "3it [00:00, 29.26it/s]"
     ]
    },
    {
     "name": "stdout",
     "output_type": "stream",
     "text": [
      "{'ner': 10.956602297392887}\n",
      "{'ner': 20.49062087679934}\n",
      "{'ner': 27.26755721538631}\n"
     ]
    },
    {
     "name": "stderr",
     "output_type": "stream",
     "text": [
      "\r",
      "6it [00:00, 28.96it/s]"
     ]
    },
    {
     "name": "stdout",
     "output_type": "stream",
     "text": [
      "{'ner': 34.16552767931754}\n",
      "{'ner': 35.69972094990657}\n",
      "{'ner': 51.702343889059925}\n",
      "{'ner': 58.14562942720055}\n",
      "{'ner': 64.03328224873883}\n"
     ]
    },
    {
     "name": "stderr",
     "output_type": "stream",
     "text": [
      "11it [00:00, 30.18it/s]\n"
     ]
    },
    {
     "name": "stdout",
     "output_type": "stream",
     "text": [
      "{'ner': 67.83087970258615}\n",
      "{'ner': 68.38870879330278}\n"
     ]
    },
    {
     "name": "stderr",
     "output_type": "stream",
     "text": [
      "\r",
      "0it [00:00, ?it/s]"
     ]
    },
    {
     "name": "stdout",
     "output_type": "stream",
     "text": [
      "{'ner': 11.8267556179893}\n"
     ]
    },
    {
     "name": "stderr",
     "output_type": "stream",
     "text": [
      "\r",
      "2it [00:00, 17.10it/s]"
     ]
    },
    {
     "name": "stdout",
     "output_type": "stream",
     "text": [
      "{'ner': 24.19048116178815}\n",
      "{'ner': 27.741701459915653}\n"
     ]
    },
    {
     "name": "stderr",
     "output_type": "stream",
     "text": [
      "\r",
      "6it [00:00, 25.67it/s]"
     ]
    },
    {
     "name": "stdout",
     "output_type": "stream",
     "text": [
      "{'ner': 30.023569156446662}\n",
      "{'ner': 30.27877463789151}\n",
      "{'ner': 34.70955418938232}\n",
      "{'ner': 43.30549577719976}\n"
     ]
    },
    {
     "name": "stderr",
     "output_type": "stream",
     "text": [
      "\r",
      "9it [00:00, 24.70it/s]"
     ]
    },
    {
     "name": "stdout",
     "output_type": "stream",
     "text": [
      "{'ner': 48.31425774637282}\n",
      "{'ner': 52.01596701182533}\n"
     ]
    },
    {
     "name": "stderr",
     "output_type": "stream",
     "text": [
      "11it [00:00, 26.12it/s]\n"
     ]
    },
    {
     "name": "stdout",
     "output_type": "stream",
     "text": [
      "{'ner': 56.96618409594971}\n",
      "{'ner': 61.02314072575337}\n"
     ]
    },
    {
     "name": "stderr",
     "output_type": "stream",
     "text": [
      "\r",
      "0it [00:00, ?it/s]"
     ]
    },
    {
     "name": "stdout",
     "output_type": "stream",
     "text": [
      "{'ner': 7.179156869130548}\n",
      "{'ner': 13.104798999400478}\n",
      "{'ner': 19.324242849879276}\n"
     ]
    },
    {
     "name": "stderr",
     "output_type": "stream",
     "text": [
      "\r",
      "4it [00:00, 33.89it/s]"
     ]
    },
    {
     "name": "stdout",
     "output_type": "stream",
     "text": [
      "{'ner': 26.580030314703947}\n",
      "{'ner': 30.6015101566887}\n",
      "{'ner': 39.61180854140629}\n"
     ]
    },
    {
     "name": "stderr",
     "output_type": "stream",
     "text": [
      "\r",
      "8it [00:00, 29.20it/s]"
     ]
    },
    {
     "name": "stdout",
     "output_type": "stream",
     "text": [
      "{'ner': 48.52952768682996}\n",
      "{'ner': 56.049604914820236}\n",
      "{'ner': 63.57152113707764}\n"
     ]
    },
    {
     "name": "stderr",
     "output_type": "stream",
     "text": [
      "11it [00:00, 31.10it/s]\n"
     ]
    },
    {
     "name": "stdout",
     "output_type": "stream",
     "text": [
      "{'ner': 74.73731903478625}\n",
      "{'ner': 75.06757763077695}\n"
     ]
    },
    {
     "name": "stderr",
     "output_type": "stream",
     "text": [
      "\r",
      "0it [00:00, ?it/s]"
     ]
    },
    {
     "name": "stdout",
     "output_type": "stream",
     "text": [
      "{'ner': 7.26179035543862}\n",
      "{'ner': 12.594483896653458}\n"
     ]
    },
    {
     "name": "stderr",
     "output_type": "stream",
     "text": [
      "\r",
      "3it [00:00, 29.52it/s]"
     ]
    },
    {
     "name": "stdout",
     "output_type": "stream",
     "text": [
      "{'ner': 19.529671281003232}\n",
      "{'ner': 22.447973772662806}\n",
      "{'ner': 30.470224251812}\n"
     ]
    },
    {
     "name": "stderr",
     "output_type": "stream",
     "text": [
      "\r",
      "6it [00:00, 28.52it/s]"
     ]
    },
    {
     "name": "stdout",
     "output_type": "stream",
     "text": [
      "{'ner': 33.69323998705278}\n",
      "{'ner': 39.4323731188278}\n",
      "{'ner': 45.03280450764697}\n"
     ]
    },
    {
     "name": "stderr",
     "output_type": "stream",
     "text": [
      "\r",
      "9it [00:00, 26.62it/s]"
     ]
    },
    {
     "name": "stdout",
     "output_type": "stream",
     "text": [
      "{'ner': 49.132506275456514}\n",
      "{'ner': 52.00929711266081}\n"
     ]
    },
    {
     "name": "stderr",
     "output_type": "stream",
     "text": [
      "11it [00:00, 28.00it/s]\n"
     ]
    },
    {
     "name": "stdout",
     "output_type": "stream",
     "text": [
      "{'ner': 53.69060078197334}\n"
     ]
    },
    {
     "name": "stderr",
     "output_type": "stream",
     "text": [
      "\r",
      "0it [00:00, ?it/s]"
     ]
    },
    {
     "name": "stdout",
     "output_type": "stream",
     "text": [
      "{'ner': 4.093282354251679}\n",
      "{'ner': 7.729685951306568}\n"
     ]
    },
    {
     "name": "stderr",
     "output_type": "stream",
     "text": [
      "\r",
      "3it [00:00, 26.28it/s]"
     ]
    },
    {
     "name": "stdout",
     "output_type": "stream",
     "text": [
      "{'ner': 8.935179422128678}\n",
      "{'ner': 13.425061668588391}\n",
      "{'ner': 26.21642023447115}\n"
     ]
    },
    {
     "name": "stderr",
     "output_type": "stream",
     "text": [
      "\r",
      "6it [00:00, 27.37it/s]"
     ]
    },
    {
     "name": "stdout",
     "output_type": "stream",
     "text": [
      "{'ner': 29.13293449413936}\n",
      "{'ner': 32.71327365531879}\n",
      "{'ner': 35.309972948575336}\n"
     ]
    },
    {
     "name": "stderr",
     "output_type": "stream",
     "text": [
      "11it [00:00, 26.87it/s]\n"
     ]
    },
    {
     "name": "stdout",
     "output_type": "stream",
     "text": [
      "{'ner': 37.037100567128036}\n",
      "{'ner': 40.4720304712667}\n",
      "{'ner': 40.98283904299947}\n"
     ]
    },
    {
     "name": "stderr",
     "output_type": "stream",
     "text": [
      "3it [00:00, 28.30it/s]"
     ]
    },
    {
     "name": "stdout",
     "output_type": "stream",
     "text": [
      "{'ner': 8.741789998499033}\n",
      "{'ner': 10.84000375980693}\n",
      "{'ner': 12.451208389852132}\n",
      "{'ner': 24.171925189243495}\n"
     ]
    },
    {
     "name": "stderr",
     "output_type": "stream",
     "text": [
      "\r",
      "7it [00:00, 31.40it/s]"
     ]
    },
    {
     "name": "stdout",
     "output_type": "stream",
     "text": [
      "{'ner': 25.60329669195118}\n",
      "{'ner': 26.713395918700947}\n",
      "{'ner': 30.157060543644967}\n"
     ]
    },
    {
     "name": "stderr",
     "output_type": "stream",
     "text": [
      "11it [00:00, 32.47it/s]\n"
     ]
    },
    {
     "name": "stdout",
     "output_type": "stream",
     "text": [
      "{'ner': 32.60018699278889}\n",
      "{'ner': 37.70442909296153}\n",
      "{'ner': 40.328889732430504}\n",
      "{'ner': 40.33124797451189}\n"
     ]
    },
    {
     "name": "stderr",
     "output_type": "stream",
     "text": [
      "3it [00:00, 24.76it/s]"
     ]
    },
    {
     "name": "stdout",
     "output_type": "stream",
     "text": [
      "{'ner': 3.6235443155644522}\n",
      "{'ner': 4.850018519347807}\n",
      "{'ner': 10.857923579232825}\n"
     ]
    },
    {
     "name": "stderr",
     "output_type": "stream",
     "text": [
      "\r",
      "6it [00:00, 25.52it/s]"
     ]
    },
    {
     "name": "stdout",
     "output_type": "stream",
     "text": [
      "{'ner': 13.056007223560552}\n",
      "{'ner': 13.184892757367091}\n",
      "{'ner': 13.24795012644818}\n"
     ]
    },
    {
     "name": "stderr",
     "output_type": "stream",
     "text": [
      "\r",
      "9it [00:00, 26.33it/s]"
     ]
    },
    {
     "name": "stdout",
     "output_type": "stream",
     "text": [
      "{'ner': 15.048658882051884}\n",
      "{'ner': 17.03404807388389}\n",
      "{'ner': 22.405125750586322}\n"
     ]
    },
    {
     "name": "stderr",
     "output_type": "stream",
     "text": [
      "11it [00:00, 26.86it/s]\n"
     ]
    },
    {
     "name": "stdout",
     "output_type": "stream",
     "text": [
      "{'ner': 27.63038460668971}\n",
      "{'ner': 31.574172849502723}\n"
     ]
    },
    {
     "name": "stderr",
     "output_type": "stream",
     "text": [
      "\r",
      "0it [00:00, ?it/s]"
     ]
    },
    {
     "name": "stdout",
     "output_type": "stream",
     "text": [
      "{'ner': 2.8197433087105788}\n"
     ]
    },
    {
     "name": "stderr",
     "output_type": "stream",
     "text": [
      "\r",
      "2it [00:00, 19.53it/s]"
     ]
    },
    {
     "name": "stdout",
     "output_type": "stream",
     "text": [
      "{'ner': 3.995238473217599}\n",
      "{'ner': 4.219522395317201}\n",
      "{'ner': 6.40747976431717}\n"
     ]
    },
    {
     "name": "stderr",
     "output_type": "stream",
     "text": [
      "\r",
      "5it [00:00, 25.06it/s]"
     ]
    },
    {
     "name": "stdout",
     "output_type": "stream",
     "text": [
      "{'ner': 8.75972445106093}\n",
      "{'ner': 14.871957088115801}\n",
      "{'ner': 21.72082198189279}\n"
     ]
    },
    {
     "name": "stderr",
     "output_type": "stream",
     "text": [
      "\r",
      "8it [00:00, 25.11it/s]"
     ]
    },
    {
     "name": "stdout",
     "output_type": "stream",
     "text": [
      "{'ner': 26.88549162924349}\n",
      "{'ner': 27.11909285362055}\n",
      "{'ner': 31.11020628706296}\n"
     ]
    },
    {
     "name": "stderr",
     "output_type": "stream",
     "text": [
      "11it [00:00, 26.84it/s]\n"
     ]
    },
    {
     "name": "stdout",
     "output_type": "stream",
     "text": [
      "{'ner': 31.32190153985506}\n"
     ]
    },
    {
     "name": "stderr",
     "output_type": "stream",
     "text": [
      "\r",
      "0it [00:00, ?it/s]"
     ]
    },
    {
     "name": "stdout",
     "output_type": "stream",
     "text": [
      "{'ner': 1.934375078213544}\n",
      "{'ner': 5.0899068247456265}\n"
     ]
    },
    {
     "name": "stderr",
     "output_type": "stream",
     "text": [
      "\r",
      "3it [00:00, 24.71it/s]"
     ]
    },
    {
     "name": "stdout",
     "output_type": "stream",
     "text": [
      "{'ner': 11.158097743892101}\n",
      "{'ner': 11.709384290476324}\n",
      "{'ner': 20.42047735886208}\n",
      "{'ner': 21.831548221553284}\n"
     ]
    },
    {
     "name": "stderr",
     "output_type": "stream",
     "text": [
      "\r",
      "7it [00:00, 27.62it/s]"
     ]
    },
    {
     "name": "stdout",
     "output_type": "stream",
     "text": [
      "{'ner': 22.660760162037672}\n",
      "{'ner': 24.65915029955608}\n"
     ]
    },
    {
     "name": "stderr",
     "output_type": "stream",
     "text": [
      "11it [00:00, 29.62it/s]\n"
     ]
    },
    {
     "name": "stdout",
     "output_type": "stream",
     "text": [
      "{'ner': 27.078296337825936}\n",
      "{'ner': 29.13997110797489}\n",
      "{'ner': 31.002368517485255}\n"
     ]
    },
    {
     "name": "stderr",
     "output_type": "stream",
     "text": [
      "\r",
      "0it [00:00, ?it/s]"
     ]
    },
    {
     "name": "stdout",
     "output_type": "stream",
     "text": [
      "{'ner': 3.044250738821164}\n",
      "{'ner': 3.061926707716625}\n"
     ]
    },
    {
     "name": "stderr",
     "output_type": "stream",
     "text": [
      "\r",
      "3it [00:00, 25.95it/s]"
     ]
    },
    {
     "name": "stdout",
     "output_type": "stream",
     "text": [
      "{'ner': 6.452366336181617}\n",
      "{'ner': 11.46525419103667}\n",
      "{'ner': 15.86644764517831}\n"
     ]
    },
    {
     "name": "stderr",
     "output_type": "stream",
     "text": [
      "\r",
      "6it [00:00, 19.81it/s]"
     ]
    },
    {
     "name": "stdout",
     "output_type": "stream",
     "text": [
      "{'ner': 16.76903572924742}\n"
     ]
    },
    {
     "name": "stderr",
     "output_type": "stream",
     "text": [
      "\r",
      "9it [00:00, 22.85it/s]"
     ]
    },
    {
     "name": "stdout",
     "output_type": "stream",
     "text": [
      "{'ner': 23.398565829914425}\n",
      "{'ner': 29.776237956433626}\n",
      "{'ner': 33.449552845848864}\n"
     ]
    },
    {
     "name": "stderr",
     "output_type": "stream",
     "text": [
      "11it [00:00, 24.06it/s]\n"
     ]
    },
    {
     "name": "stdout",
     "output_type": "stream",
     "text": [
      "{'ner': 33.63957316562922}\n",
      "{'ner': 37.78967435861965}\n"
     ]
    },
    {
     "name": "stderr",
     "output_type": "stream",
     "text": [
      "\r",
      "0it [00:00, ?it/s]"
     ]
    },
    {
     "name": "stdout",
     "output_type": "stream",
     "text": [
      "{'ner': 0.013134732446565756}\n",
      "{'ner': 3.531040348244294}\n"
     ]
    },
    {
     "name": "stderr",
     "output_type": "stream",
     "text": [
      "\r",
      "4it [00:00, 28.56it/s]"
     ]
    },
    {
     "name": "stdout",
     "output_type": "stream",
     "text": [
      "{'ner': 6.572402331245453}\n",
      "{'ner': 8.454909640495478}\n",
      "{'ner': 15.636105111094096}\n",
      "{'ner': 16.45589490664327}\n"
     ]
    },
    {
     "name": "stderr",
     "output_type": "stream",
     "text": [
      "\r",
      "7it [00:00, 29.12it/s]"
     ]
    },
    {
     "name": "stdout",
     "output_type": "stream",
     "text": [
      "{'ner': 16.480547083409252}\n",
      "{'ner': 19.205384772940768}\n"
     ]
    },
    {
     "name": "stderr",
     "output_type": "stream",
     "text": [
      "\r",
      "10it [00:00, 27.58it/s]"
     ]
    },
    {
     "name": "stdout",
     "output_type": "stream",
     "text": [
      "{'ner': 23.096830362466644}\n",
      "{'ner': 28.40598725282913}\n"
     ]
    },
    {
     "name": "stderr",
     "output_type": "stream",
     "text": [
      "11it [00:00, 29.08it/s]\n"
     ]
    },
    {
     "name": "stdout",
     "output_type": "stream",
     "text": [
      "{'ner': 28.434015507820046}\n"
     ]
    },
    {
     "name": "stderr",
     "output_type": "stream",
     "text": [
      "\r",
      "0it [00:00, ?it/s]"
     ]
    },
    {
     "name": "stdout",
     "output_type": "stream",
     "text": [
      "{'ner': 0.23485845251678797}\n",
      "{'ner': 0.30231999347199345}\n"
     ]
    },
    {
     "name": "stderr",
     "output_type": "stream",
     "text": [
      "\r",
      "3it [00:00, 24.51it/s]"
     ]
    },
    {
     "name": "stdout",
     "output_type": "stream",
     "text": [
      "{'ner': 3.381275936825676}\n",
      "{'ner': 3.5951879038761465}\n",
      "{'ner': 11.315213700484163}\n"
     ]
    },
    {
     "name": "stderr",
     "output_type": "stream",
     "text": [
      "\r",
      "6it [00:00, 27.33it/s]"
     ]
    },
    {
     "name": "stdout",
     "output_type": "stream",
     "text": [
      "{'ner': 18.46818517590791}\n",
      "{'ner': 19.249124565720273}\n",
      "{'ner': 19.729930044262026}\n"
     ]
    },
    {
     "name": "stderr",
     "output_type": "stream",
     "text": [
      "\r",
      "9it [00:00, 27.07it/s]"
     ]
    },
    {
     "name": "stdout",
     "output_type": "stream",
     "text": [
      "{'ner': 22.09523964082203}\n"
     ]
    },
    {
     "name": "stderr",
     "output_type": "stream",
     "text": [
      "11it [00:00, 28.23it/s]\n"
     ]
    },
    {
     "name": "stdout",
     "output_type": "stream",
     "text": [
      "{'ner': 22.096835970477343}\n",
      "{'ner': 22.15409114367729}\n"
     ]
    },
    {
     "name": "stderr",
     "output_type": "stream",
     "text": [
      "\r",
      "0it [00:00, ?it/s]"
     ]
    },
    {
     "name": "stdout",
     "output_type": "stream",
     "text": [
      "{'ner': 0.6705203816999934}\n",
      "{'ner': 4.683514268707399}\n"
     ]
    },
    {
     "name": "stderr",
     "output_type": "stream",
     "text": [
      "\r",
      "3it [00:00, 26.65it/s]"
     ]
    },
    {
     "name": "stdout",
     "output_type": "stream",
     "text": [
      "{'ner': 10.259206096297895}\n",
      "{'ner': 16.550800250593333}\n",
      "{'ner': 20.487505311694736}\n",
      "{'ner': 23.163725552170554}\n"
     ]
    },
    {
     "name": "stderr",
     "output_type": "stream",
     "text": [
      "\r",
      "7it [00:00, 29.06it/s]"
     ]
    },
    {
     "name": "stdout",
     "output_type": "stream",
     "text": [
      "{'ner': 27.944048434797104}\n",
      "{'ner': 34.07239594204956}\n"
     ]
    },
    {
     "name": "stderr",
     "output_type": "stream",
     "text": [
      "\r",
      "10it [00:00, 29.29it/s]"
     ]
    },
    {
     "name": "stdout",
     "output_type": "stream",
     "text": [
      "{'ner': 34.07269998484777}\n",
      "{'ner': 34.07951151113729}\n"
     ]
    },
    {
     "name": "stderr",
     "output_type": "stream",
     "text": [
      "11it [00:00, 30.43it/s]\n"
     ]
    },
    {
     "name": "stdout",
     "output_type": "stream",
     "text": [
      "{'ner': 34.08379226859114}\n"
     ]
    },
    {
     "name": "stderr",
     "output_type": "stream",
     "text": [
      "\r",
      "0it [00:00, ?it/s]"
     ]
    },
    {
     "name": "stdout",
     "output_type": "stream",
     "text": [
      "{'ner': 0.4704562872865807}\n",
      "{'ner': 0.9786931704768957}\n"
     ]
    },
    {
     "name": "stderr",
     "output_type": "stream",
     "text": [
      "\r",
      "4it [00:00, 31.91it/s]"
     ]
    },
    {
     "name": "stdout",
     "output_type": "stream",
     "text": [
      "{'ner': 2.509452540913165}\n",
      "{'ner': 11.451835990583572}\n",
      "{'ner': 12.098215958416173}\n",
      "{'ner': 13.403093932876411}\n",
      "{'ner': 25.59744209191484}\n"
     ]
    },
    {
     "name": "stderr",
     "output_type": "stream",
     "text": [
      "\r",
      "8it [00:00, 28.01it/s]"
     ]
    },
    {
     "name": "stdout",
     "output_type": "stream",
     "text": [
      "{'ner': 28.309916426006716}\n"
     ]
    },
    {
     "name": "stderr",
     "output_type": "stream",
     "text": [
      "11it [00:00, 29.98it/s]\n"
     ]
    },
    {
     "name": "stdout",
     "output_type": "stream",
     "text": [
      "{'ner': 34.413559746434096}\n",
      "{'ner': 36.058266602182755}\n",
      "{'ner': 36.05826698593269}\n"
     ]
    },
    {
     "name": "stderr",
     "output_type": "stream",
     "text": [
      "\r",
      "0it [00:00, ?it/s]"
     ]
    },
    {
     "name": "stdout",
     "output_type": "stream",
     "text": [
      "{'ner': 2.0067779877778396}\n",
      "{'ner': 2.0145136878026633}\n"
     ]
    },
    {
     "name": "stderr",
     "output_type": "stream",
     "text": [
      "\r",
      "3it [00:00, 29.15it/s]"
     ]
    },
    {
     "name": "stdout",
     "output_type": "stream",
     "text": [
      "{'ner': 7.6851491130846465}\n",
      "{'ner': 7.920852318818029}\n"
     ]
    },
    {
     "name": "stderr",
     "output_type": "stream",
     "text": [
      "\r",
      "6it [00:00, 29.29it/s]"
     ]
    },
    {
     "name": "stdout",
     "output_type": "stream",
     "text": [
      "{'ner': 9.92269042715638}\n",
      "{'ner': 11.984618299121244}\n",
      "{'ner': 14.60479176729971}\n",
      "{'ner': 14.732330557121566}\n"
     ]
    },
    {
     "name": "stderr",
     "output_type": "stream",
     "text": [
      "\r",
      "9it [00:00, 23.71it/s]"
     ]
    },
    {
     "name": "stdout",
     "output_type": "stream",
     "text": [
      "{'ner': 14.788050563169286}\n"
     ]
    },
    {
     "name": "stderr",
     "output_type": "stream",
     "text": [
      "11it [00:00, 25.87it/s]\n"
     ]
    },
    {
     "name": "stdout",
     "output_type": "stream",
     "text": [
      "{'ner': 16.64360930369838}\n",
      "{'ner': 16.643610322975096}\n"
     ]
    },
    {
     "name": "stderr",
     "output_type": "stream",
     "text": [
      "\r",
      "0it [00:00, ?it/s]"
     ]
    },
    {
     "name": "stdout",
     "output_type": "stream",
     "text": [
      "{'ner': 1.6352135251926232}\n",
      "{'ner': 1.792473132119844}\n"
     ]
    },
    {
     "name": "stderr",
     "output_type": "stream",
     "text": [
      "\r",
      "3it [00:00, 24.70it/s]"
     ]
    },
    {
     "name": "stdout",
     "output_type": "stream",
     "text": [
      "{'ner': 5.296626129829362}\n",
      "{'ner': 8.134928740968732}\n"
     ]
    },
    {
     "name": "stderr",
     "output_type": "stream",
     "text": [
      "\r",
      "6it [00:00, 26.01it/s]"
     ]
    },
    {
     "name": "stdout",
     "output_type": "stream",
     "text": [
      "{'ner': 8.729026129730885}\n",
      "{'ner': 12.442139239990926}\n",
      "{'ner': 12.448038598696039}\n",
      "{'ner': 12.449839581110197}\n"
     ]
    },
    {
     "name": "stderr",
     "output_type": "stream",
     "text": [
      "\r",
      "10it [00:00, 28.96it/s]"
     ]
    },
    {
     "name": "stdout",
     "output_type": "stream",
     "text": [
      "{'ner': 14.038881736731762}\n",
      "{'ner': 16.42084738011079}\n"
     ]
    },
    {
     "name": "stderr",
     "output_type": "stream",
     "text": [
      "11it [00:00, 29.45it/s]\n"
     ]
    },
    {
     "name": "stdout",
     "output_type": "stream",
     "text": [
      "{'ner': 16.420847380293598}\n"
     ]
    },
    {
     "name": "stderr",
     "output_type": "stream",
     "text": [
      "\r",
      "0it [00:00, ?it/s]"
     ]
    },
    {
     "name": "stdout",
     "output_type": "stream",
     "text": [
      "{'ner': 1.5067291188714633}\n",
      "{'ner': 3.313136657025506}\n"
     ]
    },
    {
     "name": "stderr",
     "output_type": "stream",
     "text": [
      "\r",
      "3it [00:00, 21.78it/s]"
     ]
    },
    {
     "name": "stdout",
     "output_type": "stream",
     "text": [
      "{'ner': 5.437757775590142}\n",
      "{'ner': 6.272979025007736}\n",
      "{'ner': 7.292644766099132}\n"
     ]
    },
    {
     "name": "stderr",
     "output_type": "stream",
     "text": [
      "\r",
      "6it [00:00, 22.71it/s]"
     ]
    },
    {
     "name": "stdout",
     "output_type": "stream",
     "text": [
      "{'ner': 11.964898929398064}\n",
      "{'ner': 18.93355488969694}\n"
     ]
    },
    {
     "name": "stderr",
     "output_type": "stream",
     "text": [
      "\r",
      "9it [00:00, 25.08it/s]"
     ]
    },
    {
     "name": "stdout",
     "output_type": "stream",
     "text": [
      "{'ner': 20.784461581635036}\n",
      "{'ner': 20.9566941086714}\n"
     ]
    },
    {
     "name": "stderr",
     "output_type": "stream",
     "text": [
      "11it [00:00, 26.46it/s]\n"
     ]
    },
    {
     "name": "stdout",
     "output_type": "stream",
     "text": [
      "{'ner': 21.159485357402076}\n",
      "{'ner': 21.329506267362063}\n"
     ]
    },
    {
     "name": "stderr",
     "output_type": "stream",
     "text": [
      "\r",
      "0it [00:00, ?it/s]"
     ]
    },
    {
     "name": "stdout",
     "output_type": "stream",
     "text": [
      "{'ner': 5.337452185458778e-05}\n",
      "{'ner': 1.6974984566851468}\n",
      "{'ner': 4.137528487969627}\n"
     ]
    },
    {
     "name": "stderr",
     "output_type": "stream",
     "text": [
      "\r",
      "4it [00:00, 31.79it/s]"
     ]
    },
    {
     "name": "stdout",
     "output_type": "stream",
     "text": [
      "{'ner': 8.393652010166232}\n",
      "{'ner': 8.400195860700913}\n",
      "{'ner': 9.675565178115649}\n",
      "{'ner': 16.55726852944542}\n"
     ]
    },
    {
     "name": "stderr",
     "output_type": "stream",
     "text": [
      "\r",
      "8it [00:00, 30.50it/s]"
     ]
    },
    {
     "name": "stdout",
     "output_type": "stream",
     "text": [
      "{'ner': 16.61801120005801}\n",
      "{'ner': 16.96959758492769}\n"
     ]
    },
    {
     "name": "stderr",
     "output_type": "stream",
     "text": [
      "11it [00:00, 29.47it/s]\n"
     ]
    },
    {
     "name": "stdout",
     "output_type": "stream",
     "text": [
      "{'ner': 18.922091290061395}\n",
      "{'ner': 18.92302379274835}\n"
     ]
    },
    {
     "name": "stderr",
     "output_type": "stream",
     "text": [
      "\r",
      "0it [00:00, ?it/s]"
     ]
    },
    {
     "name": "stdout",
     "output_type": "stream",
     "text": [
      "{'ner': 0.0062356063555945515}\n",
      "{'ner': 0.006235927870832667}\n"
     ]
    },
    {
     "name": "stderr",
     "output_type": "stream",
     "text": [
      "\r",
      "3it [00:00, 29.24it/s]"
     ]
    },
    {
     "name": "stdout",
     "output_type": "stream",
     "text": [
      "{'ner': 1.6598843022772136}\n",
      "{'ner': 4.659759545170086}\n",
      "{'ner': 4.678454802643095}\n"
     ]
    },
    {
     "name": "stderr",
     "output_type": "stream",
     "text": [
      "\r",
      "6it [00:00, 29.22it/s]"
     ]
    },
    {
     "name": "stdout",
     "output_type": "stream",
     "text": [
      "{'ner': 10.178496675099263}\n",
      "{'ner': 12.2925760613629}\n",
      "{'ner': 13.50674147162181}\n"
     ]
    },
    {
     "name": "stderr",
     "output_type": "stream",
     "text": [
      "\r",
      "9it [00:00, 28.89it/s]"
     ]
    },
    {
     "name": "stdout",
     "output_type": "stream",
     "text": [
      "{'ner': 15.343740652444462}\n"
     ]
    },
    {
     "name": "stderr",
     "output_type": "stream",
     "text": [
      "11it [00:00, 29.80it/s]\n"
     ]
    },
    {
     "name": "stdout",
     "output_type": "stream",
     "text": [
      "{'ner': 16.08747039862976}\n",
      "{'ner': 18.454704538588665}\n"
     ]
    },
    {
     "name": "stderr",
     "output_type": "stream",
     "text": [
      "\r",
      "0it [00:00, ?it/s]"
     ]
    },
    {
     "name": "stdout",
     "output_type": "stream",
     "text": [
      "{'ner': 1.0778611027468872}\n",
      "{'ner': 4.247261211591015}\n"
     ]
    },
    {
     "name": "stderr",
     "output_type": "stream",
     "text": [
      "\r",
      "3it [00:00, 26.93it/s]"
     ]
    },
    {
     "name": "stdout",
     "output_type": "stream",
     "text": [
      "{'ner': 4.271085917220957}\n",
      "{'ner': 4.271085988345575}\n"
     ]
    },
    {
     "name": "stderr",
     "output_type": "stream",
     "text": [
      "\r",
      "6it [00:00, 26.58it/s]"
     ]
    },
    {
     "name": "stdout",
     "output_type": "stream",
     "text": [
      "{'ner': 6.616543901942061}\n",
      "{'ner': 6.616546155216154}\n",
      "{'ner': 8.247753584037435}\n",
      "{'ner': 8.348021636327646}\n"
     ]
    },
    {
     "name": "stderr",
     "output_type": "stream",
     "text": [
      "\r",
      "9it [00:00, 27.91it/s]"
     ]
    },
    {
     "name": "stdout",
     "output_type": "stream",
     "text": [
      "{'ner': 13.48380249396977}\n"
     ]
    },
    {
     "name": "stderr",
     "output_type": "stream",
     "text": [
      "11it [00:00, 29.22it/s]\n"
     ]
    },
    {
     "name": "stdout",
     "output_type": "stream",
     "text": [
      "{'ner': 13.488336324838139}\n",
      "{'ner': 15.351592366872694}\n"
     ]
    },
    {
     "name": "stderr",
     "output_type": "stream",
     "text": [
      "\r",
      "0it [00:00, ?it/s]"
     ]
    },
    {
     "name": "stdout",
     "output_type": "stream",
     "text": [
      "{'ner': 1.783362440905817e-06}\n",
      "{'ner': 1.8943942186408784}\n"
     ]
    },
    {
     "name": "stderr",
     "output_type": "stream",
     "text": [
      "\r",
      "3it [00:00, 27.76it/s]"
     ]
    },
    {
     "name": "stdout",
     "output_type": "stream",
     "text": [
      "{'ner': 9.166063895125477}\n",
      "{'ner': 9.336410497169034}\n",
      "{'ner': 13.108456840636249}\n"
     ]
    },
    {
     "name": "stderr",
     "output_type": "stream",
     "text": [
      "\r",
      "6it [00:00, 27.30it/s]"
     ]
    },
    {
     "name": "stdout",
     "output_type": "stream",
     "text": [
      "{'ner': 13.130378141907661}\n",
      "{'ner': 16.345410084798544}\n",
      "{'ner': 16.507948638827838}\n"
     ]
    },
    {
     "name": "stderr",
     "output_type": "stream",
     "text": [
      "11it [00:00, 29.16it/s]\n"
     ]
    },
    {
     "name": "stdout",
     "output_type": "stream",
     "text": [
      "{'ner': 16.763069394223084}\n",
      "{'ner': 18.81148196057648}\n",
      "{'ner': 19.180953862260235}\n"
     ]
    },
    {
     "name": "stderr",
     "output_type": "stream",
     "text": [
      "\r",
      "0it [00:00, ?it/s]"
     ]
    },
    {
     "name": "stdout",
     "output_type": "stream",
     "text": [
      "{'ner': 0.0001652604413714824}\n",
      "{'ner': 0.00018473643138454282}\n"
     ]
    },
    {
     "name": "stderr",
     "output_type": "stream",
     "text": [
      "\r",
      "3it [00:00, 29.88it/s]"
     ]
    },
    {
     "name": "stdout",
     "output_type": "stream",
     "text": [
      "{'ner': 0.0006298005006155236}\n",
      "{'ner': 1.9770428072247939}\n",
      "{'ner': 4.448488002319018}\n"
     ]
    },
    {
     "name": "stderr",
     "output_type": "stream",
     "text": [
      "\r",
      "6it [00:00, 23.18it/s]"
     ]
    },
    {
     "name": "stdout",
     "output_type": "stream",
     "text": [
      "{'ner': 5.981897321092343}\n",
      "{'ner': 6.551883100122418}\n"
     ]
    },
    {
     "name": "stderr",
     "output_type": "stream",
     "text": [
      "\r",
      "9it [00:00, 25.17it/s]"
     ]
    },
    {
     "name": "stdout",
     "output_type": "stream",
     "text": [
      "{'ner': 7.987133623772901}\n",
      "{'ner': 12.240029300554667}\n"
     ]
    },
    {
     "name": "stderr",
     "output_type": "stream",
     "text": [
      "11it [00:00, 26.65it/s]\n"
     ]
    },
    {
     "name": "stdout",
     "output_type": "stream",
     "text": [
      "{'ner': 12.474542099264841}\n",
      "{'ner': 12.607126075359133}\n"
     ]
    },
    {
     "name": "stderr",
     "output_type": "stream",
     "text": [
      "\r",
      "0it [00:00, ?it/s]"
     ]
    },
    {
     "name": "stdout",
     "output_type": "stream",
     "text": [
      "{'ner': 0.08879519585507063}\n",
      "{'ner': 2.083905245735624}\n"
     ]
    },
    {
     "name": "stderr",
     "output_type": "stream",
     "text": [
      "\r",
      "3it [00:00, 23.22it/s]"
     ]
    },
    {
     "name": "stdout",
     "output_type": "stream",
     "text": [
      "{'ner': 3.749647156262029}\n",
      "{'ner': 7.213019913336861}\n",
      "{'ner': 7.213381713937446}\n"
     ]
    },
    {
     "name": "stderr",
     "output_type": "stream",
     "text": [
      "\r",
      "6it [00:00, 24.06it/s]"
     ]
    },
    {
     "name": "stdout",
     "output_type": "stream",
     "text": [
      "{'ner': 8.785482001132602}\n",
      "{'ner': 8.953921200265627}\n"
     ]
    },
    {
     "name": "stderr",
     "output_type": "stream",
     "text": [
      "\r",
      "9it [00:00, 25.70it/s]"
     ]
    },
    {
     "name": "stdout",
     "output_type": "stream",
     "text": [
      "{'ner': 12.45675210015451}\n",
      "{'ner': 12.456755659755219}\n"
     ]
    },
    {
     "name": "stderr",
     "output_type": "stream",
     "text": [
      "11it [00:00, 25.17it/s]\n"
     ]
    },
    {
     "name": "stdout",
     "output_type": "stream",
     "text": [
      "{'ner': 13.010262525343792}\n",
      "{'ner': 13.010412938380307}\n"
     ]
    },
    {
     "name": "stderr",
     "output_type": "stream",
     "text": [
      "\r",
      "0it [00:00, ?it/s]"
     ]
    },
    {
     "name": "stdout",
     "output_type": "stream",
     "text": [
      "{'ner': 1.9648287841520533}\n",
      "{'ner': 3.67253203231175}\n"
     ]
    },
    {
     "name": "stderr",
     "output_type": "stream",
     "text": [
      "\r",
      "3it [00:00, 25.05it/s]"
     ]
    },
    {
     "name": "stdout",
     "output_type": "stream",
     "text": [
      "{'ner': 3.8436693500691708}\n",
      "{'ner': 3.8442731274232402}\n"
     ]
    },
    {
     "name": "stderr",
     "output_type": "stream",
     "text": [
      "\r",
      "6it [00:00, 26.06it/s]"
     ]
    },
    {
     "name": "stdout",
     "output_type": "stream",
     "text": [
      "{'ner': 6.461921304744441}\n",
      "{'ner': 6.862463133210788}\n",
      "{'ner': 10.693275239488015}\n",
      "{'ner': 10.881200790702575}\n"
     ]
    },
    {
     "name": "stderr",
     "output_type": "stream",
     "text": [
      "\r",
      "9it [00:00, 24.90it/s]"
     ]
    },
    {
     "name": "stdout",
     "output_type": "stream",
     "text": [
      "{'ner': 10.88120085095188}\n"
     ]
    },
    {
     "name": "stderr",
     "output_type": "stream",
     "text": [
      "11it [00:00, 24.56it/s]\n"
     ]
    },
    {
     "name": "stdout",
     "output_type": "stream",
     "text": [
      "{'ner': 14.81747160826945}\n",
      "{'ner': 14.854409098239419}\n"
     ]
    },
    {
     "name": "stderr",
     "output_type": "stream",
     "text": [
      "\r",
      "0it [00:00, ?it/s]"
     ]
    },
    {
     "name": "stdout",
     "output_type": "stream",
     "text": [
      "{'ner': 9.223516281251991e-07}\n",
      "{'ner': 0.07235720758415143}\n"
     ]
    },
    {
     "name": "stderr",
     "output_type": "stream",
     "text": [
      "\r",
      "3it [00:00, 26.16it/s]"
     ]
    },
    {
     "name": "stdout",
     "output_type": "stream",
     "text": [
      "{'ner': 0.07274129544641991}\n",
      "{'ner': 2.79510141000131}\n"
     ]
    },
    {
     "name": "stderr",
     "output_type": "stream",
     "text": [
      "\r",
      "6it [00:00, 25.45it/s]"
     ]
    },
    {
     "name": "stdout",
     "output_type": "stream",
     "text": [
      "{'ner': 2.795103577582714}\n",
      "{'ner': 4.707570534642232}\n",
      "{'ner': 6.76946932520486}\n"
     ]
    },
    {
     "name": "stderr",
     "output_type": "stream",
     "text": [
      "\r",
      "9it [00:00, 24.97it/s]"
     ]
    },
    {
     "name": "stdout",
     "output_type": "stream",
     "text": [
      "{'ner': 6.7694693374690695}\n",
      "{'ner': 10.579296100576363}\n"
     ]
    },
    {
     "name": "stderr",
     "output_type": "stream",
     "text": [
      "11it [00:00, 26.14it/s]\n"
     ]
    },
    {
     "name": "stdout",
     "output_type": "stream",
     "text": [
      "{'ner': 10.602196513999804}\n",
      "{'ner': 10.61439368831807}\n"
     ]
    },
    {
     "name": "stderr",
     "output_type": "stream",
     "text": [
      "\r",
      "0it [00:00, ?it/s]"
     ]
    },
    {
     "name": "stdout",
     "output_type": "stream",
     "text": [
      "{'ner': 0.004356755980733516}\n",
      "{'ner': 0.004492264058990465}\n"
     ]
    },
    {
     "name": "stderr",
     "output_type": "stream",
     "text": [
      "\r",
      "3it [00:00, 21.54it/s]"
     ]
    },
    {
     "name": "stdout",
     "output_type": "stream",
     "text": [
      "{'ner': 1.6682946061963688}\n",
      "{'ner': 1.6683396906749308}\n",
      "{'ner': 1.6683481607862714}\n"
     ]
    },
    {
     "name": "stderr",
     "output_type": "stream",
     "text": [
      "\r",
      "6it [00:00, 24.25it/s]"
     ]
    },
    {
     "name": "stdout",
     "output_type": "stream",
     "text": [
      "{'ner': 6.865199808388266}\n",
      "{'ner': 6.871998907894406}\n",
      "{'ner': 7.137885826268922}\n"
     ]
    },
    {
     "name": "stderr",
     "output_type": "stream",
     "text": [
      "\r",
      "10it [00:00, 28.09it/s]"
     ]
    },
    {
     "name": "stdout",
     "output_type": "stream",
     "text": [
      "{'ner': 9.137800965562564}\n",
      "{'ner': 9.137801053903551}\n"
     ]
    },
    {
     "name": "stderr",
     "output_type": "stream",
     "text": [
      "11it [00:00, 27.94it/s]\n"
     ]
    },
    {
     "name": "stdout",
     "output_type": "stream",
     "text": [
      "{'ner': 9.137803244274556}\n"
     ]
    },
    {
     "name": "stderr",
     "output_type": "stream",
     "text": [
      "\r",
      "0it [00:00, ?it/s]"
     ]
    },
    {
     "name": "stdout",
     "output_type": "stream",
     "text": [
      "{'ner': 1.3637264578806176}\n"
     ]
    },
    {
     "name": "stderr",
     "output_type": "stream",
     "text": [
      "\r",
      "3it [00:00, 25.35it/s]"
     ]
    },
    {
     "name": "stdout",
     "output_type": "stream",
     "text": [
      "{'ner': 1.5330528551401865}\n",
      "{'ner': 5.235795534008648}\n",
      "{'ner': 6.140543285075416}\n",
      "{'ner': 8.140129753313548}\n"
     ]
    },
    {
     "name": "stderr",
     "output_type": "stream",
     "text": [
      "\r",
      "6it [00:00, 27.07it/s]"
     ]
    },
    {
     "name": "stdout",
     "output_type": "stream",
     "text": [
      "{'ner': 8.140132128205316}\n",
      "{'ner': 8.140323490287516}\n",
      "{'ner': 10.017534686224105}\n"
     ]
    },
    {
     "name": "stderr",
     "output_type": "stream",
     "text": [
      "\r",
      "9it [00:00, 22.35it/s]"
     ]
    },
    {
     "name": "stdout",
     "output_type": "stream",
     "text": [
      "{'ner': 10.023035839171978}\n"
     ]
    },
    {
     "name": "stderr",
     "output_type": "stream",
     "text": [
      "11it [00:00, 25.09it/s]\n"
     ]
    },
    {
     "name": "stdout",
     "output_type": "stream",
     "text": [
      "{'ner': 12.318795431759423}\n",
      "{'ner': 12.318795687873978}\n"
     ]
    },
    {
     "name": "stderr",
     "output_type": "stream",
     "text": [
      "\r",
      "0it [00:00, ?it/s]"
     ]
    },
    {
     "name": "stdout",
     "output_type": "stream",
     "text": [
      "{'ner': 1.3247085666386875}\n",
      "{'ner': 1.3256820145453878}\n"
     ]
    },
    {
     "name": "stderr",
     "output_type": "stream",
     "text": [
      "\r",
      "3it [00:00, 29.29it/s]"
     ]
    },
    {
     "name": "stdout",
     "output_type": "stream",
     "text": [
      "{'ner': 3.298678400482472}\n",
      "{'ner': 3.592703558224051}\n",
      "{'ner': 3.5927387373903827}\n"
     ]
    },
    {
     "name": "stderr",
     "output_type": "stream",
     "text": [
      "\r",
      "6it [00:00, 27.45it/s]"
     ]
    },
    {
     "name": "stdout",
     "output_type": "stream",
     "text": [
      "{'ner': 5.786708791721763}\n",
      "{'ner': 5.786710241685074}\n",
      "{'ner': 7.449255424839786}\n"
     ]
    },
    {
     "name": "stderr",
     "output_type": "stream",
     "text": [
      "\r",
      "9it [00:00, 26.33it/s]"
     ]
    },
    {
     "name": "stdout",
     "output_type": "stream",
     "text": [
      "{'ner': 7.4595477969533}\n",
      "{'ner': 7.837653333934496}\n"
     ]
    },
    {
     "name": "stderr",
     "output_type": "stream",
     "text": [
      "11it [00:00, 28.17it/s]\n"
     ]
    },
    {
     "name": "stdout",
     "output_type": "stream",
     "text": [
      "{'ner': 7.92158616406739}\n"
     ]
    },
    {
     "name": "stderr",
     "output_type": "stream",
     "text": [
      "\r",
      "0it [00:00, ?it/s]"
     ]
    },
    {
     "name": "stdout",
     "output_type": "stream",
     "text": [
      "{'ner': 3.7409616500735887}\n"
     ]
    },
    {
     "name": "stderr",
     "output_type": "stream",
     "text": [
      "\r",
      "3it [00:00, 27.81it/s]"
     ]
    },
    {
     "name": "stdout",
     "output_type": "stream",
     "text": [
      "{'ner': 3.9799297142543186}\n",
      "{'ner': 4.120505525098529}\n",
      "{'ner': 4.120505532165232}\n",
      "{'ner': 4.120713318362293}\n"
     ]
    },
    {
     "name": "stderr",
     "output_type": "stream",
     "text": [
      "\r",
      "6it [00:00, 26.11it/s]"
     ]
    },
    {
     "name": "stdout",
     "output_type": "stream",
     "text": [
      "{'ner': 4.1207159487776766}\n",
      "{'ner': 4.120751492921893}\n"
     ]
    },
    {
     "name": "stderr",
     "output_type": "stream",
     "text": [
      "\r",
      "9it [00:00, 27.32it/s]"
     ]
    },
    {
     "name": "stdout",
     "output_type": "stream",
     "text": [
      "{'ner': 6.050596088662606}\n",
      "{'ner': 6.158891224207535}\n"
     ]
    },
    {
     "name": "stderr",
     "output_type": "stream",
     "text": [
      "11it [00:00, 28.23it/s]\n"
     ]
    },
    {
     "name": "stdout",
     "output_type": "stream",
     "text": [
      "{'ner': 7.803448700101161}\n",
      "{'ner': 7.803448715227793}\n"
     ]
    },
    {
     "name": "stderr",
     "output_type": "stream",
     "text": [
      "\r",
      "0it [00:00, ?it/s]"
     ]
    },
    {
     "name": "stdout",
     "output_type": "stream",
     "text": [
      "{'ner': 3.2690585458913676e-05}\n",
      "{'ner': 0.019710072380974664}\n"
     ]
    },
    {
     "name": "stderr",
     "output_type": "stream",
     "text": [
      "\r",
      "3it [00:00, 23.51it/s]"
     ]
    },
    {
     "name": "stdout",
     "output_type": "stream",
     "text": [
      "{'ner': 2.019612436343667}\n",
      "{'ner': 2.086068334408728}\n",
      "{'ner': 2.1583282017470657}\n"
     ]
    },
    {
     "name": "stderr",
     "output_type": "stream",
     "text": [
      "\r",
      "6it [00:00, 24.41it/s]"
     ]
    },
    {
     "name": "stdout",
     "output_type": "stream",
     "text": [
      "{'ner': 3.312003451162943}\n",
      "{'ner': 3.312454547657381}\n",
      "{'ner': 4.492390828414198}\n"
     ]
    },
    {
     "name": "stderr",
     "output_type": "stream",
     "text": [
      "11it [00:00, 27.79it/s]\n"
     ]
    },
    {
     "name": "stdout",
     "output_type": "stream",
     "text": [
      "{'ner': 4.492392906076072}\n",
      "{'ner': 4.49239293394922}\n",
      "{'ner': 4.749116747857195}\n"
     ]
    },
    {
     "name": "stderr",
     "output_type": "stream",
     "text": [
      "\r",
      "0it [00:00, ?it/s]"
     ]
    },
    {
     "name": "stdout",
     "output_type": "stream",
     "text": [
      "{'ner': 0.8944493631119913}\n"
     ]
    },
    {
     "name": "stderr",
     "output_type": "stream",
     "text": [
      "\r",
      "3it [00:00, 29.63it/s]"
     ]
    },
    {
     "name": "stdout",
     "output_type": "stream",
     "text": [
      "{'ner': 0.8964707425959775}\n",
      "{'ner': 0.8964829916209092}\n",
      "{'ner': 2.213374848456036}\n"
     ]
    },
    {
     "name": "stderr",
     "output_type": "stream",
     "text": [
      "\r",
      "6it [00:00, 27.88it/s]"
     ]
    },
    {
     "name": "stdout",
     "output_type": "stream",
     "text": [
      "{'ner': 5.588596945748263}\n",
      "{'ner': 5.588853071777336}\n",
      "{'ner': 7.628159196791737}"
     ]
    },
    {
     "name": "stderr",
     "output_type": "stream",
     "text": [
      "\r",
      "9it [00:00, 26.24it/s]"
     ]
    },
    {
     "name": "stdout",
     "output_type": "stream",
     "text": [
      "\n",
      "{'ner': 11.770695685110375}\n",
      "{'ner': 11.770703755600406}\n",
      "{'ner': 13.457115567686147}\n"
     ]
    },
    {
     "name": "stderr",
     "output_type": "stream",
     "text": [
      "11it [00:00, 27.39it/s]\n"
     ]
    },
    {
     "name": "stdout",
     "output_type": "stream",
     "text": [
      "{'ner': 13.457120683639815}\n"
     ]
    },
    {
     "name": "stderr",
     "output_type": "stream",
     "text": [
      "\r",
      "0it [00:00, ?it/s]"
     ]
    },
    {
     "name": "stdout",
     "output_type": "stream",
     "text": [
      "{'ner': 0.018349554908784798}\n"
     ]
    },
    {
     "name": "stderr",
     "output_type": "stream",
     "text": [
      "\r",
      "3it [00:00, 28.08it/s]"
     ]
    },
    {
     "name": "stdout",
     "output_type": "stream",
     "text": [
      "{'ner': 0.01835017697205446}\n",
      "{'ner': 1.733518006143618}\n",
      "{'ner': 1.7335180217075703}\n"
     ]
    },
    {
     "name": "stderr",
     "output_type": "stream",
     "text": [
      "\r",
      "6it [00:00, 24.53it/s]"
     ]
    },
    {
     "name": "stdout",
     "output_type": "stream",
     "text": [
      "{'ner': 1.7338817330372842}\n",
      "{'ner': 3.7388795038415803}\n"
     ]
    },
    {
     "name": "stderr",
     "output_type": "stream",
     "text": [
      "11it [00:00, 28.07it/s]\n"
     ]
    },
    {
     "name": "stdout",
     "output_type": "stream",
     "text": [
      "{'ner': 3.7388989716966363}\n",
      "{'ner': 3.738900763762065}\n",
      "{'ner': 3.889130989935683}\n",
      "{'ner': 3.8893144380346527}\n",
      "{'ner': 3.8893155147854817}\n"
     ]
    },
    {
     "name": "stderr",
     "output_type": "stream",
     "text": [
      "\r",
      "0it [00:00, ?it/s]"
     ]
    },
    {
     "name": "stdout",
     "output_type": "stream",
     "text": [
      "{'ner': 2.2721263882632767}\n",
      "{'ner': 2.283267915901952}\n"
     ]
    },
    {
     "name": "stderr",
     "output_type": "stream",
     "text": [
      "6it [00:00, 27.34it/s]"
     ]
    },
    {
     "name": "stdout",
     "output_type": "stream",
     "text": [
      "{'ner': 3.4246219965504743}\n",
      "{'ner': 3.515884518237104}\n",
      "{'ner': 3.5489370093403925}\n",
      "{'ner': 3.55480097589111}\n",
      "{'ner': 3.5548681157413196}\n",
      "{'ner': 3.555456922764721}\n"
     ]
    },
    {
     "name": "stderr",
     "output_type": "stream",
     "text": [
      "11it [00:00, 28.09it/s]\n"
     ]
    },
    {
     "name": "stdout",
     "output_type": "stream",
     "text": [
      "{'ner': 5.339259993465761}\n",
      "{'ner': 5.339429805691253}\n",
      "{'ner': 5.33942986919225}\n"
     ]
    },
    {
     "name": "stderr",
     "output_type": "stream",
     "text": [
      "\r",
      "0it [00:00, ?it/s]"
     ]
    },
    {
     "name": "stdout",
     "output_type": "stream",
     "text": [
      "{'ner': 0.031568531536664834}\n",
      "{'ner': 0.0315862015287993}\n",
      "{'ner': 0.05021360106537528}\n"
     ]
    },
    {
     "name": "stderr",
     "output_type": "stream",
     "text": [
      "\r",
      "4it [00:00, 30.39it/s]"
     ]
    },
    {
     "name": "stdout",
     "output_type": "stream",
     "text": [
      "{'ner': 1.7889404566297618}\n",
      "{'ner': 1.7891777316145268}\n",
      "{'ner': 3.7237572456317194}\n",
      "{'ner': 11.186867029879316}\n"
     ]
    },
    {
     "name": "stderr",
     "output_type": "stream",
     "text": [
      "\r",
      "8it [00:00, 30.93it/s]"
     ]
    },
    {
     "name": "stdout",
     "output_type": "stream",
     "text": [
      "{'ner': 11.186867289725493}\n",
      "{'ner': 15.423912221582258}\n"
     ]
    },
    {
     "name": "stderr",
     "output_type": "stream",
     "text": [
      "11it [00:00, 28.89it/s]\n"
     ]
    },
    {
     "name": "stdout",
     "output_type": "stream",
     "text": [
      "{'ner': 15.423913959483002}\n",
      "{'ner': 16.095148576926604}\n"
     ]
    },
    {
     "name": "stderr",
     "output_type": "stream",
     "text": [
      "\r",
      "0it [00:00, ?it/s]"
     ]
    },
    {
     "name": "stdout",
     "output_type": "stream",
     "text": [
      "{'ner': 0.0007266991442872777}\n"
     ]
    },
    {
     "name": "stderr",
     "output_type": "stream",
     "text": [
      "\r",
      "3it [00:00, 23.82it/s]"
     ]
    },
    {
     "name": "stdout",
     "output_type": "stream",
     "text": [
      "{'ner': 0.00920281858210973}\n",
      "{'ner': 0.7680801610152592}\n",
      "{'ner': 0.7680831134523406}\n",
      "{'ner': 2.5324893063779923}\n",
      "{'ner': 2.5324912972874243}\n"
     ]
    },
    {
     "name": "stderr",
     "output_type": "stream",
     "text": [
      "\r",
      "7it [00:00, 28.09it/s]"
     ]
    },
    {
     "name": "stdout",
     "output_type": "stream",
     "text": [
      "{'ner': 4.142556341185715}\n",
      "{'ner': 4.14255722529122}\n",
      "{'ner': 5.435570989175495}\n"
     ]
    },
    {
     "name": "stderr",
     "output_type": "stream",
     "text": [
      "\r",
      "10it [00:00, 26.41it/s]"
     ]
    },
    {
     "name": "stdout",
     "output_type": "stream",
     "text": [
      "{'ner': 5.436238403637638}\n"
     ]
    },
    {
     "name": "stderr",
     "output_type": "stream",
     "text": [
      "11it [00:00, 27.65it/s]\n"
     ]
    },
    {
     "name": "stdout",
     "output_type": "stream",
     "text": [
      "{'ner': 5.436238407827322}\n"
     ]
    },
    {
     "name": "stderr",
     "output_type": "stream",
     "text": [
      "\r",
      "0it [00:00, ?it/s]"
     ]
    },
    {
     "name": "stdout",
     "output_type": "stream",
     "text": [
      "{'ner': 0.007071222181861723}\n",
      "{'ner': 0.007616556740257868}\n"
     ]
    },
    {
     "name": "stderr",
     "output_type": "stream",
     "text": [
      "\r",
      "3it [00:00, 22.99it/s]"
     ]
    },
    {
     "name": "stdout",
     "output_type": "stream",
     "text": [
      "{'ner': 0.12471712003439687}\n",
      "{'ner': 0.12471712008711666}\n",
      "{'ner': 3.1141870891771055}\n",
      "{'ner': 4.5018813558263036}\n"
     ]
    },
    {
     "name": "stderr",
     "output_type": "stream",
     "text": [
      "\r",
      "7it [00:00, 26.73it/s]"
     ]
    },
    {
     "name": "stdout",
     "output_type": "stream",
     "text": [
      "{'ner': 4.501885723837527}\n",
      "{'ner': 4.501886320562876}\n"
     ]
    },
    {
     "name": "stderr",
     "output_type": "stream",
     "text": [
      "11it [00:00, 28.15it/s]\n"
     ]
    },
    {
     "name": "stdout",
     "output_type": "stream",
     "text": [
      "{'ner': 4.5019405403018995}\n",
      "{'ner': 7.435776870054217}\n",
      "{'ner': 7.4377713254914335}\n"
     ]
    },
    {
     "name": "stderr",
     "output_type": "stream",
     "text": [
      "\r",
      "0it [00:00, ?it/s]"
     ]
    },
    {
     "name": "stdout",
     "output_type": "stream",
     "text": [
      "{'ner': 2.040087701316416}\n",
      "{'ner': 3.5347368492899194}\n"
     ]
    },
    {
     "name": "stderr",
     "output_type": "stream",
     "text": [
      "\r",
      "3it [00:00, 26.62it/s]"
     ]
    },
    {
     "name": "stdout",
     "output_type": "stream",
     "text": [
      "{'ner': 3.535216188632464}\n",
      "{'ner': 3.5357134693222245}\n"
     ]
    },
    {
     "name": "stderr",
     "output_type": "stream",
     "text": [
      "\r",
      "6it [00:00, 27.81it/s]"
     ]
    },
    {
     "name": "stdout",
     "output_type": "stream",
     "text": [
      "{'ner': 3.6512383741148944}\n",
      "{'ner': 3.6513300713731445}\n",
      "{'ner': 3.666648114952812}\n",
      "{'ner': 4.02623228076674}\n"
     ]
    },
    {
     "name": "stderr",
     "output_type": "stream",
     "text": [
      "\r",
      "9it [00:00, 25.74it/s]"
     ]
    },
    {
     "name": "stdout",
     "output_type": "stream",
     "text": [
      "{'ner': 4.526656937302342}\n",
      "{'ner': 4.56072760631744}\n"
     ]
    },
    {
     "name": "stderr",
     "output_type": "stream",
     "text": [
      "11it [00:00, 28.03it/s]\n"
     ]
    },
    {
     "name": "stdout",
     "output_type": "stream",
     "text": [
      "{'ner': 4.560728223386543}\n"
     ]
    },
    {
     "name": "stderr",
     "output_type": "stream",
     "text": [
      "\r",
      "0it [00:00, ?it/s]"
     ]
    },
    {
     "name": "stdout",
     "output_type": "stream",
     "text": [
      "{'ner': 0.018545653274183744}\n"
     ]
    },
    {
     "name": "stderr",
     "output_type": "stream",
     "text": [
      "\r",
      "2it [00:00, 17.42it/s]"
     ]
    },
    {
     "name": "stdout",
     "output_type": "stream",
     "text": [
      "{'ner': 0.8886147812401933}\n",
      "{'ner': 0.8886169939932749}\n",
      "{'ner': 0.8886177808015753}\n"
     ]
    },
    {
     "name": "stderr",
     "output_type": "stream",
     "text": [
      "\r",
      "5it [00:00, 22.28it/s]"
     ]
    },
    {
     "name": "stdout",
     "output_type": "stream",
     "text": [
      "{'ner': 0.8967248951768462}\n",
      "{'ner': 0.8967248966422464}\n",
      "{'ner': 0.8967249695808572}\n"
     ]
    },
    {
     "name": "stderr",
     "output_type": "stream",
     "text": [
      "\r",
      "8it [00:00, 23.92it/s]"
     ]
    },
    {
     "name": "stdout",
     "output_type": "stream",
     "text": [
      "{'ner': 0.8967249890993549}\n",
      "{'ner': 0.9011479683757982}\n"
     ]
    },
    {
     "name": "stderr",
     "output_type": "stream",
     "text": [
      "11it [00:00, 23.62it/s]\n"
     ]
    },
    {
     "name": "stdout",
     "output_type": "stream",
     "text": [
      "{'ner': 0.9021762141049782}\n",
      "{'ner': 1.763628629895874}\n"
     ]
    },
    {
     "name": "stderr",
     "output_type": "stream",
     "text": [
      "\r",
      "0it [00:00, ?it/s]"
     ]
    },
    {
     "name": "stdout",
     "output_type": "stream",
     "text": [
      "{'ner': 0.02363154423167467}\n"
     ]
    },
    {
     "name": "stderr",
     "output_type": "stream",
     "text": [
      "\r",
      "3it [00:00, 22.52it/s]"
     ]
    },
    {
     "name": "stdout",
     "output_type": "stream",
     "text": [
      "{'ner': 0.023631544259364763}\n",
      "{'ner': 0.023633504443184523}\n"
     ]
    },
    {
     "name": "stderr",
     "output_type": "stream",
     "text": [
      "\r",
      "6it [00:00, 24.70it/s]"
     ]
    },
    {
     "name": "stdout",
     "output_type": "stream",
     "text": [
      "{'ner': 0.2453644461023162}\n",
      "{'ner': 0.24536444615261663}\n",
      "{'ner': 0.24536458090169105}\n",
      "{'ner': 0.2641921060112295}\n",
      "{'ner': 0.28405792595980817}\n"
     ]
    },
    {
     "name": "stderr",
     "output_type": "stream",
     "text": [
      "11it [00:00, 22.51it/s]\n"
     ]
    },
    {
     "name": "stdout",
     "output_type": "stream",
     "text": [
      "{'ner': 1.8905021344760247}\n",
      "{'ner': 1.8943304868059294}\n",
      "{'ner': 1.8943344390306214}\n"
     ]
    },
    {
     "name": "stderr",
     "output_type": "stream",
     "text": [
      "2it [00:00, 19.41it/s]"
     ]
    },
    {
     "name": "stdout",
     "output_type": "stream",
     "text": [
      "{'ner': 2.1583953225579988e-06}\n",
      "{'ner': 0.003925951122992747}\n"
     ]
    },
    {
     "name": "stderr",
     "output_type": "stream",
     "text": [
      "\r",
      "5it [00:00, 24.96it/s]"
     ]
    },
    {
     "name": "stdout",
     "output_type": "stream",
     "text": [
      "{'ner': 0.00409920946400113}\n",
      "{'ner': 0.004099229758204899}\n",
      "{'ner': 0.006500903182251958}\n",
      "{'ner': 0.006501857892057911}\n"
     ]
    },
    {
     "name": "stderr",
     "output_type": "stream",
     "text": [
      "\r",
      "8it [00:00, 24.59it/s]"
     ]
    },
    {
     "name": "stdout",
     "output_type": "stream",
     "text": [
      "{'ner': 2.456130081583432}\n",
      "{'ner': 2.4561301884513664}\n"
     ]
    },
    {
     "name": "stderr",
     "output_type": "stream",
     "text": [
      "11it [00:00, 25.40it/s]\n"
     ]
    },
    {
     "name": "stdout",
     "output_type": "stream",
     "text": [
      "{'ner': 2.456130188451677}\n",
      "{'ner': 3.2118949358022686}\n",
      "{'ner': 6.802705433864127}\n"
     ]
    },
    {
     "name": "stderr",
     "output_type": "stream",
     "text": [
      "\r",
      "0it [00:00, ?it/s]"
     ]
    },
    {
     "name": "stdout",
     "output_type": "stream",
     "text": [
      "{'ner': 2.474753640590722}\n"
     ]
    },
    {
     "name": "stderr",
     "output_type": "stream",
     "text": [
      "\r",
      "3it [00:00, 27.70it/s]"
     ]
    },
    {
     "name": "stdout",
     "output_type": "stream",
     "text": [
      "{'ner': 2.474754200973926}\n",
      "{'ner': 2.4755742228963373}\n"
     ]
    },
    {
     "name": "stderr",
     "output_type": "stream",
     "text": [
      "\r",
      "6it [00:00, 25.00it/s]"
     ]
    },
    {
     "name": "stdout",
     "output_type": "stream",
     "text": [
      "{'ner': 2.4755930120906715}\n",
      "{'ner': 2.491212728609376}\n",
      "{'ner': 2.4912127334095535}\n"
     ]
    },
    {
     "name": "stderr",
     "output_type": "stream",
     "text": [
      "\r",
      "9it [00:00, 25.58it/s]"
     ]
    },
    {
     "name": "stdout",
     "output_type": "stream",
     "text": [
      "{'ner': 5.125687688941823}\n",
      "{'ner': 5.125688191069447}\n",
      "{'ner': 10.026862753742986}\n"
     ]
    },
    {
     "name": "stderr",
     "output_type": "stream",
     "text": [
      "11it [00:00, 26.03it/s]\n"
     ]
    },
    {
     "name": "stdout",
     "output_type": "stream",
     "text": [
      "{'ner': 11.888985124060948}\n",
      "{'ner': 11.888985124208318}\n"
     ]
    },
    {
     "name": "stderr",
     "output_type": "stream",
     "text": [
      "\r",
      "0it [00:00, ?it/s]"
     ]
    },
    {
     "name": "stdout",
     "output_type": "stream",
     "text": [
      "{'ner': 0.8670708862205573}\n"
     ]
    },
    {
     "name": "stderr",
     "output_type": "stream",
     "text": [
      "\r",
      "3it [00:00, 22.82it/s]"
     ]
    },
    {
     "name": "stdout",
     "output_type": "stream",
     "text": [
      "{'ner': 0.8670708875214379}\n",
      "{'ner': 0.8670708875580532}\n",
      "{'ner': 0.867070888127725}\n"
     ]
    },
    {
     "name": "stderr",
     "output_type": "stream",
     "text": [
      "\r",
      "6it [00:00, 25.60it/s]"
     ]
    },
    {
     "name": "stdout",
     "output_type": "stream",
     "text": [
      "{'ner': 4.796811646371511}\n",
      "{'ner': 4.796811652884763}\n",
      "{'ner': 4.824831291194915}\n"
     ]
    },
    {
     "name": "stderr",
     "output_type": "stream",
     "text": [
      "\r",
      "9it [00:00, 24.21it/s]"
     ]
    },
    {
     "name": "stdout",
     "output_type": "stream",
     "text": [
      "{'ner': 4.825040006852809}\n",
      "{'ner': 4.825040084572181}\n"
     ]
    },
    {
     "name": "stderr",
     "output_type": "stream",
     "text": [
      "11it [00:00, 25.37it/s]\n"
     ]
    },
    {
     "name": "stdout",
     "output_type": "stream",
     "text": [
      "{'ner': 4.825040084636965}\n",
      "{'ner': 4.836993323015719}\n"
     ]
    },
    {
     "name": "stderr",
     "output_type": "stream",
     "text": [
      "\r",
      "0it [00:00, ?it/s]"
     ]
    },
    {
     "name": "stdout",
     "output_type": "stream",
     "text": [
      "{'ner': 2.764914664893761e-05}\n",
      "{'ner': 2.8329651753587937e-05}\n"
     ]
    },
    {
     "name": "stderr",
     "output_type": "stream",
     "text": [
      "\r",
      "3it [00:00, 24.88it/s]"
     ]
    },
    {
     "name": "stdout",
     "output_type": "stream",
     "text": [
      "{'ner': 2.852045010804713e-05}\n",
      "{'ner': 3.278652327688658e-05}\n",
      "{'ner': 3.8746720547865756}\n"
     ]
    },
    {
     "name": "stderr",
     "output_type": "stream",
     "text": [
      "\r",
      "6it [00:00, 22.86it/s]"
     ]
    },
    {
     "name": "stdout",
     "output_type": "stream",
     "text": [
      "{'ner': 4.273013929230831}\n",
      "{'ner': 4.27322863410419}\n"
     ]
    },
    {
     "name": "stderr",
     "output_type": "stream",
     "text": [
      "\r",
      "9it [00:00, 25.13it/s]"
     ]
    },
    {
     "name": "stdout",
     "output_type": "stream",
     "text": [
      "{'ner': 4.273327553372659}\n",
      "{'ner': 4.273330986539754}\n",
      "{'ner': 4.273331011687953}\n"
     ]
    },
    {
     "name": "stderr",
     "output_type": "stream",
     "text": [
      "11it [00:00, 25.49it/s]\n"
     ]
    },
    {
     "name": "stdout",
     "output_type": "stream",
     "text": [
      "{'ner': 4.276710136159398}\n"
     ]
    },
    {
     "name": "stderr",
     "output_type": "stream",
     "text": [
      "\r",
      "0it [00:00, ?it/s]"
     ]
    },
    {
     "name": "stdout",
     "output_type": "stream",
     "text": [
      "{'ner': 1.710586800759492}\n",
      "{'ner': 1.7105868015908092}\n"
     ]
    },
    {
     "name": "stderr",
     "output_type": "stream",
     "text": [
      "\r",
      "3it [00:00, 24.46it/s]"
     ]
    },
    {
     "name": "stdout",
     "output_type": "stream",
     "text": [
      "{'ner': 1.7159439967189927}\n",
      "{'ner': 3.074511712096624}\n",
      "{'ner': 3.074512654978128}\n"
     ]
    },
    {
     "name": "stderr",
     "output_type": "stream",
     "text": [
      "\r",
      "6it [00:00, 26.42it/s]"
     ]
    },
    {
     "name": "stdout",
     "output_type": "stream",
     "text": [
      "{'ner': 3.074614111672701}\n",
      "{'ner': 3.0746188287202103}\n",
      "{'ner': 3.0746259245793164}\n"
     ]
    },
    {
     "name": "stderr",
     "output_type": "stream",
     "text": [
      "\r",
      "9it [00:00, 23.86it/s]"
     ]
    },
    {
     "name": "stdout",
     "output_type": "stream",
     "text": [
      "{'ner': 3.1096289125353036}\n",
      "{'ner': 4.51474177903307}\n"
     ]
    },
    {
     "name": "stderr",
     "output_type": "stream",
     "text": [
      "11it [00:00, 25.45it/s]\n"
     ]
    },
    {
     "name": "stdout",
     "output_type": "stream",
     "text": [
      "{'ner': 4.515572696325116}\n"
     ]
    },
    {
     "name": "stderr",
     "output_type": "stream",
     "text": [
      "\r",
      "0it [00:00, ?it/s]"
     ]
    },
    {
     "name": "stdout",
     "output_type": "stream",
     "text": [
      "{'ner': 0.026049070929970067}\n"
     ]
    },
    {
     "name": "stderr",
     "output_type": "stream",
     "text": [
      "\r",
      "3it [00:00, 23.27it/s]"
     ]
    },
    {
     "name": "stdout",
     "output_type": "stream",
     "text": [
      "{'ner': 0.026049078861328297}\n",
      "{'ner': 0.026055661408584528}\n",
      "{'ner': 0.1256091482020649}\n"
     ]
    },
    {
     "name": "stderr",
     "output_type": "stream",
     "text": [
      "\r",
      "6it [00:00, 24.81it/s]"
     ]
    },
    {
     "name": "stdout",
     "output_type": "stream",
     "text": [
      "{'ner': 0.12566950419452017}\n",
      "{'ner': 0.12566951827619938}\n",
      "{'ner': 0.1256695472002201}\n"
     ]
    },
    {
     "name": "stderr",
     "output_type": "stream",
     "text": [
      "\r",
      "9it [00:00, 26.13it/s]"
     ]
    },
    {
     "name": "stdout",
     "output_type": "stream",
     "text": [
      "{'ner': 0.1256718995524211}\n",
      "{'ner': 0.12567222624033217}\n",
      "{'ner': 0.1256723258233902}\n"
     ]
    },
    {
     "name": "stderr",
     "output_type": "stream",
     "text": [
      "11it [00:00, 26.03it/s]\n"
     ]
    },
    {
     "name": "stdout",
     "output_type": "stream",
     "text": [
      "{'ner': 0.12567232587098143}\n"
     ]
    },
    {
     "name": "stderr",
     "output_type": "stream",
     "text": [
      "\r",
      "0it [00:00, ?it/s]"
     ]
    },
    {
     "name": "stdout",
     "output_type": "stream",
     "text": [
      "{'ner': 1.8621467649343415}\n",
      "{'ner': 1.8621526079312045}\n"
     ]
    },
    {
     "name": "stderr",
     "output_type": "stream",
     "text": [
      "\r",
      "3it [00:00, 24.74it/s]"
     ]
    },
    {
     "name": "stdout",
     "output_type": "stream",
     "text": [
      "{'ner': 1.862154536851592}\n",
      "{'ner': 1.8801277177178262}\n"
     ]
    },
    {
     "name": "stderr",
     "output_type": "stream",
     "text": [
      "\r",
      "6it [00:00, 25.59it/s]"
     ]
    },
    {
     "name": "stdout",
     "output_type": "stream",
     "text": [
      "{'ner': 1.9251170670092734}\n",
      "{'ner': 1.9651351944739823}\n",
      "{'ner': 1.9668308253528304}\n"
     ]
    },
    {
     "name": "stderr",
     "output_type": "stream",
     "text": [
      "\r",
      "9it [00:00, 24.18it/s]"
     ]
    },
    {
     "name": "stdout",
     "output_type": "stream",
     "text": [
      "{'ner': 3.9668277343341276}\n",
      "{'ner': 4.83258031796602}\n"
     ]
    },
    {
     "name": "stderr",
     "output_type": "stream",
     "text": [
      "11it [00:00, 24.20it/s]\n"
     ]
    },
    {
     "name": "stdout",
     "output_type": "stream",
     "text": [
      "{'ner': 4.832712123842966}\n",
      "{'ner': 4.837795688577563}\n"
     ]
    },
    {
     "name": "stderr",
     "output_type": "stream",
     "text": [
      "\r",
      "0it [00:00, ?it/s]"
     ]
    },
    {
     "name": "stdout",
     "output_type": "stream",
     "text": [
      "{'ner': 0.22546488850420424}\n"
     ]
    },
    {
     "name": "stderr",
     "output_type": "stream",
     "text": [
      "\r",
      "3it [00:00, 22.50it/s]"
     ]
    },
    {
     "name": "stdout",
     "output_type": "stream",
     "text": [
      "{'ner': 0.22547398607426208}\n",
      "{'ner': 0.8500308847393775}\n",
      "{'ner': 0.8987028711585697}\n",
      "{'ner': 0.8987028749602973}\n",
      "{'ner': 1.304578743877376}\n"
     ]
    },
    {
     "name": "stderr",
     "output_type": "stream",
     "text": [
      "\r",
      "7it [00:00, 27.63it/s]"
     ]
    },
    {
     "name": "stdout",
     "output_type": "stream",
     "text": [
      "{'ner': 1.3045788194828132}\n",
      "{'ner': 1.304578819486718}\n"
     ]
    },
    {
     "name": "stderr",
     "output_type": "stream",
     "text": [
      "11it [00:00, 29.74it/s]\n"
     ]
    },
    {
     "name": "stdout",
     "output_type": "stream",
     "text": [
      "{'ner': 1.3045788880630398}\n",
      "{'ner': 5.275129449461835}\n",
      "{'ner': 5.275142526135346}\n"
     ]
    },
    {
     "name": "stderr",
     "output_type": "stream",
     "text": [
      "\r",
      "0it [00:00, ?it/s]"
     ]
    },
    {
     "name": "stdout",
     "output_type": "stream",
     "text": [
      "{'ner': 1.7096235225591216e-14}\n",
      "{'ner': 0.028816147716944226}\n"
     ]
    },
    {
     "name": "stderr",
     "output_type": "stream",
     "text": [
      "\r",
      "3it [00:00, 27.57it/s]"
     ]
    },
    {
     "name": "stdout",
     "output_type": "stream",
     "text": [
      "{'ner': 2.0207020832121856}\n"
     ]
    },
    {
     "name": "stderr",
     "output_type": "stream",
     "text": [
      "\r",
      "6it [00:00, 24.79it/s]"
     ]
    },
    {
     "name": "stdout",
     "output_type": "stream",
     "text": [
      "{'ner': 2.0207022118993603}\n",
      "{'ner': 2.0207263679281855}\n",
      "{'ner': 2.02072657082858}\n",
      "{'ner': 4.022083173922492}\n",
      "{'ner': 4.11957837660403}\n",
      "{'ner': 4.119578409150909}\n"
     ]
    },
    {
     "name": "stderr",
     "output_type": "stream",
     "text": [
      "11it [00:00, 27.46it/s]\n"
     ]
    },
    {
     "name": "stdout",
     "output_type": "stream",
     "text": [
      "{'ner': 4.547950408616781}\n",
      "{'ner': 4.565114609252705}\n"
     ]
    },
    {
     "name": "stderr",
     "output_type": "stream",
     "text": [
      "\r",
      "0it [00:00, ?it/s]"
     ]
    },
    {
     "name": "stdout",
     "output_type": "stream",
     "text": [
      "{'ner': 0.8038701201867293}\n"
     ]
    },
    {
     "name": "stderr",
     "output_type": "stream",
     "text": [
      "\r",
      "3it [00:00, 22.85it/s]"
     ]
    },
    {
     "name": "stdout",
     "output_type": "stream",
     "text": [
      "{'ner': 0.8038701921276739}\n",
      "{'ner': 0.8038701921896828}\n",
      "{'ner': 0.8038701921904908}\n",
      "{'ner': 0.8038702130337434}\n"
     ]
    },
    {
     "name": "stderr",
     "output_type": "stream",
     "text": [
      "\r",
      "6it [00:00, 23.05it/s]"
     ]
    },
    {
     "name": "stdout",
     "output_type": "stream",
     "text": [
      "{'ner': 0.8038702428906627}\n",
      "{'ner': 0.8038702433347984}\n",
      "{'ner': 0.8038713634288956}\n"
     ]
    },
    {
     "name": "stderr",
     "output_type": "stream",
     "text": [
      "\r",
      "9it [00:00, 23.37it/s]"
     ]
    },
    {
     "name": "stdout",
     "output_type": "stream",
     "text": [
      "{'ner': 2.8038644493205997}\n"
     ]
    },
    {
     "name": "stderr",
     "output_type": "stream",
     "text": [
      "11it [00:00, 24.51it/s]\n"
     ]
    },
    {
     "name": "stdout",
     "output_type": "stream",
     "text": [
      "{'ner': 2.803877499881591}\n",
      "{'ner': 2.803878166825141}\n"
     ]
    },
    {
     "name": "stderr",
     "output_type": "stream",
     "text": [
      "\r",
      "0it [00:00, ?it/s]"
     ]
    },
    {
     "name": "stdout",
     "output_type": "stream",
     "text": [
      "{'ner': 1.8302124460228337e-09}\n"
     ]
    },
    {
     "name": "stderr",
     "output_type": "stream",
     "text": [
      "\r",
      "3it [00:00, 25.19it/s]"
     ]
    },
    {
     "name": "stdout",
     "output_type": "stream",
     "text": [
      "{'ner': 0.0021436210676013742}\n",
      "{'ner': 0.002143621081561362}\n",
      "{'ner': 0.0022041479226966344}\n"
     ]
    },
    {
     "name": "stderr",
     "output_type": "stream",
     "text": [
      "\r",
      "6it [00:00, 26.42it/s]"
     ]
    },
    {
     "name": "stdout",
     "output_type": "stream",
     "text": [
      "{'ner': 0.002204149416469155}\n",
      "{'ner': 0.00220414943407024}\n",
      "{'ner': 1.772192884496473}\n",
      "{'ner': 3.098933828281738}\n"
     ]
    },
    {
     "name": "stderr",
     "output_type": "stream",
     "text": [
      "\r",
      "9it [00:00, 21.87it/s]"
     ]
    },
    {
     "name": "stdout",
     "output_type": "stream",
     "text": [
      "{'ner': 3.108408870612419}\n",
      "{'ner': 4.152420841091762}\n"
     ]
    },
    {
     "name": "stderr",
     "output_type": "stream",
     "text": [
      "11it [00:00, 23.31it/s]\n"
     ]
    },
    {
     "name": "stdout",
     "output_type": "stream",
     "text": [
      "{'ner': 4.152420841091856}\n"
     ]
    },
    {
     "name": "stderr",
     "output_type": "stream",
     "text": [
      "3it [00:00, 26.37it/s]"
     ]
    },
    {
     "name": "stdout",
     "output_type": "stream",
     "text": [
      "{'ner': 0.0017907808267263847}\n",
      "{'ner': 0.0017907883677741277}\n",
      "{'ner': 0.0018991266915223415}\n",
      "{'ner': 0.00189915899510276}\n",
      "{'ner': 0.001899162632790381}\n"
     ]
    },
    {
     "name": "stderr",
     "output_type": "stream",
     "text": [
      "\r",
      "6it [00:00, 26.20it/s]"
     ]
    },
    {
     "name": "stdout",
     "output_type": "stream",
     "text": [
      "{'ner': 0.00189916263845998}\n"
     ]
    },
    {
     "name": "stderr",
     "output_type": "stream",
     "text": [
      "\r",
      "9it [00:00, 26.30it/s]"
     ]
    },
    {
     "name": "stdout",
     "output_type": "stream",
     "text": [
      "{'ner': 0.0019056518684137183}\n",
      "{'ner': 0.0038761910638848503}\n",
      "{'ner': 0.003876191125378022}\n"
     ]
    },
    {
     "name": "stderr",
     "output_type": "stream",
     "text": [
      "11it [00:00, 26.65it/s]\n"
     ]
    },
    {
     "name": "stdout",
     "output_type": "stream",
     "text": [
      "{'ner': 0.02194888699647284}\n",
      "{'ner': 2.009982746286848}\n"
     ]
    },
    {
     "name": "stderr",
     "output_type": "stream",
     "text": [
      "\r",
      "0it [00:00, ?it/s]"
     ]
    },
    {
     "name": "stdout",
     "output_type": "stream",
     "text": [
      "{'ner': 1.8162537813273079}\n"
     ]
    },
    {
     "name": "stderr",
     "output_type": "stream",
     "text": [
      "\r",
      "3it [00:00, 24.22it/s]"
     ]
    },
    {
     "name": "stdout",
     "output_type": "stream",
     "text": [
      "{'ner': 1.8162537817951818}\n",
      "{'ner': 1.816253781795455}\n",
      "{'ner': 1.8194766076274764}\n"
     ]
    },
    {
     "name": "stderr",
     "output_type": "stream",
     "text": [
      "\r",
      "6it [00:00, 25.64it/s]"
     ]
    },
    {
     "name": "stdout",
     "output_type": "stream",
     "text": [
      "{'ner': 1.8194768829897678}\n",
      "{'ner': 1.8199857298630848}\n",
      "{'ner': 1.8208770818150184}\n"
     ]
    },
    {
     "name": "stderr",
     "output_type": "stream",
     "text": [
      "\r",
      "9it [00:00, 25.19it/s]"
     ]
    },
    {
     "name": "stdout",
     "output_type": "stream",
     "text": [
      "{'ner': 1.8208770819722362}\n",
      "{'ner': 1.820883010556447}\n"
     ]
    },
    {
     "name": "stderr",
     "output_type": "stream",
     "text": [
      "11it [00:00, 26.14it/s]\n"
     ]
    },
    {
     "name": "stdout",
     "output_type": "stream",
     "text": [
      "{'ner': 1.820883010693615}\n",
      "{'ner': 1.820883010703427}\n"
     ]
    },
    {
     "name": "stderr",
     "output_type": "stream",
     "text": [
      "\r",
      "0it [00:00, ?it/s]"
     ]
    },
    {
     "name": "stdout",
     "output_type": "stream",
     "text": [
      "{'ner': 3.6476364373634246e-09}\n",
      "{'ner': 3.914749211588573e-09}\n"
     ]
    },
    {
     "name": "stderr",
     "output_type": "stream",
     "text": [
      "\r",
      "3it [00:00, 27.58it/s]"
     ]
    },
    {
     "name": "stdout",
     "output_type": "stream",
     "text": [
      "{'ner': 1.4900574090308095e-05}\n",
      "{'ner': 1.4901698298160047e-05}\n",
      "{'ner': 2.4264483014383827e-05}\n"
     ]
    },
    {
     "name": "stderr",
     "output_type": "stream",
     "text": [
      "\r",
      "6it [00:00, 23.54it/s]"
     ]
    },
    {
     "name": "stdout",
     "output_type": "stream",
     "text": [
      "{'ner': 0.0011883313320551823}\n"
     ]
    },
    {
     "name": "stderr",
     "output_type": "stream",
     "text": [
      "\r",
      "9it [00:00, 21.60it/s]"
     ]
    },
    {
     "name": "stdout",
     "output_type": "stream",
     "text": [
      "{'ner': 0.6433113159274354}\n",
      "{'ner': 0.643311327248437}\n",
      "{'ner': 2.4619959423347786}\n"
     ]
    },
    {
     "name": "stderr",
     "output_type": "stream",
     "text": [
      "\r",
      "11it [00:00, 24.46it/s]"
     ]
    },
    {
     "name": "stdout",
     "output_type": "stream",
     "text": [
      "{'ner': 2.4620011354205897}\n",
      "{'ner': 2.4620011354208926}\n"
     ]
    },
    {
     "name": "stderr",
     "output_type": "stream",
     "text": [
      "\n",
      "0it [00:00, ?it/s]"
     ]
    },
    {
     "name": "stdout",
     "output_type": "stream",
     "text": [
      "{'ner': 9.009454048029669e-05}\n"
     ]
    },
    {
     "name": "stderr",
     "output_type": "stream",
     "text": [
      "\r",
      "3it [00:00, 24.37it/s]"
     ]
    },
    {
     "name": "stdout",
     "output_type": "stream",
     "text": [
      "{'ner': 9.009475796821061e-05}\n",
      "{'ner': 9.009569933561383e-05}\n",
      "{'ner': 0.0009303888522381551}\n"
     ]
    },
    {
     "name": "stderr",
     "output_type": "stream",
     "text": [
      "\r",
      "6it [00:00, 25.78it/s]"
     ]
    },
    {
     "name": "stdout",
     "output_type": "stream",
     "text": [
      "{'ner': 0.0009303888746377407}\n",
      "{'ner': 1.8202179280747033}\n",
      "{'ner': 1.8207589787066674}\n"
     ]
    },
    {
     "name": "stderr",
     "output_type": "stream",
     "text": [
      "\r",
      "9it [00:00, 26.44it/s]"
     ]
    },
    {
     "name": "stdout",
     "output_type": "stream",
     "text": [
      "{'ner': 1.820758978706677}\n",
      "{'ner': 1.821895398615939}\n",
      "{'ner': 1.8218962594110895}\n"
     ]
    },
    {
     "name": "stderr",
     "output_type": "stream",
     "text": [
      "11it [00:00, 27.11it/s]\n"
     ]
    },
    {
     "name": "stdout",
     "output_type": "stream",
     "text": [
      "{'ner': 1.8218962594137573}\n"
     ]
    },
    {
     "name": "stderr",
     "output_type": "stream",
     "text": [
      "\r",
      "0it [00:00, ?it/s]"
     ]
    },
    {
     "name": "stdout",
     "output_type": "stream",
     "text": [
      "{'ner': 1.0122788282400925e-11}\n",
      "{'ner': 1.0550796641840082e-08}\n"
     ]
    },
    {
     "name": "stderr",
     "output_type": "stream",
     "text": [
      "\r",
      "3it [00:00, 22.28it/s]"
     ]
    },
    {
     "name": "stdout",
     "output_type": "stream",
     "text": [
      "{'ner': 0.720821182567412}\n",
      "{'ner': 0.7208532382405558}\n"
     ]
    },
    {
     "name": "stderr",
     "output_type": "stream",
     "text": [
      "\r",
      "6it [00:00, 24.63it/s]"
     ]
    },
    {
     "name": "stdout",
     "output_type": "stream",
     "text": [
      "{'ner': 0.7208535308156164}\n",
      "{'ner': 0.7208535308514854}\n",
      "{'ner': 0.7208550066702958}\n",
      "{'ner': 2.3465219666355126}\n"
     ]
    },
    {
     "name": "stderr",
     "output_type": "stream",
     "text": [
      "11it [00:00, 26.68it/s]\n"
     ]
    },
    {
     "name": "stdout",
     "output_type": "stream",
     "text": [
      "{'ner': 2.3465221110932304}\n",
      "{'ner': 2.346986194692392}\n",
      "{'ner': 2.346986194693079}\n"
     ]
    },
    {
     "name": "stderr",
     "output_type": "stream",
     "text": [
      "\r",
      "0it [00:00, ?it/s]"
     ]
    },
    {
     "name": "stdout",
     "output_type": "stream",
     "text": [
      "{'ner': 4.046417779600878e-07}\n",
      "{'ner': 5.686224117546785e-07}\n"
     ]
    },
    {
     "name": "stderr",
     "output_type": "stream",
     "text": [
      "\r",
      "3it [00:00, 21.08it/s]"
     ]
    },
    {
     "name": "stdout",
     "output_type": "stream",
     "text": [
      "{'ner': 5.686240569932893e-07}\n",
      "{'ner': 5.686240574974046e-07}\n",
      "{'ner': 5.844009088667745e-07}\n"
     ]
    },
    {
     "name": "stderr",
     "output_type": "stream",
     "text": [
      "\r",
      "6it [00:00, 21.59it/s]"
     ]
    },
    {
     "name": "stdout",
     "output_type": "stream",
     "text": [
      "{'ner': 5.844940406561759e-07}\n",
      "{'ner': 1.97898637095978}\n"
     ]
    },
    {
     "name": "stderr",
     "output_type": "stream",
     "text": [
      "11it [00:00, 24.84it/s]\n"
     ]
    },
    {
     "name": "stdout",
     "output_type": "stream",
     "text": [
      "{'ner': 1.9789863710769273}\n",
      "{'ner': 1.9789863711405495}\n",
      "{'ner': 1.9789905383594482}\n",
      "{'ner': 2.2160166876204443}\n"
     ]
    },
    {
     "name": "stderr",
     "output_type": "stream",
     "text": [
      "\r",
      "0it [00:00, ?it/s]"
     ]
    },
    {
     "name": "stdout",
     "output_type": "stream",
     "text": [
      "{'ner': 4.415054982684576e-09}\n",
      "{'ner': 0.04077807081163998}\n"
     ]
    },
    {
     "name": "stderr",
     "output_type": "stream",
     "text": [
      "6it [00:00, 26.35it/s]"
     ]
    },
    {
     "name": "stdout",
     "output_type": "stream",
     "text": [
      "{'ner': 5.27891114366536}\n",
      "{'ner': 6.9547752672271415}\n",
      "{'ner': 6.954776749609569}\n",
      "{'ner': 6.95477675096961}\n",
      "{'ner': 6.9547767509800895}\n",
      "{'ner': 7.519909182545364}\n"
     ]
    },
    {
     "name": "stderr",
     "output_type": "stream",
     "text": [
      "11it [00:00, 27.47it/s]\n"
     ]
    },
    {
     "name": "stdout",
     "output_type": "stream",
     "text": [
      "{'ner': 7.519909200931848}\n",
      "{'ner': 7.519909269583844}\n",
      "{'ner': 7.519909357891885}\n"
     ]
    },
    {
     "name": "stderr",
     "output_type": "stream",
     "text": [
      "\r",
      "0it [00:00, ?it/s]"
     ]
    },
    {
     "name": "stdout",
     "output_type": "stream",
     "text": [
      "{'ner': 0.0013904375713717785}\n"
     ]
    },
    {
     "name": "stderr",
     "output_type": "stream",
     "text": [
      "\r",
      "2it [00:00, 18.83it/s]"
     ]
    },
    {
     "name": "stdout",
     "output_type": "stream",
     "text": [
      "{'ner': 3.560021460868545}\n"
     ]
    },
    {
     "name": "stderr",
     "output_type": "stream",
     "text": [
      "\r",
      "5it [00:00, 21.61it/s]"
     ]
    },
    {
     "name": "stdout",
     "output_type": "stream",
     "text": [
      "{'ner': 3.5600214608967677}\n",
      "{'ner': 5.28305150652739}\n",
      "{'ner': 6.127620362270403}\n",
      "{'ner': 6.12762036557146}\n",
      "{'ner': 6.127620637219206}\n"
     ]
    },
    {
     "name": "stderr",
     "output_type": "stream",
     "text": [
      "\r",
      "8it [00:00, 23.70it/s]"
     ]
    },
    {
     "name": "stdout",
     "output_type": "stream",
     "text": [
      "{'ner': 6.127620639063677}\n"
     ]
    },
    {
     "name": "stderr",
     "output_type": "stream",
     "text": [
      "11it [00:00, 25.17it/s]\n"
     ]
    },
    {
     "name": "stdout",
     "output_type": "stream",
     "text": [
      "{'ner': 6.1276419157595985}\n",
      "{'ner': 6.127702669206219}\n",
      "{'ner': 6.127702669206222}\n"
     ]
    },
    {
     "name": "stderr",
     "output_type": "stream",
     "text": [
      "\r",
      "0it [00:00, ?it/s]"
     ]
    },
    {
     "name": "stdout",
     "output_type": "stream",
     "text": [
      "{'ner': 3.0551232856216936e-08}\n",
      "{'ner': 3.296438103634431e-08}\n"
     ]
    },
    {
     "name": "stderr",
     "output_type": "stream",
     "text": [
      "\r",
      "3it [00:00, 26.84it/s]"
     ]
    },
    {
     "name": "stdout",
     "output_type": "stream",
     "text": [
      "{'ner': 0.2852477053036826}\n",
      "{'ner': 0.28524775984554324}\n",
      "{'ner': 2.2472907610668593}\n",
      "{'ner': 2.2472907611939457}\n"
     ]
    },
    {
     "name": "stderr",
     "output_type": "stream",
     "text": [
      "\r",
      "7it [00:00, 28.46it/s]"
     ]
    },
    {
     "name": "stdout",
     "output_type": "stream",
     "text": [
      "{'ner': 2.247516333244176}\n",
      "{'ner': 3.8187378044024025}\n"
     ]
    },
    {
     "name": "stderr",
     "output_type": "stream",
     "text": [
      "\r",
      "10it [00:00, 28.49it/s]"
     ]
    },
    {
     "name": "stdout",
     "output_type": "stream",
     "text": [
      "{'ner': 3.8379966096328864}\n",
      "{'ner': 3.837999118638508}\n"
     ]
    },
    {
     "name": "stderr",
     "output_type": "stream",
     "text": [
      "11it [00:00, 28.43it/s]\n"
     ]
    },
    {
     "name": "stdout",
     "output_type": "stream",
     "text": [
      "{'ner': 5.799581808265883}\n"
     ]
    },
    {
     "name": "stderr",
     "output_type": "stream",
     "text": [
      "\r",
      "0it [00:00, ?it/s]"
     ]
    },
    {
     "name": "stdout",
     "output_type": "stream",
     "text": [
      "{'ner': 1.2542605030178244e-08}\n"
     ]
    },
    {
     "name": "stderr",
     "output_type": "stream",
     "text": [
      "\r",
      "4it [00:00, 29.31it/s]"
     ]
    },
    {
     "name": "stdout",
     "output_type": "stream",
     "text": [
      "{'ner': 1.2560530483668862e-08}\n",
      "{'ner': 0.009404276021301118}\n",
      "{'ner': 0.009404276027592397}\n",
      "{'ner': 0.013352521165551565}\n",
      "{'ner': 0.020714378394230796}\n"
     ]
    },
    {
     "name": "stderr",
     "output_type": "stream",
     "text": [
      "\r",
      "7it [00:00, 25.54it/s]"
     ]
    },
    {
     "name": "stdout",
     "output_type": "stream",
     "text": [
      "{'ner': 0.0207143829564723}\n",
      "{'ner': 0.02261121418914784}\n",
      "{'ner': 0.022615719326335576}\n"
     ]
    },
    {
     "name": "stderr",
     "output_type": "stream",
     "text": [
      "11it [00:00, 27.65it/s]\n"
     ]
    },
    {
     "name": "stdout",
     "output_type": "stream",
     "text": [
      "{'ner': 0.029789786559760178}\n",
      "{'ner': 0.029789786568071883}\n"
     ]
    },
    {
     "name": "stderr",
     "output_type": "stream",
     "text": [
      "\r",
      "0it [00:00, ?it/s]"
     ]
    },
    {
     "name": "stdout",
     "output_type": "stream",
     "text": [
      "{'ner': 2.6376711019125383e-09}\n",
      "{'ner': 6.598538871139257e-07}\n"
     ]
    },
    {
     "name": "stderr",
     "output_type": "stream",
     "text": [
      "\r",
      "3it [00:00, 22.80it/s]"
     ]
    },
    {
     "name": "stdout",
     "output_type": "stream",
     "text": [
      "{'ner': 7.242707912160598e-07}\n",
      "{'ner': 0.8600645075824622}\n",
      "{'ner': 0.8600885617368396}\n"
     ]
    },
    {
     "name": "stderr",
     "output_type": "stream",
     "text": [
      "\r",
      "6it [00:00, 21.73it/s]"
     ]
    },
    {
     "name": "stdout",
     "output_type": "stream",
     "text": [
      "{'ner': 0.8600885617399203}\n",
      "{'ner': 0.8600885617578985}\n",
      "{'ner': 0.8600886576654658}\n"
     ]
    },
    {
     "name": "stderr",
     "output_type": "stream",
     "text": [
      "11it [00:00, 23.89it/s]\n"
     ]
    },
    {
     "name": "stdout",
     "output_type": "stream",
     "text": [
      "{'ner': 2.3328935414282843}\n",
      "{'ner': 2.3328935414421936}\n",
      "{'ner': 2.332893543277261}\n"
     ]
    },
    {
     "name": "stderr",
     "output_type": "stream",
     "text": [
      "\r",
      "0it [00:00, ?it/s]"
     ]
    },
    {
     "name": "stdout",
     "output_type": "stream",
     "text": [
      "{'ner': 1.999981929046044}\n",
      "{'ner': 2.010797751192621}\n"
     ]
    },
    {
     "name": "stderr",
     "output_type": "stream",
     "text": [
      "\r",
      "3it [00:00, 20.90it/s]"
     ]
    },
    {
     "name": "stdout",
     "output_type": "stream",
     "text": [
      "{'ner': 2.0107980425794656}\n",
      "{'ner': 2.0107980425811354}\n",
      "{'ner': 2.010798042818346}\n"
     ]
    },
    {
     "name": "stderr",
     "output_type": "stream",
     "text": [
      "\r",
      "6it [00:00, 23.29it/s]"
     ]
    },
    {
     "name": "stdout",
     "output_type": "stream",
     "text": [
      "{'ner': 2.0107980470367717}\n",
      "{'ner': 3.827706056647518}\n"
     ]
    },
    {
     "name": "stderr",
     "output_type": "stream",
     "text": [
      "\r",
      "9it [00:00, 20.93it/s]"
     ]
    },
    {
     "name": "stdout",
     "output_type": "stream",
     "text": [
      "{'ner': 3.8523870030020926}\n",
      "{'ner': 3.854047669501157}\n",
      "{'ner': 3.8540476695750376}\n"
     ]
    },
    {
     "name": "stderr",
     "output_type": "stream",
     "text": [
      "11it [00:00, 23.00it/s]\n"
     ]
    },
    {
     "name": "stdout",
     "output_type": "stream",
     "text": [
      "{'ner': 3.8540476712902345}\n"
     ]
    },
    {
     "name": "stderr",
     "output_type": "stream",
     "text": [
      "\r",
      "0it [00:00, ?it/s]"
     ]
    },
    {
     "name": "stdout",
     "output_type": "stream",
     "text": [
      "{'ner': 0.000983792426919188}\n",
      "{'ner': 0.0009837926627786222}\n"
     ]
    },
    {
     "name": "stderr",
     "output_type": "stream",
     "text": [
      "\r",
      "3it [00:00, 23.52it/s]"
     ]
    },
    {
     "name": "stdout",
     "output_type": "stream",
     "text": [
      "{'ner': 0.0009873919038516637}\n",
      "{'ner': 0.0009873966358934397}\n",
      "{'ner': 0.006304303949311064}\n",
      "{'ner': 0.006560883604335797}\n"
     ]
    },
    {
     "name": "stderr",
     "output_type": "stream",
     "text": [
      "\r",
      "7it [00:00, 27.04it/s]"
     ]
    },
    {
     "name": "stdout",
     "output_type": "stream",
     "text": [
      "{'ner': 0.006560883700835237}\n",
      "{'ner': 0.006560883702144856}\n"
     ]
    },
    {
     "name": "stderr",
     "output_type": "stream",
     "text": [
      "11it [00:00, 26.71it/s]\n"
     ]
    },
    {
     "name": "stdout",
     "output_type": "stream",
     "text": [
      "{'ner': 0.006563165832078756}\n",
      "{'ner': 1.0902182889365915}\n",
      "{'ner': 1.0902182889365915}\n"
     ]
    },
    {
     "name": "stderr",
     "output_type": "stream",
     "text": [
      "\r",
      "0it [00:00, ?it/s]"
     ]
    },
    {
     "name": "stdout",
     "output_type": "stream",
     "text": [
      "{'ner': 2.1729463337267404e-07}\n"
     ]
    },
    {
     "name": "stderr",
     "output_type": "stream",
     "text": [
      "\r",
      "3it [00:00, 23.83it/s]"
     ]
    },
    {
     "name": "stdout",
     "output_type": "stream",
     "text": [
      "{'ner': 2.4723602230020166e-07}\n",
      "{'ner': 2.5179240492097585e-07}\n"
     ]
    },
    {
     "name": "stderr",
     "output_type": "stream",
     "text": [
      "\r",
      "6it [00:00, 25.79it/s]"
     ]
    },
    {
     "name": "stdout",
     "output_type": "stream",
     "text": [
      "{'ner': 2.949612067526879e-07}\n",
      "{'ner': 3.96174834255387}\n",
      "{'ner': 3.9617483908349924}\n",
      "{'ner': 3.9617483980329236}\n"
     ]
    },
    {
     "name": "stderr",
     "output_type": "stream",
     "text": [
      "\r",
      "9it [00:00, 25.47it/s]"
     ]
    },
    {
     "name": "stdout",
     "output_type": "stream",
     "text": [
      "{'ner': 4.046733799153538}\n",
      "{'ner': 4.046736868872395}\n"
     ]
    },
    {
     "name": "stderr",
     "output_type": "stream",
     "text": [
      "11it [00:00, 27.24it/s]\n"
     ]
    },
    {
     "name": "stdout",
     "output_type": "stream",
     "text": [
      "{'ner': 4.046743035238001}\n",
      "{'ner': 4.056897217346952}\n"
     ]
    },
    {
     "name": "stderr",
     "output_type": "stream",
     "text": [
      "\r",
      "0it [00:00, ?it/s]"
     ]
    },
    {
     "name": "stdout",
     "output_type": "stream",
     "text": [
      "{'ner': 1.381180048281283}\n",
      "{'ner': 1.3811800650306978}\n"
     ]
    },
    {
     "name": "stderr",
     "output_type": "stream",
     "text": [
      "\r",
      "3it [00:00, 24.55it/s]"
     ]
    },
    {
     "name": "stdout",
     "output_type": "stream",
     "text": [
      "{'ner': 1.3811800805949372}\n",
      "{'ner': 3.2925505880491395}\n"
     ]
    },
    {
     "name": "stderr",
     "output_type": "stream",
     "text": [
      "\r",
      "6it [00:00, 26.76it/s]"
     ]
    },
    {
     "name": "stdout",
     "output_type": "stream",
     "text": [
      "{'ner': 3.296505203451476}\n",
      "{'ner': 3.2965052034522238}\n",
      "{'ner': 3.2965251644060345}\n",
      "{'ner': 3.296525229148241}\n"
     ]
    },
    {
     "name": "stderr",
     "output_type": "stream",
     "text": [
      "\r",
      "9it [00:00, 26.17it/s]"
     ]
    },
    {
     "name": "stdout",
     "output_type": "stream",
     "text": [
      "{'ner': 3.2965252291975813}\n",
      "{'ner': 3.3308370376630276}\n"
     ]
    },
    {
     "name": "stderr",
     "output_type": "stream",
     "text": [
      "11it [00:00, 26.36it/s]\n"
     ]
    },
    {
     "name": "stdout",
     "output_type": "stream",
     "text": [
      "{'ner': 3.3308370376673757}\n"
     ]
    },
    {
     "name": "stderr",
     "output_type": "stream",
     "text": [
      "\r",
      "0it [00:00, ?it/s]"
     ]
    },
    {
     "name": "stdout",
     "output_type": "stream",
     "text": [
      "{'ner': 5.644490506737359e-10}\n",
      "{'ner': 1.9981254962733372}\n"
     ]
    },
    {
     "name": "stderr",
     "output_type": "stream",
     "text": [
      "\r",
      "3it [00:00, 26.04it/s]"
     ]
    },
    {
     "name": "stdout",
     "output_type": "stream",
     "text": [
      "{'ner': 1.9981255003573863}\n",
      "{'ner': 4.012932513021124}\n",
      "{'ner': 4.012932513082699}\n"
     ]
    },
    {
     "name": "stderr",
     "output_type": "stream",
     "text": [
      "\r",
      "6it [00:00, 21.68it/s]"
     ]
    },
    {
     "name": "stdout",
     "output_type": "stream",
     "text": [
      "{'ner': 4.012932516431694}\n",
      "{'ner': 4.012932584770127}\n",
      "{'ner': 4.0129325897573915}\n"
     ]
    },
    {
     "name": "stderr",
     "output_type": "stream",
     "text": [
      "\r",
      "9it [00:00, 23.24it/s]"
     ]
    },
    {
     "name": "stdout",
     "output_type": "stream",
     "text": [
      "{'ner': 4.012932589757528}\n"
     ]
    },
    {
     "name": "stderr",
     "output_type": "stream",
     "text": [
      "11it [00:00, 24.13it/s]\n"
     ]
    },
    {
     "name": "stdout",
     "output_type": "stream",
     "text": [
      "{'ner': 4.012932589791364}\n",
      "{'ner': 4.012935566346353}\n"
     ]
    },
    {
     "name": "stderr",
     "output_type": "stream",
     "text": [
      "\r",
      "0it [00:00, ?it/s]"
     ]
    },
    {
     "name": "stdout",
     "output_type": "stream",
     "text": [
      "{'ner': 3.0796431236921504e-16}\n",
      "{'ner': 9.380172364263408e-11}\n"
     ]
    },
    {
     "name": "stderr",
     "output_type": "stream",
     "text": [
      "\r",
      "3it [00:00, 22.41it/s]"
     ]
    },
    {
     "name": "stdout",
     "output_type": "stream",
     "text": [
      "{'ner': 1.2647764354368103e-05}\n",
      "{'ner': 0.022689969078639526}\n",
      "{'ner': 0.02268996907995877}\n"
     ]
    },
    {
     "name": "stderr",
     "output_type": "stream",
     "text": [
      "\r",
      "6it [00:00, 20.54it/s]"
     ]
    },
    {
     "name": "stdout",
     "output_type": "stream",
     "text": [
      "{'ner': 0.02269400490048737}\n",
      "{'ner': 1.6221867932164094}\n",
      "{'ner': 1.6221868059386797}\n"
     ]
    },
    {
     "name": "stderr",
     "output_type": "stream",
     "text": [
      "\r",
      "9it [00:00, 19.86it/s]"
     ]
    },
    {
     "name": "stdout",
     "output_type": "stream",
     "text": [
      "{'ner': 1.6221868062771883}\n",
      "{'ner': 1.6221868082206325}\n"
     ]
    },
    {
     "name": "stderr",
     "output_type": "stream",
     "text": [
      "11it [00:00, 22.15it/s]\n"
     ]
    },
    {
     "name": "stdout",
     "output_type": "stream",
     "text": [
      "{'ner': 1.6221868636210433}\n"
     ]
    },
    {
     "name": "stderr",
     "output_type": "stream",
     "text": [
      "\r",
      "0it [00:00, ?it/s]"
     ]
    },
    {
     "name": "stdout",
     "output_type": "stream",
     "text": [
      "{'ner': 3.0950017878429716e-11}\n"
     ]
    },
    {
     "name": "stderr",
     "output_type": "stream",
     "text": [
      "\r",
      "3it [00:00, 23.51it/s]"
     ]
    },
    {
     "name": "stdout",
     "output_type": "stream",
     "text": [
      "{'ner': 1.9243999178309228}\n",
      "{'ner': 1.9243999644237904}\n",
      "{'ner': 1.924400241243482}\n"
     ]
    },
    {
     "name": "stderr",
     "output_type": "stream",
     "text": [
      "\r",
      "6it [00:00, 24.22it/s]"
     ]
    },
    {
     "name": "stdout",
     "output_type": "stream",
     "text": [
      "{'ner': 1.9244004598712683}\n",
      "{'ner': 2.058065783153874}\n",
      "{'ner': 2.0580682439831683}\n"
     ]
    },
    {
     "name": "stderr",
     "output_type": "stream",
     "text": [
      "\r",
      "9it [00:00, 24.48it/s]"
     ]
    },
    {
     "name": "stdout",
     "output_type": "stream",
     "text": [
      "{'ner': 2.058068243983774}\n",
      "{'ner': 2.212193132662268}\n"
     ]
    },
    {
     "name": "stderr",
     "output_type": "stream",
     "text": [
      "11it [00:00, 24.95it/s]\n"
     ]
    },
    {
     "name": "stdout",
     "output_type": "stream",
     "text": [
      "{'ner': 2.819020128364123}\n",
      "{'ner': 2.819020128371439}\n"
     ]
    },
    {
     "name": "stderr",
     "output_type": "stream",
     "text": [
      "\r",
      "0it [00:00, ?it/s]"
     ]
    },
    {
     "name": "stdout",
     "output_type": "stream",
     "text": [
      "{'ner': 2.2581455247531725e-09}\n"
     ]
    },
    {
     "name": "stderr",
     "output_type": "stream",
     "text": [
      "\r",
      "3it [00:00, 23.23it/s]"
     ]
    },
    {
     "name": "stdout",
     "output_type": "stream",
     "text": [
      "{'ner': 3.3501283856789216e-08}\n",
      "{'ner': 3.47005475841488e-08}\n",
      "{'ner': 3.47062975321233e-08}\n",
      "{'ner': 4.410904278939323e-08}\n"
     ]
    },
    {
     "name": "stderr",
     "output_type": "stream",
     "text": [
      "\r",
      "6it [00:00, 21.22it/s]"
     ]
    },
    {
     "name": "stdout",
     "output_type": "stream",
     "text": [
      "{'ner': 4.410919139533815e-08}\n"
     ]
    },
    {
     "name": "stderr",
     "output_type": "stream",
     "text": [
      "\r",
      "9it [00:00, 23.35it/s]"
     ]
    },
    {
     "name": "stdout",
     "output_type": "stream",
     "text": [
      "{'ner': 2.3253940286458891e-07}\n",
      "{'ner': 1.1197958274946246e-05}\n",
      "{'ner': 1.1197959394271841e-05}\n",
      "{'ner': 1.1197968828927658e-05}\n"
     ]
    },
    {
     "name": "stderr",
     "output_type": "stream",
     "text": [
      "11it [00:00, 19.63it/s]\n"
     ]
    },
    {
     "name": "stdout",
     "output_type": "stream",
     "text": [
      "{'ner': 1.119797022399896e-05}\n"
     ]
    },
    {
     "name": "stderr",
     "output_type": "stream",
     "text": [
      "\r",
      "0it [00:00, ?it/s]"
     ]
    },
    {
     "name": "stdout",
     "output_type": "stream",
     "text": [
      "{'ner': 2.5410911361607917}\n"
     ]
    },
    {
     "name": "stderr",
     "output_type": "stream",
     "text": [
      "\r",
      "2it [00:00, 17.62it/s]"
     ]
    },
    {
     "name": "stdout",
     "output_type": "stream",
     "text": [
      "{'ner': 4.202915500417545}\n",
      "{'ner': 4.202917032345271}\n",
      "{'ner': 4.202917032346732}\n"
     ]
    },
    {
     "name": "stderr",
     "output_type": "stream",
     "text": [
      "\r",
      "5it [00:00, 21.21it/s]"
     ]
    },
    {
     "name": "stdout",
     "output_type": "stream",
     "text": [
      "{'ner': 4.202917032355767}\n",
      "{'ner': 8.10774439208831}\n"
     ]
    },
    {
     "name": "stderr",
     "output_type": "stream",
     "text": [
      "\r",
      "8it [00:00, 21.91it/s]"
     ]
    },
    {
     "name": "stdout",
     "output_type": "stream",
     "text": [
      "{'ner': 8.107744393372364}\n",
      "{'ner': 8.110110432412327}\n",
      "{'ner': 9.706163975922825}\n"
     ]
    },
    {
     "name": "stderr",
     "output_type": "stream",
     "text": [
      "\r",
      "11it [00:00, 23.21it/s]"
     ]
    },
    {
     "name": "stdout",
     "output_type": "stream",
     "text": [
      "{'ner': 9.706163975947717}\n",
      "{'ner': 9.706163975948039}\n"
     ]
    },
    {
     "name": "stderr",
     "output_type": "stream",
     "text": [
      "11it [00:00, 22.29it/s]\n",
      "3it [00:00, 23.14it/s]"
     ]
    },
    {
     "name": "stdout",
     "output_type": "stream",
     "text": [
      "{'ner': 1.6132888877153395e-05}\n",
      "{'ner': 1.6199527767332385e-05}\n",
      "{'ner': 0.017414734295826587}\n",
      "{'ner': 2.0174092506693135}\n",
      "{'ner': 2.017409514386921}\n"
     ]
    },
    {
     "name": "stderr",
     "output_type": "stream",
     "text": [
      "9it [00:00, 23.89it/s]"
     ]
    },
    {
     "name": "stdout",
     "output_type": "stream",
     "text": [
      "{'ner': 2.0174095169650927}\n",
      "{'ner': 2.017424794424452}\n",
      "{'ner': 2.0174256556692107}\n",
      "{'ner': 3.682780583788826}\n"
     ]
    },
    {
     "name": "stderr",
     "output_type": "stream",
     "text": [
      "11it [00:00, 24.68it/s]\n"
     ]
    },
    {
     "name": "stdout",
     "output_type": "stream",
     "text": [
      "{'ner': 3.6827805866790846}\n",
      "{'ner': 3.6827806245664356}\n"
     ]
    },
    {
     "name": "stderr",
     "output_type": "stream",
     "text": [
      "3it [00:00, 27.43it/s]"
     ]
    },
    {
     "name": "stdout",
     "output_type": "stream",
     "text": [
      "{'ner': 2.2812631354101443e-09}\n",
      "{'ner': 2.3261749163061915e-09}\n",
      "{'ner': 0.5340180146886069}\n",
      "{'ner': 0.5340215453057009}\n",
      "{'ner': 0.5340215455312038}\n"
     ]
    },
    {
     "name": "stderr",
     "output_type": "stream",
     "text": [
      "\r",
      "6it [00:00, 28.07it/s]"
     ]
    },
    {
     "name": "stdout",
     "output_type": "stream",
     "text": [
      "{'ner': 2.0129215134451663}\n"
     ]
    },
    {
     "name": "stderr",
     "output_type": "stream",
     "text": [
      "11it [00:00, 27.10it/s]\n"
     ]
    },
    {
     "name": "stdout",
     "output_type": "stream",
     "text": [
      "{'ner': 2.012925193593636}\n",
      "{'ner': 2.4959572714206657}\n",
      "{'ner': 2.4959572716099045}\n",
      "{'ner': 2.496052696128756}\n",
      "{'ner': 2.6159569014482793}\n"
     ]
    },
    {
     "name": "stderr",
     "output_type": "stream",
     "text": [
      "\r",
      "0it [00:00, ?it/s]"
     ]
    },
    {
     "name": "stdout",
     "output_type": "stream",
     "text": [
      "{'ner': 1.0459801875050018e-09}\n",
      "{'ner': 1.0519348800944437e-09}\n"
     ]
    },
    {
     "name": "stderr",
     "output_type": "stream",
     "text": [
      "6it [00:00, 28.44it/s]"
     ]
    },
    {
     "name": "stdout",
     "output_type": "stream",
     "text": [
      "{'ner': 1.1573643583965224e-09}\n",
      "{'ner': 1.2186420817078095e-05}\n",
      "{'ner': 1.2430942722191382e-05}\n",
      "{'ner': 1.2430954056841856e-05}\n",
      "{'ner': 0.8958776329117842}\n",
      "{'ner': 0.8958776334581141}\n"
     ]
    },
    {
     "name": "stderr",
     "output_type": "stream",
     "text": [
      "11it [00:00, 25.58it/s]\n"
     ]
    },
    {
     "name": "stdout",
     "output_type": "stream",
     "text": [
      "{'ner': 0.8958776356374797}\n",
      "{'ner': 0.8958776370416269}\n",
      "{'ner': 0.8958779483427896}\n"
     ]
    },
    {
     "name": "stderr",
     "output_type": "stream",
     "text": [
      "3it [00:00, 24.78it/s]"
     ]
    },
    {
     "name": "stdout",
     "output_type": "stream",
     "text": [
      "{'ner': 3.982781911547191e-08}\n",
      "{'ner': 4.013037574286946e-08}\n",
      "{'ner': 4.017859721599988e-08}\n"
     ]
    },
    {
     "name": "stderr",
     "output_type": "stream",
     "text": [
      "\r",
      "6it [00:00, 26.95it/s]"
     ]
    },
    {
     "name": "stdout",
     "output_type": "stream",
     "text": [
      "{'ner': 4.047936836346808e-08}\n",
      "{'ner': 0.020940450865984818}\n",
      "{'ner': 0.0209404508958349}\n"
     ]
    },
    {
     "name": "stderr",
     "output_type": "stream",
     "text": [
      "\r",
      "9it [00:00, 25.37it/s]"
     ]
    },
    {
     "name": "stdout",
     "output_type": "stream",
     "text": [
      "{'ner': 1.9974800627732714}\n",
      "{'ner': 1.9974800841326323}\n",
      "{'ner': 1.9974800841341436}\n"
     ]
    },
    {
     "name": "stderr",
     "output_type": "stream",
     "text": [
      "11it [00:00, 26.88it/s]\n"
     ]
    },
    {
     "name": "stdout",
     "output_type": "stream",
     "text": [
      "{'ner': 1.9974800860786983}\n",
      "{'ner': 1.9974800861548474}\n"
     ]
    },
    {
     "name": "stderr",
     "output_type": "stream",
     "text": [
      "\r",
      "0it [00:00, ?it/s]"
     ]
    },
    {
     "name": "stdout",
     "output_type": "stream",
     "text": [
      "{'ner': 0.00016841644837924113}\n"
     ]
    },
    {
     "name": "stderr",
     "output_type": "stream",
     "text": [
      "\r",
      "2it [00:00, 19.38it/s]"
     ]
    },
    {
     "name": "stdout",
     "output_type": "stream",
     "text": [
      "{'ner': 0.00019465992771376236}\n",
      "{'ner': 0.0017251121770314106}\n"
     ]
    },
    {
     "name": "stderr",
     "output_type": "stream",
     "text": [
      "\r",
      "4it [00:00, 19.41it/s]"
     ]
    },
    {
     "name": "stdout",
     "output_type": "stream",
     "text": [
      "{'ner': 0.0017251122122350678}\n",
      "{'ner': 0.0017425117427641763}\n",
      "{'ner': 0.07581227810853985}\n"
     ]
    },
    {
     "name": "stderr",
     "output_type": "stream",
     "text": [
      "\r",
      "7it [00:00, 21.83it/s]"
     ]
    },
    {
     "name": "stdout",
     "output_type": "stream",
     "text": [
      "{'ner': 0.07581227811415683}\n",
      "{'ner': 0.0758122781154874}\n",
      "{'ner': 0.07581227812154971}\n"
     ]
    },
    {
     "name": "stderr",
     "output_type": "stream",
     "text": [
      "11it [00:00, 24.30it/s]\n"
     ]
    },
    {
     "name": "stdout",
     "output_type": "stream",
     "text": [
      "{'ner': 3.5835567894212548}\n",
      "{'ner': 3.583560948398645}\n"
     ]
    },
    {
     "name": "stderr",
     "output_type": "stream",
     "text": [
      "\r",
      "0it [00:00, ?it/s]"
     ]
    },
    {
     "name": "stdout",
     "output_type": "stream",
     "text": [
      "{'ner': 6.6641672287958174e-12}\n"
     ]
    },
    {
     "name": "stderr",
     "output_type": "stream",
     "text": [
      "\r",
      "3it [00:00, 23.24it/s]"
     ]
    },
    {
     "name": "stdout",
     "output_type": "stream",
     "text": [
      "{'ner': 0.20565763548381144}\n",
      "{'ner': 0.2117246622133106}\n",
      "{'ner': 0.2117276872216066}\n"
     ]
    },
    {
     "name": "stderr",
     "output_type": "stream",
     "text": [
      "\r",
      "6it [00:00, 25.84it/s]"
     ]
    },
    {
     "name": "stdout",
     "output_type": "stream",
     "text": [
      "{'ner': 0.21172768725957766}\n",
      "{'ner': 0.21172768847272808}\n",
      "{'ner': 0.2117276922297565}\n"
     ]
    },
    {
     "name": "stderr",
     "output_type": "stream",
     "text": [
      "\r",
      "9it [00:00, 25.00it/s]"
     ]
    },
    {
     "name": "stdout",
     "output_type": "stream",
     "text": [
      "{'ner': 0.21172769398543292}\n",
      "{'ner': 0.2117276943286904}\n"
     ]
    },
    {
     "name": "stderr",
     "output_type": "stream",
     "text": [
      "11it [00:00, 25.23it/s]\n"
     ]
    },
    {
     "name": "stdout",
     "output_type": "stream",
     "text": [
      "{'ner': 0.21172769433030497}\n",
      "{'ner': 0.2117276943303095}\n"
     ]
    },
    {
     "name": "stderr",
     "output_type": "stream",
     "text": [
      "\r",
      "0it [00:00, ?it/s]"
     ]
    },
    {
     "name": "stdout",
     "output_type": "stream",
     "text": [
      "{'ner': 0.008727479163540752}\n",
      "{'ner': 0.00872764854186549}\n"
     ]
    },
    {
     "name": "stderr",
     "output_type": "stream",
     "text": [
      "\r",
      "3it [00:00, 25.15it/s]"
     ]
    },
    {
     "name": "stdout",
     "output_type": "stream",
     "text": [
      "{'ner': 0.008727648567950436}\n",
      "{'ner': 0.008730268325005779}\n"
     ]
    },
    {
     "name": "stderr",
     "output_type": "stream",
     "text": [
      "\r",
      "6it [00:00, 25.34it/s]"
     ]
    },
    {
     "name": "stdout",
     "output_type": "stream",
     "text": [
      "{'ner': 0.008730268425211374}\n",
      "{'ner': 0.008730268456957945}\n",
      "{'ner': 0.008730268456992627}\n",
      "{'ner': 0.24369750181600405}\n"
     ]
    },
    {
     "name": "stderr",
     "output_type": "stream",
     "text": [
      "\r",
      "9it [00:00, 26.24it/s]"
     ]
    },
    {
     "name": "stdout",
     "output_type": "stream",
     "text": [
      "{'ner': 0.24369752378576712}\n"
     ]
    },
    {
     "name": "stderr",
     "output_type": "stream",
     "text": [
      "11it [00:00, 25.93it/s]\n"
     ]
    },
    {
     "name": "stdout",
     "output_type": "stream",
     "text": [
      "{'ner': 0.24369752387054316}\n",
      "{'ner': 0.24371085772579362}\n"
     ]
    },
    {
     "name": "stderr",
     "output_type": "stream",
     "text": [
      "\r",
      "0it [00:00, ?it/s]"
     ]
    },
    {
     "name": "stdout",
     "output_type": "stream",
     "text": [
      "{'ner': 2.908542545942736e-07}\n"
     ]
    },
    {
     "name": "stderr",
     "output_type": "stream",
     "text": [
      "\r",
      "3it [00:00, 25.59it/s]"
     ]
    },
    {
     "name": "stdout",
     "output_type": "stream",
     "text": [
      "{'ner': 3.348305686935287e-07}\n",
      "{'ner': 4.5376058688447754e-07}\n",
      "{'ner': 5.6773148657269634e-05}\n"
     ]
    },
    {
     "name": "stderr",
     "output_type": "stream",
     "text": [
      "\r",
      "6it [00:00, 25.97it/s]"
     ]
    },
    {
     "name": "stdout",
     "output_type": "stream",
     "text": [
      "{'ner': 3.8480433637870686}\n",
      "{'ner': 3.848043363807702}\n",
      "{'ner': 6.378963809735556}\n",
      "{'ner': 6.385384434181271}\n"
     ]
    },
    {
     "name": "stderr",
     "output_type": "stream",
     "text": [
      "11it [00:00, 23.15it/s]\n"
     ]
    },
    {
     "name": "stdout",
     "output_type": "stream",
     "text": [
      "{'ner': 6.385384434181411}\n",
      "{'ner': 6.394079908081448}\n",
      "{'ner': 6.895664827294004}\n"
     ]
    },
    {
     "name": "stderr",
     "output_type": "stream",
     "text": [
      "\r",
      "0it [00:00, ?it/s]"
     ]
    },
    {
     "name": "stdout",
     "output_type": "stream",
     "text": [
      "{'ner': 2.575602056500509}\n",
      "{'ner': 2.5756020565014555}\n"
     ]
    },
    {
     "name": "stderr",
     "output_type": "stream",
     "text": [
      "\r",
      "3it [00:00, 21.80it/s]"
     ]
    },
    {
     "name": "stdout",
     "output_type": "stream",
     "text": [
      "{'ner': 2.575602059171555}\n",
      "{'ner': 2.575602510956553}\n",
      "{'ner': 2.575602510966772}\n"
     ]
    },
    {
     "name": "stderr",
     "output_type": "stream",
     "text": [
      "\r",
      "6it [00:00, 21.21it/s]"
     ]
    },
    {
     "name": "stdout",
     "output_type": "stream",
     "text": [
      "{'ner': 2.57560251096836}\n",
      "{'ner': 2.5756025954344812}\n"
     ]
    },
    {
     "name": "stderr",
     "output_type": "stream",
     "text": [
      "11it [00:00, 24.04it/s]\n"
     ]
    },
    {
     "name": "stdout",
     "output_type": "stream",
     "text": [
      "{'ner': 2.576004652479968}\n",
      "{'ner': 2.5969123425610507}\n",
      "{'ner': 2.5969123429336083}\n",
      "{'ner': 2.5969123429336607}\n"
     ]
    },
    {
     "name": "stderr",
     "output_type": "stream",
     "text": [
      "\r",
      "0it [00:00, ?it/s]"
     ]
    },
    {
     "name": "stdout",
     "output_type": "stream",
     "text": [
      "{'ner': 2.2991260661985074e-11}\n",
      "{'ner': 5.1870581243717264e-08}\n"
     ]
    },
    {
     "name": "stderr",
     "output_type": "stream",
     "text": [
      "\r",
      "3it [00:00, 25.86it/s]"
     ]
    },
    {
     "name": "stdout",
     "output_type": "stream",
     "text": [
      "{'ner': 5.2799236636898933e-08}\n",
      "{'ner': 5.59156690368262e-08}\n",
      "{'ner': 5.5915669173487667e-08}\n"
     ]
    },
    {
     "name": "stderr",
     "output_type": "stream",
     "text": [
      "8it [00:00, 16.05it/s]"
     ]
    },
    {
     "name": "stdout",
     "output_type": "stream",
     "text": [
      "{'ner': 5.5920705434128443e-08}\n",
      "{'ner': 5.5924141954910825e-08}\n",
      "{'ner': 1.0267779930178853e-06}\n",
      "{'ner': 0.3040881888330674}\n"
     ]
    },
    {
     "name": "stderr",
     "output_type": "stream",
     "text": [
      "11it [00:00, 18.61it/s]\n"
     ]
    },
    {
     "name": "stdout",
     "output_type": "stream",
     "text": [
      "{'ner': 0.3040881888340928}\n",
      "{'ner': 0.3040881888342623}\n"
     ]
    },
    {
     "name": "stderr",
     "output_type": "stream",
     "text": [
      "3it [00:00, 24.57it/s]"
     ]
    },
    {
     "name": "stdout",
     "output_type": "stream",
     "text": [
      "{'ner': 1.0094586313133889e-11}\n",
      "{'ner': 1.0436110697101312e-11}\n",
      "{'ner': 3.3532965743707616e-10}\n",
      "{'ner': 5.820004668622826e-10}\n"
     ]
    },
    {
     "name": "stderr",
     "output_type": "stream",
     "text": [
      "\r",
      "6it [00:00, 25.25it/s]"
     ]
    },
    {
     "name": "stdout",
     "output_type": "stream",
     "text": [
      "{'ner': 1.2016439881578034e-09}\n",
      "{'ner': 6.97917017462483e-08}\n"
     ]
    },
    {
     "name": "stderr",
     "output_type": "stream",
     "text": [
      "\r",
      "9it [00:00, 24.65it/s]"
     ]
    },
    {
     "name": "stdout",
     "output_type": "stream",
     "text": [
      "{'ner': 0.006605407358980728}\n",
      "{'ner': 0.006605407467788338}\n",
      "{'ner': 0.006606474192613648}\n",
      "{'ner': 0.0066064741972626665}\n"
     ]
    },
    {
     "name": "stderr",
     "output_type": "stream",
     "text": [
      "11it [00:00, 26.94it/s]\n"
     ]
    },
    {
     "name": "stdout",
     "output_type": "stream",
     "text": [
      "{'ner': 0.006606474197262967}\n"
     ]
    },
    {
     "name": "stderr",
     "output_type": "stream",
     "text": [
      "\r",
      "0it [00:00, ?it/s]"
     ]
    },
    {
     "name": "stdout",
     "output_type": "stream",
     "text": [
      "{'ner': 6.527763110994561e-05}\n",
      "{'ner': 6.527763117946673e-05}\n"
     ]
    },
    {
     "name": "stderr",
     "output_type": "stream",
     "text": [
      "\r",
      "3it [00:00, 26.22it/s]"
     ]
    },
    {
     "name": "stdout",
     "output_type": "stream",
     "text": [
      "{'ner': 2.360579799262268}\n",
      "{'ner': 2.360579802144009}\n",
      "{'ner': 2.3605798038934798}\n"
     ]
    },
    {
     "name": "stderr",
     "output_type": "stream",
     "text": [
      "\r",
      "6it [00:00, 26.17it/s]"
     ]
    },
    {
     "name": "stdout",
     "output_type": "stream",
     "text": [
      "{'ner': 2.360589082279528}\n",
      "{'ner': 2.360589082342861}\n",
      "{'ner': 2.3605890828280405}\n"
     ]
    },
    {
     "name": "stderr",
     "output_type": "stream",
     "text": [
      "11it [00:00, 26.21it/s]\n"
     ]
    },
    {
     "name": "stdout",
     "output_type": "stream",
     "text": [
      "{'ner': 2.360589082829151}\n",
      "{'ner': 2.3606036730790527}\n",
      "{'ner': 2.3606036759164044}\n"
     ]
    },
    {
     "name": "stderr",
     "output_type": "stream",
     "text": [
      "\r",
      "0it [00:00, ?it/s]"
     ]
    },
    {
     "name": "stdout",
     "output_type": "stream",
     "text": [
      "{'ner': 9.238584458156733e-12}\n"
     ]
    },
    {
     "name": "stderr",
     "output_type": "stream",
     "text": [
      "\r",
      "2it [00:00, 18.30it/s]"
     ]
    },
    {
     "name": "stdout",
     "output_type": "stream",
     "text": [
      "{'ner': 1.5427513760974955e-05}\n"
     ]
    },
    {
     "name": "stderr",
     "output_type": "stream",
     "text": [
      "\r",
      "4it [00:00, 17.42it/s]"
     ]
    },
    {
     "name": "stdout",
     "output_type": "stream",
     "text": [
      "{'ner': 1.542874125246042e-05}\n",
      "{'ner': 0.0010097367200701869}\n",
      "{'ner': 0.02797735192935935}\n",
      "{'ner': 0.027977351929638124}\n"
     ]
    },
    {
     "name": "stderr",
     "output_type": "stream",
     "text": [
      "\r",
      "7it [00:00, 21.59it/s]"
     ]
    },
    {
     "name": "stdout",
     "output_type": "stream",
     "text": [
      "{'ner': 0.027977354415665272}\n",
      "{'ner': 0.027977355403433962}\n"
     ]
    },
    {
     "name": "stderr",
     "output_type": "stream",
     "text": [
      "\r",
      "10it [00:00, 22.71it/s]"
     ]
    },
    {
     "name": "stdout",
     "output_type": "stream",
     "text": [
      "{'ner': 0.05505158838845836}\n",
      "{'ner': 2.04848160899056}\n"
     ]
    },
    {
     "name": "stderr",
     "output_type": "stream",
     "text": [
      "11it [00:00, 22.54it/s]\n"
     ]
    },
    {
     "name": "stdout",
     "output_type": "stream",
     "text": [
      "{'ner': 2.0484816089910307}\n"
     ]
    },
    {
     "name": "stderr",
     "output_type": "stream",
     "text": [
      "3it [00:00, 25.22it/s]"
     ]
    },
    {
     "name": "stdout",
     "output_type": "stream",
     "text": [
      "{'ner': 5.4075519496465636e-11}\n",
      "{'ner': 3.433718371888216}\n",
      "{'ner': 3.4337183719036957}\n",
      "{'ner': 3.433718536522443}\n",
      "{'ner': 7.098160782467363}\n"
     ]
    },
    {
     "name": "stderr",
     "output_type": "stream",
     "text": [
      "\r",
      "6it [00:00, 23.43it/s]"
     ]
    },
    {
     "name": "stdout",
     "output_type": "stream",
     "text": [
      "{'ner': 7.098160790450256}\n",
      "{'ner': 7.098160790451047}\n",
      "{'ner': 7.098160790463536}\n"
     ]
    },
    {
     "name": "stderr",
     "output_type": "stream",
     "text": [
      "\r",
      "9it [00:00, 21.76it/s]"
     ]
    },
    {
     "name": "stdout",
     "output_type": "stream",
     "text": [
      "{'ner': 11.092981981297582}\n",
      "{'ner': 13.092915412808528}\n"
     ]
    },
    {
     "name": "stderr",
     "output_type": "stream",
     "text": [
      "11it [00:00, 23.06it/s]\n"
     ]
    },
    {
     "name": "stdout",
     "output_type": "stream",
     "text": [
      "{'ner': 13.092915412808573}\n"
     ]
    },
    {
     "name": "stderr",
     "output_type": "stream",
     "text": [
      "\r",
      "0it [00:00, ?it/s]"
     ]
    },
    {
     "name": "stdout",
     "output_type": "stream",
     "text": [
      "{'ner': 2.4857674837886847}\n",
      "{'ner': 2.4857717876321623}\n"
     ]
    },
    {
     "name": "stderr",
     "output_type": "stream",
     "text": [
      "\r",
      "3it [00:00, 20.46it/s]"
     ]
    },
    {
     "name": "stdout",
     "output_type": "stream",
     "text": [
      "{'ner': 2.48577181473827}\n",
      "{'ner': 2.4857718161045765}\n",
      "{'ner': 2.4857718161045934}\n"
     ]
    },
    {
     "name": "stderr",
     "output_type": "stream",
     "text": [
      "\r",
      "6it [00:00, 21.82it/s]"
     ]
    },
    {
     "name": "stdout",
     "output_type": "stream",
     "text": [
      "{'ner': 2.4857718349658158}\n",
      "{'ner': 3.038918114906804}\n",
      "{'ner': 3.0389181157910894}\n"
     ]
    },
    {
     "name": "stderr",
     "output_type": "stream",
     "text": [
      "\r",
      "9it [00:00, 23.34it/s]"
     ]
    },
    {
     "name": "stdout",
     "output_type": "stream",
     "text": [
      "{'ner': 3.038918115901521}\n"
     ]
    },
    {
     "name": "stderr",
     "output_type": "stream",
     "text": [
      "11it [00:00, 24.16it/s]\n"
     ]
    },
    {
     "name": "stdout",
     "output_type": "stream",
     "text": [
      "{'ner': 3.0389181203773497}\n",
      "{'ner': 3.038918120380445}\n"
     ]
    },
    {
     "name": "stderr",
     "output_type": "stream",
     "text": [
      "3it [00:00, 21.91it/s]"
     ]
    },
    {
     "name": "stdout",
     "output_type": "stream",
     "text": [
      "{'ner': 7.079277306559944e-06}\n",
      "{'ner': 7.079290848395616e-06}\n",
      "{'ner': 7.079291214023977e-06}\n",
      "{'ner': 0.0009465605445298333}\n",
      "{'ner': 0.0009465605778986736}\n"
     ]
    },
    {
     "name": "stderr",
     "output_type": "stream",
     "text": [
      "\r",
      "6it [00:00, 22.78it/s]"
     ]
    },
    {
     "name": "stdout",
     "output_type": "stream",
     "text": [
      "{'ner': 0.000946560577941552}\n",
      "{'ner': 0.0009465606103093049}\n",
      "{'ner': 0.0009465610979307178}\n"
     ]
    },
    {
     "name": "stderr",
     "output_type": "stream",
     "text": [
      "\r",
      "9it [00:00, 23.05it/s]"
     ]
    },
    {
     "name": "stdout",
     "output_type": "stream",
     "text": [
      "{'ner': 0.0654490398808664}\n"
     ]
    },
    {
     "name": "stderr",
     "output_type": "stream",
     "text": [
      "11it [00:00, 24.05it/s]\n"
     ]
    },
    {
     "name": "stdout",
     "output_type": "stream",
     "text": [
      "{'ner': 0.06544922825580823}\n",
      "{'ner': 0.06544922825892344}\n"
     ]
    },
    {
     "name": "stderr",
     "output_type": "stream",
     "text": [
      "3it [00:00, 29.12it/s]"
     ]
    },
    {
     "name": "stdout",
     "output_type": "stream",
     "text": [
      "{'ner': 2.582768450978057e-14}\n",
      "{'ner': 0.0006389216946249285}\n",
      "{'ner': 0.0006389442564938988}\n",
      "{'ner': 0.0006550325228513163}\n",
      "{'ner': 0.016320788145771738}\n"
     ]
    },
    {
     "name": "stderr",
     "output_type": "stream",
     "text": [
      "\r",
      "6it [00:00, 22.48it/s]"
     ]
    },
    {
     "name": "stdout",
     "output_type": "stream",
     "text": [
      "{'ner': 0.016320788147176368}\n",
      "{'ner': 0.01632078876011202}\n",
      "{'ner': 0.021000738248688734}\n"
     ]
    },
    {
     "name": "stderr",
     "output_type": "stream",
     "text": [
      "\r",
      "9it [00:00, 23.95it/s]"
     ]
    },
    {
     "name": "stdout",
     "output_type": "stream",
     "text": [
      "{'ner': 0.021000738276352425}\n"
     ]
    },
    {
     "name": "stderr",
     "output_type": "stream",
     "text": [
      "11it [00:00, 24.14it/s]\n"
     ]
    },
    {
     "name": "stdout",
     "output_type": "stream",
     "text": [
      "{'ner': 0.022541456807925905}\n",
      "{'ner': 0.022541456808726105}\n"
     ]
    },
    {
     "name": "stderr",
     "output_type": "stream",
     "text": [
      "\r",
      "0it [00:00, ?it/s]"
     ]
    },
    {
     "name": "stdout",
     "output_type": "stream",
     "text": [
      "{'ner': 5.862230195305493e-10}\n",
      "{'ner': 3.7100369937210527}\n"
     ]
    },
    {
     "name": "stderr",
     "output_type": "stream",
     "text": [
      "\r",
      "3it [00:00, 25.09it/s]"
     ]
    },
    {
     "name": "stdout",
     "output_type": "stream",
     "text": [
      "{'ner': 3.7525534375994702}\n",
      "{'ner': 3.752553437599532}\n",
      "{'ner': 3.7525534375995413}\n"
     ]
    },
    {
     "name": "stderr",
     "output_type": "stream",
     "text": [
      "\r",
      "6it [00:00, 23.87it/s]"
     ]
    },
    {
     "name": "stdout",
     "output_type": "stream",
     "text": [
      "{'ner': 3.752553439534033}\n",
      "{'ner': 3.7525534400697294}\n"
     ]
    },
    {
     "name": "stderr",
     "output_type": "stream",
     "text": [
      "\r",
      "9it [00:00, 24.07it/s]"
     ]
    },
    {
     "name": "stdout",
     "output_type": "stream",
     "text": [
      "{'ner': 3.754614024988863}\n",
      "{'ner': 3.75461402498994}\n",
      "{'ner': 3.754614024989941}\n"
     ]
    },
    {
     "name": "stderr",
     "output_type": "stream",
     "text": [
      "11it [00:00, 23.55it/s]\n"
     ]
    },
    {
     "name": "stdout",
     "output_type": "stream",
     "text": [
      "{'ner': 3.8324939022578226}\n"
     ]
    },
    {
     "name": "stderr",
     "output_type": "stream",
     "text": [
      "\r",
      "0it [00:00, ?it/s]"
     ]
    },
    {
     "name": "stdout",
     "output_type": "stream",
     "text": [
      "{'ner': 1.9803146123982311}\n"
     ]
    },
    {
     "name": "stderr",
     "output_type": "stream",
     "text": [
      "\r",
      "3it [00:00, 22.19it/s]"
     ]
    },
    {
     "name": "stdout",
     "output_type": "stream",
     "text": [
      "{'ner': 1.9803157769809263}\n",
      "{'ner': 1.98043104196028}\n",
      "{'ner': 2.1976413460980844}\n",
      "{'ner': 2.233870516958126}\n"
     ]
    },
    {
     "name": "stderr",
     "output_type": "stream",
     "text": [
      "\r",
      "6it [00:00, 22.22it/s]"
     ]
    },
    {
     "name": "stdout",
     "output_type": "stream",
     "text": [
      "{'ner': 2.234115769544914}\n"
     ]
    },
    {
     "name": "stderr",
     "output_type": "stream",
     "text": [
      "\r",
      "9it [00:00, 23.63it/s]"
     ]
    },
    {
     "name": "stdout",
     "output_type": "stream",
     "text": [
      "{'ner': 2.2341157962254874}\n",
      "{'ner': 2.360881076272448}\n",
      "{'ner': 2.360881076272448}\n"
     ]
    },
    {
     "name": "stderr",
     "output_type": "stream",
     "text": [
      "11it [00:00, 24.51it/s]\n"
     ]
    },
    {
     "name": "stdout",
     "output_type": "stream",
     "text": [
      "{'ner': 2.3608920422256365}\n",
      "{'ner': 2.3608920422256365}\n"
     ]
    },
    {
     "name": "stderr",
     "output_type": "stream",
     "text": [
      "\r",
      "0it [00:00, ?it/s]"
     ]
    },
    {
     "name": "stdout",
     "output_type": "stream",
     "text": [
      "{'ner': 4.851079011275898e-15}\n"
     ]
    },
    {
     "name": "stderr",
     "output_type": "stream",
     "text": [
      "\r",
      "3it [00:00, 23.75it/s]"
     ]
    },
    {
     "name": "stdout",
     "output_type": "stream",
     "text": [
      "{'ner': 2.0661223872866287e-13}\n",
      "{'ner': 2.1482369120781928e-12}\n",
      "{'ner': 0.00011719436438069565}\n",
      "{'ner': 0.00011719436473342891}\n"
     ]
    },
    {
     "name": "stderr",
     "output_type": "stream",
     "text": [
      "\r",
      "6it [00:00, 21.86it/s]"
     ]
    },
    {
     "name": "stdout",
     "output_type": "stream",
     "text": [
      "{'ner': 0.00011720307884937035}\n",
      "{'ner': 0.00011720308170691633}\n",
      "{'ner': 0.0001172030976645944}\n"
     ]
    },
    {
     "name": "stderr",
     "output_type": "stream",
     "text": [
      "\r",
      "9it [00:00, 22.22it/s]"
     ]
    },
    {
     "name": "stdout",
     "output_type": "stream",
     "text": [
      "{'ner': 0.00011730966745451738}\n",
      "{'ner': 0.00011730966751141871}\n"
     ]
    },
    {
     "name": "stderr",
     "output_type": "stream",
     "text": [
      "11it [00:00, 23.11it/s]\n"
     ]
    },
    {
     "name": "stdout",
     "output_type": "stream",
     "text": [
      "{'ner': 0.00011730969259870133}\n"
     ]
    },
    {
     "name": "stderr",
     "output_type": "stream",
     "text": [
      "2it [00:00, 19.26it/s]"
     ]
    },
    {
     "name": "stdout",
     "output_type": "stream",
     "text": [
      "{'ner': 2.561985844553894e-09}\n",
      "{'ner': 2.8490932260104354e-09}\n",
      "{'ner': 4.054583903241772e-06}\n",
      "{'ner': 4.054588457456798e-06}\n"
     ]
    },
    {
     "name": "stderr",
     "output_type": "stream",
     "text": [
      "\r",
      "5it [00:00, 21.10it/s]"
     ]
    },
    {
     "name": "stdout",
     "output_type": "stream",
     "text": [
      "{'ner': 4.05458847180515e-06}\n",
      "{'ner': 4.258967037964612e-06}\n",
      "{'ner': 4.258967070644048e-06}\n"
     ]
    },
    {
     "name": "stderr",
     "output_type": "stream",
     "text": [
      "\r",
      "8it [00:00, 19.73it/s]"
     ]
    },
    {
     "name": "stdout",
     "output_type": "stream",
     "text": [
      "{'ner': 4.2589670710849785e-06}\n",
      "{'ner': 4.258967120779221e-06}\n"
     ]
    },
    {
     "name": "stderr",
     "output_type": "stream",
     "text": [
      "11it [00:00, 20.84it/s]\n"
     ]
    },
    {
     "name": "stdout",
     "output_type": "stream",
     "text": [
      "{'ner': 4.259031854437709e-06}\n",
      "{'ner': 4.259031854438109e-06}\n"
     ]
    },
    {
     "name": "stderr",
     "output_type": "stream",
     "text": [
      "\r",
      "0it [00:00, ?it/s]"
     ]
    },
    {
     "name": "stdout",
     "output_type": "stream",
     "text": [
      "{'ner': 3.321054477642962e-11}\n",
      "{'ner': 4.9687962478826996e-11}\n"
     ]
    },
    {
     "name": "stderr",
     "output_type": "stream",
     "text": [
      "\r",
      "3it [00:00, 21.91it/s]"
     ]
    },
    {
     "name": "stdout",
     "output_type": "stream",
     "text": [
      "{'ner': 8.243109611974939e-11}\n",
      "{'ner': 1.5533004134563944e-08}\n",
      "{'ner': 1.553303694795699e-08}\n"
     ]
    },
    {
     "name": "stderr",
     "output_type": "stream",
     "text": [
      "\r",
      "6it [00:00, 20.31it/s]"
     ]
    },
    {
     "name": "stdout",
     "output_type": "stream",
     "text": [
      "{'ner': 1.5534870530142954e-08}\n",
      "{'ner': 1.5536525383671683e-08}\n"
     ]
    },
    {
     "name": "stderr",
     "output_type": "stream",
     "text": [
      "\r",
      "9it [00:00, 19.84it/s]"
     ]
    },
    {
     "name": "stdout",
     "output_type": "stream",
     "text": [
      "{'ner': 1.5538733744552438e-08}\n",
      "{'ner': 0.0006268678501083322}\n",
      "{'ner': 0.0006268817772244377}\n",
      "{'ner': 1.4466661014068747}\n"
     ]
    },
    {
     "name": "stderr",
     "output_type": "stream",
     "text": [
      "11it [00:00, 20.30it/s]\n",
      "2it [00:00, 17.05it/s]"
     ]
    },
    {
     "name": "stdout",
     "output_type": "stream",
     "text": [
      "{'ner': 2.902175142442955e-12}\n",
      "{'ner': 1.9404096603837269}\n",
      "{'ner': 5.386047877750382}\n"
     ]
    },
    {
     "name": "stderr",
     "output_type": "stream",
     "text": [
      "\r",
      "4it [00:00, 15.14it/s]"
     ]
    },
    {
     "name": "stdout",
     "output_type": "stream",
     "text": [
      "{'ner': 5.386047879381367}\n"
     ]
    },
    {
     "name": "stderr",
     "output_type": "stream",
     "text": [
      "\r",
      "6it [00:00, 15.99it/s]"
     ]
    },
    {
     "name": "stdout",
     "output_type": "stream",
     "text": [
      "{'ner': 6.704012581673242}\n",
      "{'ner': 9.91101665195537}\n",
      "{'ner': 9.911016652120157}\n",
      "{'ner': 9.911017474875557}\n"
     ]
    },
    {
     "name": "stderr",
     "output_type": "stream",
     "text": [
      "\r",
      "9it [00:00, 19.72it/s]"
     ]
    },
    {
     "name": "stdout",
     "output_type": "stream",
     "text": [
      "{'ner': 13.728156686382755}\n",
      "{'ner': 13.7281566967738}\n"
     ]
    },
    {
     "name": "stderr",
     "output_type": "stream",
     "text": [
      "11it [00:00, 19.96it/s]\n"
     ]
    },
    {
     "name": "stdout",
     "output_type": "stream",
     "text": [
      "{'ner': 13.728156697800806}\n"
     ]
    },
    {
     "name": "stderr",
     "output_type": "stream",
     "text": [
      "\r",
      "0it [00:00, ?it/s]"
     ]
    },
    {
     "name": "stdout",
     "output_type": "stream",
     "text": [
      "{'ner': 1.3233700374798924e-07}\n"
     ]
    },
    {
     "name": "stderr",
     "output_type": "stream",
     "text": [
      "\r",
      "3it [00:00, 24.01it/s]"
     ]
    },
    {
     "name": "stdout",
     "output_type": "stream",
     "text": [
      "{'ner': 1.3235321050633e-07}\n",
      "{'ner': 0.0001490359180511331}\n",
      "{'ner': 0.0001490359189830982}\n",
      "{'ner': 0.0002570446093294254}\n"
     ]
    },
    {
     "name": "stderr",
     "output_type": "stream",
     "text": [
      "\r",
      "6it [00:00, 23.36it/s]"
     ]
    },
    {
     "name": "stdout",
     "output_type": "stream",
     "text": [
      "{'ner': 4.000017433937589}\n",
      "{'ner': 4.000017433938686}\n",
      "{'ner': 4.000017777382521}\n"
     ]
    },
    {
     "name": "stderr",
     "output_type": "stream",
     "text": [
      "\r",
      "9it [00:00, 23.63it/s]"
     ]
    },
    {
     "name": "stdout",
     "output_type": "stream",
     "text": [
      "{'ner': 4.000017777382855}\n",
      "{'ner': 5.988029852807112}\n"
     ]
    },
    {
     "name": "stderr",
     "output_type": "stream",
     "text": [
      "11it [00:00, 25.23it/s]\n"
     ]
    },
    {
     "name": "stdout",
     "output_type": "stream",
     "text": [
      "{'ner': 5.988029852892846}\n"
     ]
    },
    {
     "name": "stderr",
     "output_type": "stream",
     "text": [
      "\r",
      "0it [00:00, ?it/s]"
     ]
    },
    {
     "name": "stdout",
     "output_type": "stream",
     "text": [
      "{'ner': 4.6050232454602183e-07}\n"
     ]
    },
    {
     "name": "stderr",
     "output_type": "stream",
     "text": [
      "\r",
      "3it [00:00, 21.40it/s]"
     ]
    },
    {
     "name": "stdout",
     "output_type": "stream",
     "text": [
      "{'ner': 4.605032585619719e-07}\n",
      "{'ner': 1.2665955857016384}\n",
      "{'ner': 1.2665955857016402}\n",
      "{'ner': 1.2819950072678106}\n"
     ]
    },
    {
     "name": "stderr",
     "output_type": "stream",
     "text": [
      "\r",
      "6it [00:00, 18.47it/s]"
     ]
    },
    {
     "name": "stdout",
     "output_type": "stream",
     "text": [
      "{'ner': 1.281995011606357}\n",
      "{'ner': 1.2819981193867331}\n"
     ]
    },
    {
     "name": "stderr",
     "output_type": "stream",
     "text": [
      "\r",
      "9it [00:00, 20.63it/s]"
     ]
    },
    {
     "name": "stdout",
     "output_type": "stream",
     "text": [
      "{'ner': 1.2819981701060938}\n",
      "{'ner': 1.2819981701132257}\n"
     ]
    },
    {
     "name": "stderr",
     "output_type": "stream",
     "text": [
      "11it [00:00, 22.07it/s]\n"
     ]
    },
    {
     "name": "stdout",
     "output_type": "stream",
     "text": [
      "{'ner': 1.2819981736002777}\n",
      "{'ner': 1.281998173600279}\n"
     ]
    },
    {
     "name": "stderr",
     "output_type": "stream",
     "text": [
      "3it [00:00, 29.22it/s]"
     ]
    },
    {
     "name": "stdout",
     "output_type": "stream",
     "text": [
      "{'ner': 9.09414377827265e-10}\n",
      "{'ner': 9.106847912652369e-10}\n",
      "{'ner': 0.00017541323300072556}\n",
      "{'ner': 0.00018275129575077845}\n"
     ]
    },
    {
     "name": "stderr",
     "output_type": "stream",
     "text": [
      "\r",
      "6it [00:00, 25.60it/s]"
     ]
    },
    {
     "name": "stdout",
     "output_type": "stream",
     "text": [
      "{'ner': 0.004646430123166522}\n",
      "{'ner': 0.2770066953781423}\n",
      "{'ner': 0.27700670581607345}\n",
      "{'ner': 0.27700670581769293}\n"
     ]
    },
    {
     "name": "stderr",
     "output_type": "stream",
     "text": [
      "\r",
      "9it [00:00, 25.18it/s]"
     ]
    },
    {
     "name": "stdout",
     "output_type": "stream",
     "text": [
      "{'ner': 0.36201357318018296}\n"
     ]
    },
    {
     "name": "stderr",
     "output_type": "stream",
     "text": [
      "11it [00:00, 25.92it/s]\n"
     ]
    },
    {
     "name": "stdout",
     "output_type": "stream",
     "text": [
      "{'ner': 2.4645728640153104}\n",
      "{'ner': 2.5280372970133502}\n"
     ]
    },
    {
     "name": "stderr",
     "output_type": "stream",
     "text": [
      "2it [00:00, 18.46it/s]"
     ]
    },
    {
     "name": "stdout",
     "output_type": "stream",
     "text": [
      "{'ner': 8.16527003523682e-06}\n",
      "{'ner': 8.165270552527299e-06}\n",
      "{'ner': 8.530016071050442e-06}\n"
     ]
    },
    {
     "name": "stderr",
     "output_type": "stream",
     "text": [
      "\r",
      "5it [00:00, 21.54it/s]"
     ]
    },
    {
     "name": "stdout",
     "output_type": "stream",
     "text": [
      "{'ner': 8.534364751511558e-06}\n",
      "{'ner': 0.744813632023789}\n",
      "{'ner': 0.7448137858949602}\n",
      "{'ner': 0.7448144677514377}\n"
     ]
    },
    {
     "name": "stderr",
     "output_type": "stream",
     "text": [
      "\r",
      "8it [00:00, 22.51it/s]"
     ]
    },
    {
     "name": "stdout",
     "output_type": "stream",
     "text": [
      "{'ner': 0.7448144677677908}\n"
     ]
    },
    {
     "name": "stderr",
     "output_type": "stream",
     "text": [
      "11it [00:00, 24.48it/s]\n"
     ]
    },
    {
     "name": "stdout",
     "output_type": "stream",
     "text": [
      "{'ner': 0.7448144704366849}\n",
      "{'ner': 0.7448144704367262}\n",
      "{'ner': 0.7448144735095887}\n"
     ]
    },
    {
     "name": "stderr",
     "output_type": "stream",
     "text": [
      "3it [00:00, 27.26it/s]"
     ]
    },
    {
     "name": "stdout",
     "output_type": "stream",
     "text": [
      "{'ner': 3.237257928390158e-08}\n",
      "{'ner': 3.7613397028858664}\n",
      "{'ner': 3.7613397028858677}\n"
     ]
    },
    {
     "name": "stderr",
     "output_type": "stream",
     "text": [
      "\r",
      "6it [00:00, 27.30it/s]"
     ]
    },
    {
     "name": "stdout",
     "output_type": "stream",
     "text": [
      "{'ner': 5.3133252051564}\n",
      "{'ner': 5.313325205206111}\n",
      "{'ner': 5.313325205256004}\n"
     ]
    },
    {
     "name": "stderr",
     "output_type": "stream",
     "text": [
      "\r",
      "9it [00:00, 26.92it/s]"
     ]
    },
    {
     "name": "stdout",
     "output_type": "stream",
     "text": [
      "{'ner': 5.313325321066046}\n",
      "{'ner': 5.313325321177195}\n",
      "{'ner': 5.313325321177195}\n"
     ]
    },
    {
     "name": "stderr",
     "output_type": "stream",
     "text": [
      "11it [00:00, 27.35it/s]\n"
     ]
    },
    {
     "name": "stdout",
     "output_type": "stream",
     "text": [
      "{'ner': 5.313325322291754}\n",
      "{'ner': 5.313327738074204}\n"
     ]
    },
    {
     "name": "stderr",
     "output_type": "stream",
     "text": [
      "\r",
      "0it [00:00, ?it/s]"
     ]
    },
    {
     "name": "stdout",
     "output_type": "stream",
     "text": [
      "{'ner': 0.031287683117155206}\n"
     ]
    },
    {
     "name": "stderr",
     "output_type": "stream",
     "text": [
      "\r",
      "3it [00:00, 27.06it/s]"
     ]
    },
    {
     "name": "stdout",
     "output_type": "stream",
     "text": [
      "{'ner': 0.031287683124805774}\n",
      "{'ner': 1.3006770740707014}\n",
      "{'ner': 1.3006779105269264}\n"
     ]
    },
    {
     "name": "stderr",
     "output_type": "stream",
     "text": [
      "\r",
      "6it [00:00, 27.68it/s]"
     ]
    },
    {
     "name": "stdout",
     "output_type": "stream",
     "text": [
      "{'ner': 1.300677910526946}\n",
      "{'ner': 1.30067791052717}\n",
      "{'ner': 1.3006779119789909}\n"
     ]
    },
    {
     "name": "stderr",
     "output_type": "stream",
     "text": [
      "\r",
      "9it [00:00, 23.89it/s]"
     ]
    },
    {
     "name": "stdout",
     "output_type": "stream",
     "text": [
      "{'ner': 3.1956406526457566}\n",
      "{'ner': 3.1956406526459262}\n"
     ]
    },
    {
     "name": "stderr",
     "output_type": "stream",
     "text": [
      "11it [00:00, 25.67it/s]\n"
     ]
    },
    {
     "name": "stdout",
     "output_type": "stream",
     "text": [
      "{'ner': 3.195658732622015}\n",
      "{'ner': 3.195658733902196}\n"
     ]
    },
    {
     "name": "stderr",
     "output_type": "stream",
     "text": [
      "\r",
      "0it [00:00, ?it/s]"
     ]
    },
    {
     "name": "stdout",
     "output_type": "stream",
     "text": [
      "{'ner': 6.44377729456078e-05}\n",
      "{'ner': 6.443917386324654e-05}\n"
     ]
    },
    {
     "name": "stderr",
     "output_type": "stream",
     "text": [
      "\r",
      "3it [00:00, 19.50it/s]"
     ]
    },
    {
     "name": "stdout",
     "output_type": "stream",
     "text": [
      "{'ner': 6.444584584666526e-05}\n",
      "{'ner': 6.444584591278671e-05}\n",
      "{'ner': 6.445105764411731e-05}\n"
     ]
    },
    {
     "name": "stderr",
     "output_type": "stream",
     "text": [
      "\r",
      "6it [00:00, 21.17it/s]"
     ]
    },
    {
     "name": "stdout",
     "output_type": "stream",
     "text": [
      "{'ner': 0.4466519125155768}\n",
      "{'ner': 0.44665191260463244}\n",
      "{'ner': 2.32567168084634}\n"
     ]
    },
    {
     "name": "stderr",
     "output_type": "stream",
     "text": [
      "11it [00:00, 22.62it/s]\n"
     ]
    },
    {
     "name": "stdout",
     "output_type": "stream",
     "text": [
      "{'ner': 2.32567168084634}\n",
      "{'ner': 2.325675611833494}\n",
      "{'ner': 2.3261099119099433}\n"
     ]
    },
    {
     "name": "stderr",
     "output_type": "stream",
     "text": [
      "\r",
      "0it [00:00, ?it/s]"
     ]
    },
    {
     "name": "stdout",
     "output_type": "stream",
     "text": [
      "{'ner': 2.173136096498622e-10}\n"
     ]
    },
    {
     "name": "stderr",
     "output_type": "stream",
     "text": [
      "\r",
      "2it [00:00, 19.91it/s]"
     ]
    },
    {
     "name": "stdout",
     "output_type": "stream",
     "text": [
      "{'ner': 2.1731362659516424e-10}\n"
     ]
    },
    {
     "name": "stderr",
     "output_type": "stream",
     "text": [
      "\r",
      "5it [00:00, 20.50it/s]"
     ]
    },
    {
     "name": "stdout",
     "output_type": "stream",
     "text": [
      "{'ner': 7.795948368540519e-10}\n",
      "{'ner': 7.795964532150044e-10}\n",
      "{'ner': 7.80001904886081e-10}\n",
      "{'ner': 7.800542845575502e-10}\n"
     ]
    },
    {
     "name": "stderr",
     "output_type": "stream",
     "text": [
      "\r",
      "8it [00:00, 19.18it/s]"
     ]
    },
    {
     "name": "stdout",
     "output_type": "stream",
     "text": [
      "{'ner': 7.80065345759232e-10}\n",
      "{'ner': 7.801912440629201e-10}\n",
      "{'ner': 8.139331203780172e-10}\n",
      "{'ner': 1.434963641101653e-09}\n"
     ]
    },
    {
     "name": "stderr",
     "output_type": "stream",
     "text": [
      "11it [00:00, 20.71it/s]\n"
     ]
    },
    {
     "name": "stdout",
     "output_type": "stream",
     "text": [
      "{'ner': 1.4660220420415207e-09}\n"
     ]
    },
    {
     "name": "stderr",
     "output_type": "stream",
     "text": [
      "3it [00:00, 23.82it/s]"
     ]
    },
    {
     "name": "stdout",
     "output_type": "stream",
     "text": [
      "{'ner': 0.05344841845396242}\n",
      "{'ner': 2.0531869924821304}\n",
      "{'ner': 2.0531869924973787}\n",
      "{'ner': 2.0531869925271025}\n"
     ]
    },
    {
     "name": "stderr",
     "output_type": "stream",
     "text": [
      "\r",
      "6it [00:00, 25.69it/s]"
     ]
    },
    {
     "name": "stdout",
     "output_type": "stream",
     "text": [
      "{'ner': 2.053186992527103}\n",
      "{'ner': 2.0531869925271033}\n"
     ]
    },
    {
     "name": "stderr",
     "output_type": "stream",
     "text": [
      "\r",
      "9it [00:00, 26.76it/s]"
     ]
    },
    {
     "name": "stdout",
     "output_type": "stream",
     "text": [
      "{'ner': 2.0531869925271033}\n",
      "{'ner': 2.0531869925271033}\n",
      "{'ner': 2.0531869926132913}\n",
      "{'ner': 2.0531869926132913}\n"
     ]
    },
    {
     "name": "stderr",
     "output_type": "stream",
     "text": [
      "11it [00:00, 26.57it/s]\n"
     ]
    },
    {
     "name": "stdout",
     "output_type": "stream",
     "text": [
      "{'ner': 2.053186992613296}\n"
     ]
    },
    {
     "name": "stderr",
     "output_type": "stream",
     "text": [
      "\r",
      "0it [00:00, ?it/s]"
     ]
    },
    {
     "name": "stdout",
     "output_type": "stream",
     "text": [
      "{'ner': 6.275173145503183e-08}\n"
     ]
    },
    {
     "name": "stderr",
     "output_type": "stream",
     "text": [
      "\r",
      "3it [00:00, 23.97it/s]"
     ]
    },
    {
     "name": "stdout",
     "output_type": "stream",
     "text": [
      "{'ner': 1.9991946847915263}\n",
      "{'ner': 3.9747751288864226}\n",
      "{'ner': 3.9747751288872974}\n",
      "{'ner': 3.9747751292147786}\n"
     ]
    },
    {
     "name": "stderr",
     "output_type": "stream",
     "text": [
      "\r",
      "6it [00:00, 22.56it/s]"
     ]
    },
    {
     "name": "stdout",
     "output_type": "stream",
     "text": [
      "{'ner': 3.974775129236784}\n"
     ]
    },
    {
     "name": "stderr",
     "output_type": "stream",
     "text": [
      "\r",
      "9it [00:00, 24.97it/s]"
     ]
    },
    {
     "name": "stdout",
     "output_type": "stream",
     "text": [
      "{'ner': 3.9747751315725988}\n",
      "{'ner': 3.9747751315726445}\n",
      "{'ner': 4.142671953667581}\n",
      "{'ner': 4.142671953667581}\n"
     ]
    },
    {
     "name": "stderr",
     "output_type": "stream",
     "text": [
      "11it [00:00, 25.36it/s]\n"
     ]
    },
    {
     "name": "stdout",
     "output_type": "stream",
     "text": [
      "{'ner': 4.142671954384696}\n"
     ]
    },
    {
     "name": "stderr",
     "output_type": "stream",
     "text": [
      "\r",
      "0it [00:00, ?it/s]"
     ]
    },
    {
     "name": "stdout",
     "output_type": "stream",
     "text": [
      "{'ner': 0.0002651873223077581}\n"
     ]
    },
    {
     "name": "stderr",
     "output_type": "stream",
     "text": [
      "\r",
      "3it [00:00, 22.70it/s]"
     ]
    },
    {
     "name": "stdout",
     "output_type": "stream",
     "text": [
      "{'ner': 0.0002934196515823662}\n",
      "{'ner': 0.004461382730509662}\n",
      "{'ner': 0.004647971607626974}\n",
      "{'ner': 0.004651813925570172}\n"
     ]
    },
    {
     "name": "stderr",
     "output_type": "stream",
     "text": [
      "\r",
      "6it [00:00, 22.70it/s]"
     ]
    },
    {
     "name": "stdout",
     "output_type": "stream",
     "text": [
      "{'ner': 0.0046518139289340584}\n"
     ]
    },
    {
     "name": "stderr",
     "output_type": "stream",
     "text": [
      "\r",
      "9it [00:00, 25.47it/s]"
     ]
    },
    {
     "name": "stdout",
     "output_type": "stream",
     "text": [
      "{'ner': 0.5281971983371188}\n",
      "{'ner': 0.5281971983371188}\n",
      "{'ner': 0.5281971983391168}\n",
      "{'ner': 0.5281971989482126}\n"
     ]
    },
    {
     "name": "stderr",
     "output_type": "stream",
     "text": [
      "11it [00:00, 25.93it/s]\n"
     ]
    },
    {
     "name": "stdout",
     "output_type": "stream",
     "text": [
      "{'ner': 0.5281971989482126}\n"
     ]
    },
    {
     "name": "stderr",
     "output_type": "stream",
     "text": [
      "\r",
      "0it [00:00, ?it/s]"
     ]
    },
    {
     "name": "stdout",
     "output_type": "stream",
     "text": [
      "{'ner': 3.0107850087169335e-16}\n",
      "{'ner': 1.3394012451177908}\n"
     ]
    },
    {
     "name": "stderr",
     "output_type": "stream",
     "text": [
      "\r",
      "3it [00:00, 26.91it/s]"
     ]
    },
    {
     "name": "stdout",
     "output_type": "stream",
     "text": [
      "{'ner': 1.3394012941459208}\n",
      "{'ner': 3.244208861745975}\n",
      "{'ner': 4.20293767371323}\n"
     ]
    },
    {
     "name": "stderr",
     "output_type": "stream",
     "text": [
      "\r",
      "6it [00:00, 26.98it/s]"
     ]
    },
    {
     "name": "stdout",
     "output_type": "stream",
     "text": [
      "{'ner': 4.202937673713243}\n",
      "{'ner': 4.2029394307501775}\n"
     ]
    },
    {
     "name": "stderr",
     "output_type": "stream",
     "text": [
      "11it [00:00, 26.92it/s]\n"
     ]
    },
    {
     "name": "stdout",
     "output_type": "stream",
     "text": [
      "{'ner': 4.202939430826349}\n",
      "{'ner': 4.20293943084029}\n",
      "{'ner': 4.202939430840868}\n",
      "{'ner': 4.236414949067492}\n"
     ]
    },
    {
     "name": "stderr",
     "output_type": "stream",
     "text": [
      "\r",
      "0it [00:00, ?it/s]"
     ]
    },
    {
     "name": "stdout",
     "output_type": "stream",
     "text": [
      "{'ner': 5.067555759549378e-09}\n"
     ]
    },
    {
     "name": "stderr",
     "output_type": "stream",
     "text": [
      "\r",
      "2it [00:00, 18.63it/s]"
     ]
    },
    {
     "name": "stdout",
     "output_type": "stream",
     "text": [
      "{'ner': 5.067781292153747e-09}\n"
     ]
    },
    {
     "name": "stderr",
     "output_type": "stream",
     "text": [
      "\r",
      "4it [00:00, 16.98it/s]"
     ]
    },
    {
     "name": "stdout",
     "output_type": "stream",
     "text": [
      "{'ner': 1.2135760835171676}\n",
      "{'ner': 1.2135760835171676}\n",
      "{'ner': 1.213586280758176}\n"
     ]
    },
    {
     "name": "stderr",
     "output_type": "stream",
     "text": [
      "\r",
      "6it [00:00, 17.99it/s]"
     ]
    },
    {
     "name": "stdout",
     "output_type": "stream",
     "text": [
      "{'ner': 2.4979854327078845}\n",
      "{'ner': 2.497985433162466}\n"
     ]
    },
    {
     "name": "stderr",
     "output_type": "stream",
     "text": [
      "\r",
      "9it [00:00, 21.70it/s]"
     ]
    },
    {
     "name": "stdout",
     "output_type": "stream",
     "text": [
      "{'ner': 2.4979854353038875}\n",
      "{'ner': 2.4979854353038875}\n"
     ]
    },
    {
     "name": "stderr",
     "output_type": "stream",
     "text": [
      "11it [00:00, 21.38it/s]\n"
     ]
    },
    {
     "name": "stdout",
     "output_type": "stream",
     "text": [
      "{'ner': 2.497985444170499}\n",
      "{'ner': 2.4979854441706504}\n"
     ]
    },
    {
     "name": "stderr",
     "output_type": "stream",
     "text": [
      "\r",
      "0it [00:00, ?it/s]"
     ]
    },
    {
     "name": "stdout",
     "output_type": "stream",
     "text": [
      "{'ner': 1.4781814241368344e-13}\n",
      "{'ner': 6.986930313933849e-05}\n"
     ]
    },
    {
     "name": "stderr",
     "output_type": "stream",
     "text": [
      "\r",
      "3it [00:00, 21.74it/s]"
     ]
    },
    {
     "name": "stdout",
     "output_type": "stream",
     "text": [
      "{'ner': 6.986976745091226e-05}\n",
      "{'ner': 7.022783242983486e-05}\n",
      "{'ner': 7.022783242991237e-05}\n"
     ]
    },
    {
     "name": "stderr",
     "output_type": "stream",
     "text": [
      "\r",
      "6it [00:00, 22.64it/s]"
     ]
    },
    {
     "name": "stdout",
     "output_type": "stream",
     "text": [
      "{'ner': 7.022784718840117e-05}\n",
      "{'ner': 7.02278471884016e-05}\n",
      "{'ner': 7.022784718978308e-05}\n"
     ]
    },
    {
     "name": "stderr",
     "output_type": "stream",
     "text": [
      "11it [00:00, 24.51it/s]\n"
     ]
    },
    {
     "name": "stdout",
     "output_type": "stream",
     "text": [
      "{'ner': 7.072084730418057e-05}\n",
      "{'ner': 7.072084730589868e-05}\n",
      "{'ner': 7.083642585673406e-05}\n"
     ]
    },
    {
     "name": "stderr",
     "output_type": "stream",
     "text": [
      "\r",
      "0it [00:00, ?it/s]"
     ]
    },
    {
     "name": "stdout",
     "output_type": "stream",
     "text": [
      "{'ner': 4.909677716758282e-10}\n",
      "{'ner': 4.910220347152032e-10}\n"
     ]
    },
    {
     "name": "stderr",
     "output_type": "stream",
     "text": [
      "\r",
      "3it [00:00, 25.82it/s]"
     ]
    },
    {
     "name": "stdout",
     "output_type": "stream",
     "text": [
      "{'ner': 1.5664156525205906e-08}\n",
      "{'ner': 9.978358629556875e-05}\n",
      "{'ner': 0.0007255159870155801}\n"
     ]
    },
    {
     "name": "stderr",
     "output_type": "stream",
     "text": [
      "\r",
      "6it [00:00, 22.06it/s]"
     ]
    },
    {
     "name": "stdout",
     "output_type": "stream",
     "text": [
      "{'ner': 1.987173972708693}\n",
      "{'ner': 1.9871739738117427}\n"
     ]
    },
    {
     "name": "stderr",
     "output_type": "stream",
     "text": [
      "\r",
      "9it [00:00, 21.73it/s]"
     ]
    },
    {
     "name": "stdout",
     "output_type": "stream",
     "text": [
      "{'ner': 1.9871739738117427}\n",
      "{'ner': 1.9871739738117458}\n",
      "{'ner': 1.987173973833706}\n"
     ]
    },
    {
     "name": "stderr",
     "output_type": "stream",
     "text": [
      "11it [00:00, 23.17it/s]\n"
     ]
    },
    {
     "name": "stdout",
     "output_type": "stream",
     "text": [
      "{'ner': 1.9871739892844806}\n"
     ]
    },
    {
     "name": "stderr",
     "output_type": "stream",
     "text": [
      "\r",
      "0it [00:00, ?it/s]"
     ]
    },
    {
     "name": "stdout",
     "output_type": "stream",
     "text": [
      "{'ner': 4.2761794313919715e-06}\n"
     ]
    },
    {
     "name": "stderr",
     "output_type": "stream",
     "text": [
      "\r",
      "3it [00:00, 21.00it/s]"
     ]
    },
    {
     "name": "stdout",
     "output_type": "stream",
     "text": [
      "{'ner': 4.461772242834084e-05}\n",
      "{'ner': 4.461772243015719e-05}\n",
      "{'ner': 4.464641066911712e-05}\n",
      "{'ner': 5.440871273899975e-05}\n"
     ]
    },
    {
     "name": "stderr",
     "output_type": "stream",
     "text": [
      "\r",
      "6it [00:00, 22.13it/s]"
     ]
    },
    {
     "name": "stdout",
     "output_type": "stream",
     "text": [
      "{'ner': 5.440871273905692e-05}\n"
     ]
    },
    {
     "name": "stderr",
     "output_type": "stream",
     "text": [
      "\r",
      "9it [00:00, 24.06it/s]"
     ]
    },
    {
     "name": "stdout",
     "output_type": "stream",
     "text": [
      "{'ner': 5.440893754232554e-05}\n",
      "{'ner': 5.6381446015852047e-05}\n",
      "{'ner': 5.701920280408186e-05}\n"
     ]
    },
    {
     "name": "stderr",
     "output_type": "stream",
     "text": [
      "11it [00:00, 24.57it/s]\n"
     ]
    },
    {
     "name": "stdout",
     "output_type": "stream",
     "text": [
      "{'ner': 5.740680268594005e-05}\n",
      "{'ner': 5.740680268671965e-05}\n"
     ]
    },
    {
     "name": "stderr",
     "output_type": "stream",
     "text": [
      "\r",
      "0it [00:00, ?it/s]"
     ]
    },
    {
     "name": "stdout",
     "output_type": "stream",
     "text": [
      "{'ner': 2.0925582125942928}\n"
     ]
    },
    {
     "name": "stderr",
     "output_type": "stream",
     "text": [
      "\r",
      "3it [00:00, 24.73it/s]"
     ]
    },
    {
     "name": "stdout",
     "output_type": "stream",
     "text": [
      "{'ner': 2.092558212594404}\n",
      "{'ner': 2.092558212598214}\n",
      "{'ner': 2.0986365442557218}\n",
      "{'ner': 2.0986365471696566}\n"
     ]
    },
    {
     "name": "stderr",
     "output_type": "stream",
     "text": [
      "\r",
      "6it [00:00, 21.44it/s]"
     ]
    },
    {
     "name": "stdout",
     "output_type": "stream",
     "text": [
      "{'ner': 2.622781435137071}\n"
     ]
    },
    {
     "name": "stderr",
     "output_type": "stream",
     "text": [
      "\r",
      "9it [00:00, 24.20it/s]"
     ]
    },
    {
     "name": "stdout",
     "output_type": "stream",
     "text": [
      "{'ner': 2.6227824640610256}\n",
      "{'ner': 2.6227824640610256}\n",
      "{'ner': 2.6227824640610917}\n",
      "{'ner': 2.6227824640611654}\n"
     ]
    },
    {
     "name": "stderr",
     "output_type": "stream",
     "text": [
      "11it [00:00, 25.23it/s]\n"
     ]
    },
    {
     "name": "stdout",
     "output_type": "stream",
     "text": [
      "{'ner': 2.6227824640611654}\n"
     ]
    },
    {
     "name": "stderr",
     "output_type": "stream",
     "text": [
      "\r",
      "0it [00:00, ?it/s]"
     ]
    },
    {
     "name": "stdout",
     "output_type": "stream",
     "text": [
      "{'ner': 9.979597827921847e-09}\n"
     ]
    },
    {
     "name": "stderr",
     "output_type": "stream",
     "text": [
      "\r",
      "3it [00:00, 22.60it/s]"
     ]
    },
    {
     "name": "stdout",
     "output_type": "stream",
     "text": [
      "{'ner': 9.979597828652754e-09}\n",
      "{'ner': 0.00017142455696570556}\n",
      "{'ner': 4.009317322397043}\n"
     ]
    },
    {
     "name": "stderr",
     "output_type": "stream",
     "text": [
      "\r",
      "6it [00:00, 26.05it/s]"
     ]
    },
    {
     "name": "stdout",
     "output_type": "stream",
     "text": [
      "{'ner': 4.0162635056728755}\n",
      "{'ner': 4.0162635056728755}\n",
      "{'ner': 4.0162635056730185}\n"
     ]
    },
    {
     "name": "stderr",
     "output_type": "stream",
     "text": [
      "\r",
      "9it [00:00, 25.12it/s]"
     ]
    },
    {
     "name": "stdout",
     "output_type": "stream",
     "text": [
      "{'ner': 4.034930749094303}\n",
      "{'ner': 4.0349307519883295}\n",
      "{'ner': 4.034930753062643}\n"
     ]
    },
    {
     "name": "stderr",
     "output_type": "stream",
     "text": [
      "11it [00:00, 26.12it/s]\n"
     ]
    },
    {
     "name": "stdout",
     "output_type": "stream",
     "text": [
      "{'ner': 4.034930753063563}\n"
     ]
    },
    {
     "name": "stderr",
     "output_type": "stream",
     "text": [
      "\r",
      "0it [00:00, ?it/s]"
     ]
    },
    {
     "name": "stdout",
     "output_type": "stream",
     "text": [
      "{'ner': 4.2278870788178515e-06}\n",
      "{'ner': 4.228057901270114e-06}\n"
     ]
    },
    {
     "name": "stderr",
     "output_type": "stream",
     "text": [
      "\r",
      "3it [00:00, 22.75it/s]"
     ]
    },
    {
     "name": "stdout",
     "output_type": "stream",
     "text": [
      "{'ner': 4.2280580131686395e-06}\n",
      "{'ner': 0.05069483429449616}\n",
      "{'ner': 0.05070758984496456}\n"
     ]
    },
    {
     "name": "stderr",
     "output_type": "stream",
     "text": [
      "\r",
      "6it [00:00, 22.31it/s]"
     ]
    },
    {
     "name": "stdout",
     "output_type": "stream",
     "text": [
      "{'ner': 0.050707589846083506}\n",
      "{'ner': 0.05070758984608392}\n"
     ]
    },
    {
     "name": "stderr",
     "output_type": "stream",
     "text": [
      "\r",
      "9it [00:00, 22.55it/s]"
     ]
    },
    {
     "name": "stdout",
     "output_type": "stream",
     "text": [
      "{'ner': 0.05070759099010906}\n",
      "{'ner': 0.050707601092154816}\n"
     ]
    },
    {
     "name": "stderr",
     "output_type": "stream",
     "text": [
      "11it [00:00, 23.90it/s]\n"
     ]
    },
    {
     "name": "stdout",
     "output_type": "stream",
     "text": [
      "{'ner': 3.3091644273034118}\n",
      "{'ner': 3.3091644273034118}\n"
     ]
    },
    {
     "name": "stderr",
     "output_type": "stream",
     "text": [
      "\r",
      "0it [00:00, ?it/s]"
     ]
    },
    {
     "name": "stdout",
     "output_type": "stream",
     "text": [
      "{'ner': 0.767362135587288}\n",
      "{'ner': 0.7673621355877653}\n"
     ]
    },
    {
     "name": "stderr",
     "output_type": "stream",
     "text": [
      "\r",
      "3it [00:00, 24.12it/s]"
     ]
    },
    {
     "name": "stdout",
     "output_type": "stream",
     "text": [
      "{'ner': 0.7673621357126023}\n",
      "{'ner': 0.7673621388529182}\n"
     ]
    },
    {
     "name": "stderr",
     "output_type": "stream",
     "text": [
      "\r",
      "6it [00:00, 23.79it/s]"
     ]
    },
    {
     "name": "stdout",
     "output_type": "stream",
     "text": [
      "{'ner': 0.7673621388843218}\n",
      "{'ner': 0.767362149470229}\n",
      "{'ner': 0.7673671113202083}\n"
     ]
    },
    {
     "name": "stderr",
     "output_type": "stream",
     "text": [
      "\r",
      "9it [00:00, 23.27it/s]"
     ]
    },
    {
     "name": "stdout",
     "output_type": "stream",
     "text": [
      "{'ner': 0.76736711132021}\n",
      "{'ner': 0.7685175639685329}\n"
     ]
    },
    {
     "name": "stderr",
     "output_type": "stream",
     "text": [
      "11it [00:00, 24.66it/s]\n"
     ]
    },
    {
     "name": "stdout",
     "output_type": "stream",
     "text": [
      "{'ner': 0.7685175723686211}\n",
      "{'ner': 0.7685175723686216}\n"
     ]
    },
    {
     "name": "stderr",
     "output_type": "stream",
     "text": [
      "\r",
      "0it [00:00, ?it/s]"
     ]
    },
    {
     "name": "stdout",
     "output_type": "stream",
     "text": [
      "{'ner': 5.110136018549353e-16}\n"
     ]
    },
    {
     "name": "stderr",
     "output_type": "stream",
     "text": [
      "\r",
      "2it [00:00, 18.44it/s]"
     ]
    },
    {
     "name": "stdout",
     "output_type": "stream",
     "text": [
      "{'ner': 5.93885565060664e-11}\n",
      "{'ner': 7.516878444058616e-08}\n"
     ]
    },
    {
     "name": "stderr",
     "output_type": "stream",
     "text": [
      "\r",
      "5it [00:00, 20.64it/s]"
     ]
    },
    {
     "name": "stdout",
     "output_type": "stream",
     "text": [
      "{'ner': 0.01972125912611722}\n",
      "{'ner': 0.019721259126285348}\n",
      "{'ner': 0.019721735585421275}\n"
     ]
    },
    {
     "name": "stderr",
     "output_type": "stream",
     "text": [
      "\r",
      "8it [00:00, 23.02it/s]"
     ]
    },
    {
     "name": "stdout",
     "output_type": "stream",
     "text": [
      "{'ner': 0.01972173558542131}\n",
      "{'ner': 0.019721735585423842}\n"
     ]
    },
    {
     "name": "stderr",
     "output_type": "stream",
     "text": [
      "11it [00:00, 23.00it/s]\n"
     ]
    },
    {
     "name": "stdout",
     "output_type": "stream",
     "text": [
      "{'ner': 0.019721735585426795}\n",
      "{'ner': 0.021982904357177216}\n",
      "{'ner': 1.239271291045049}\n"
     ]
    },
    {
     "name": "stderr",
     "output_type": "stream",
     "text": [
      "3it [00:00, 26.06it/s]"
     ]
    },
    {
     "name": "stdout",
     "output_type": "stream",
     "text": [
      "{'ner': 1.6296011807074463e-14}\n",
      "{'ner': 1.1477042151182204e-12}\n",
      "{'ner': 1.829533021362712e-11}\n"
     ]
    },
    {
     "name": "stderr",
     "output_type": "stream",
     "text": [
      "\r",
      "6it [00:00, 25.13it/s]"
     ]
    },
    {
     "name": "stdout",
     "output_type": "stream",
     "text": [
      "{'ner': 2.7520516209229846e-05}\n",
      "{'ner': 2.7523861916076726e-05}\n",
      "{'ner': 2.7523861919399067e-05}\n"
     ]
    },
    {
     "name": "stderr",
     "output_type": "stream",
     "text": [
      "\r",
      "9it [00:00, 25.12it/s]"
     ]
    },
    {
     "name": "stdout",
     "output_type": "stream",
     "text": [
      "{'ner': 2.752425187315546e-05}\n",
      "{'ner': 2.7524362429205346e-05}\n",
      "{'ner': 2.7540036469621147e-05}\n"
     ]
    },
    {
     "name": "stderr",
     "output_type": "stream",
     "text": [
      "11it [00:00, 26.16it/s]\n"
     ]
    },
    {
     "name": "stdout",
     "output_type": "stream",
     "text": [
      "{'ner': 2.754003731507153e-05}\n",
      "{'ner': 2.7540037319921022e-05}\n"
     ]
    },
    {
     "name": "stderr",
     "output_type": "stream",
     "text": [
      "\r",
      "0it [00:00, ?it/s]"
     ]
    },
    {
     "name": "stdout",
     "output_type": "stream",
     "text": [
      "{'ner': 4.791472600984811e-11}\n"
     ]
    },
    {
     "name": "stderr",
     "output_type": "stream",
     "text": [
      "\r",
      "3it [00:00, 26.39it/s]"
     ]
    },
    {
     "name": "stdout",
     "output_type": "stream",
     "text": [
      "{'ner': 1.0399613840624379e-10}\n",
      "{'ner': 1.0400466975325966e-10}\n",
      "{'ner': 9.66963579211903e-07}\n"
     ]
    },
    {
     "name": "stderr",
     "output_type": "stream",
     "text": [
      "\r",
      "6it [00:00, 26.75it/s]"
     ]
    },
    {
     "name": "stdout",
     "output_type": "stream",
     "text": [
      "{'ner': 0.001168261406870329}\n",
      "{'ner': 0.0011682614073224274}\n",
      "{'ner': 0.001168261407822706}\n"
     ]
    },
    {
     "name": "stderr",
     "output_type": "stream",
     "text": [
      "\r",
      "9it [00:00, 25.91it/s]"
     ]
    },
    {
     "name": "stdout",
     "output_type": "stream",
     "text": [
      "{'ner': 0.0011682614078412314}\n",
      "{'ner': 0.0011682614081239952}\n",
      "{'ner': 0.001168261408124013}\n"
     ]
    },
    {
     "name": "stderr",
     "output_type": "stream",
     "text": [
      "11it [00:00, 26.49it/s]\n"
     ]
    },
    {
     "name": "stdout",
     "output_type": "stream",
     "text": [
      "{'ner': 0.0011682614081240132}\n"
     ]
    },
    {
     "name": "stderr",
     "output_type": "stream",
     "text": [
      "\r",
      "0it [00:00, ?it/s]"
     ]
    },
    {
     "name": "stdout",
     "output_type": "stream",
     "text": [
      "{'ner': 1.7266943454742456}\n"
     ]
    },
    {
     "name": "stderr",
     "output_type": "stream",
     "text": [
      "\r",
      "3it [00:00, 24.82it/s]"
     ]
    },
    {
     "name": "stdout",
     "output_type": "stream",
     "text": [
      "{'ner': 1.7266943454748889}\n",
      "{'ner': 1.726694345474928}\n",
      "{'ner': 1.7266943455723494}\n",
      "{'ner': 1.7266943456972927}\n"
     ]
    },
    {
     "name": "stderr",
     "output_type": "stream",
     "text": [
      "\r",
      "6it [00:00, 21.22it/s]"
     ]
    },
    {
     "name": "stdout",
     "output_type": "stream",
     "text": [
      "{'ner': 1.7266943456979138}\n"
     ]
    },
    {
     "name": "stderr",
     "output_type": "stream",
     "text": [
      "\r",
      "9it [00:00, 22.54it/s]"
     ]
    },
    {
     "name": "stdout",
     "output_type": "stream",
     "text": [
      "{'ner': 1.7266943503873031}\n",
      "{'ner': 1.7266943503912817}\n",
      "{'ner': 1.7266943503913699}\n"
     ]
    },
    {
     "name": "stderr",
     "output_type": "stream",
     "text": [
      "11it [00:00, 23.48it/s]\n"
     ]
    },
    {
     "name": "stdout",
     "output_type": "stream",
     "text": [
      "{'ner': 1.7266943503936205}\n",
      "{'ner': 1.7266943503937955}\n"
     ]
    },
    {
     "name": "stderr",
     "output_type": "stream",
     "text": [
      "\r",
      "0it [00:00, ?it/s]"
     ]
    },
    {
     "name": "stdout",
     "output_type": "stream",
     "text": [
      "{'ner': 1.3852664424910227e-13}\n"
     ]
    },
    {
     "name": "stderr",
     "output_type": "stream",
     "text": [
      "\r",
      "2it [00:00, 17.53it/s]"
     ]
    },
    {
     "name": "stdout",
     "output_type": "stream",
     "text": [
      "{'ner': 3.0077517352260816}\n",
      "{'ner': 3.0077517352288856}\n"
     ]
    },
    {
     "name": "stderr",
     "output_type": "stream",
     "text": [
      "\r",
      "5it [00:00, 21.59it/s]"
     ]
    },
    {
     "name": "stdout",
     "output_type": "stream",
     "text": [
      "{'ner': 3.00775173522921}\n",
      "{'ner': 3.007751864544718}\n",
      "{'ner': 3.007751864544719}\n",
      "{'ner': 3.007751864548894}\n"
     ]
    },
    {
     "name": "stderr",
     "output_type": "stream",
     "text": [
      "\r",
      "8it [00:00, 23.26it/s]"
     ]
    },
    {
     "name": "stdout",
     "output_type": "stream",
     "text": [
      "{'ner': 3.0077518670421317}\n"
     ]
    },
    {
     "name": "stderr",
     "output_type": "stream",
     "text": [
      "11it [00:00, 23.85it/s]\n"
     ]
    },
    {
     "name": "stdout",
     "output_type": "stream",
     "text": [
      "{'ner': 3.0077518670492323}\n",
      "{'ner': 3.007751867144877}\n",
      "{'ner': 3.007751867144877}\n"
     ]
    },
    {
     "name": "stderr",
     "output_type": "stream",
     "text": [
      "\r",
      "0it [00:00, ?it/s]"
     ]
    },
    {
     "name": "stdout",
     "output_type": "stream",
     "text": [
      "{'ner': 2.139860937976337e-12}\n",
      "{'ner': 1.997018460077808}\n"
     ]
    },
    {
     "name": "stderr",
     "output_type": "stream",
     "text": [
      "\r",
      "3it [00:00, 23.73it/s]"
     ]
    },
    {
     "name": "stdout",
     "output_type": "stream",
     "text": [
      "{'ner': 1.9970184600778553}\n",
      "{'ner': 1.9971163586026475}\n",
      "{'ner': 1.9971163628943183}\n"
     ]
    },
    {
     "name": "stderr",
     "output_type": "stream",
     "text": [
      "\r",
      "6it [00:00, 22.57it/s]"
     ]
    },
    {
     "name": "stdout",
     "output_type": "stream",
     "text": [
      "{'ner': 1.9971163632223106}\n",
      "{'ner': 1.9971163632223106}\n"
     ]
    },
    {
     "name": "stderr",
     "output_type": "stream",
     "text": [
      "\r",
      "9it [00:00, 20.35it/s]"
     ]
    },
    {
     "name": "stdout",
     "output_type": "stream",
     "text": [
      "{'ner': 1.997116363679178}\n",
      "{'ner': 1.997116363679178}\n",
      "{'ner': 1.9971163636845302}\n"
     ]
    },
    {
     "name": "stderr",
     "output_type": "stream",
     "text": [
      "11it [00:00, 22.89it/s]\n"
     ]
    },
    {
     "name": "stdout",
     "output_type": "stream",
     "text": [
      "{'ner': 1.9971163636846445}\n"
     ]
    },
    {
     "name": "stderr",
     "output_type": "stream",
     "text": [
      "\r",
      "0it [00:00, ?it/s]"
     ]
    },
    {
     "name": "stdout",
     "output_type": "stream",
     "text": [
      "{'ner': 2.89491188968681e-14}\n"
     ]
    },
    {
     "name": "stderr",
     "output_type": "stream",
     "text": [
      "\r",
      "3it [00:00, 28.84it/s]"
     ]
    },
    {
     "name": "stdout",
     "output_type": "stream",
     "text": [
      "{'ner': 8.430741763812079e-11}\n",
      "{'ner': 8.587289512754768e-11}\n",
      "{'ner': 8.362463450756352e-06}\n",
      "{'ner': 8.36263086590812e-06}\n"
     ]
    },
    {
     "name": "stderr",
     "output_type": "stream",
     "text": [
      "\r",
      "6it [00:00, 24.84it/s]"
     ]
    },
    {
     "name": "stdout",
     "output_type": "stream",
     "text": [
      "{'ner': 8.362630875923617e-06}\n",
      "{'ner': 8.373720405285994e-06}\n",
      "{'ner': 8.373720405342452e-06}\n"
     ]
    },
    {
     "name": "stderr",
     "output_type": "stream",
     "text": [
      "11it [00:00, 26.42it/s]\n"
     ]
    },
    {
     "name": "stdout",
     "output_type": "stream",
     "text": [
      "{'ner': 8.373837907632216e-06}\n",
      "{'ner': 8.373838111053634e-06}\n",
      "{'ner': 8.373838111065953e-06}\n"
     ]
    },
    {
     "name": "stderr",
     "output_type": "stream",
     "text": [
      "\r",
      "0it [00:00, ?it/s]"
     ]
    },
    {
     "name": "stdout",
     "output_type": "stream",
     "text": [
      "{'ner': 0.4854936897755103}\n",
      "{'ner': 0.48549368977558544}\n"
     ]
    },
    {
     "name": "stderr",
     "output_type": "stream",
     "text": [
      "\r",
      "3it [00:00, 25.70it/s]"
     ]
    },
    {
     "name": "stdout",
     "output_type": "stream",
     "text": [
      "{'ner': 0.4854939649035707}\n"
     ]
    },
    {
     "name": "stderr",
     "output_type": "stream",
     "text": [
      "\r",
      "6it [00:00, 25.27it/s]"
     ]
    },
    {
     "name": "stdout",
     "output_type": "stream",
     "text": [
      "{'ner': 0.48549396490462793}\n",
      "{'ner': 0.4854939651249097}\n",
      "{'ner': 5.877403806006839}\n",
      "{'ner': 5.877403806007476}\n"
     ]
    },
    {
     "name": "stderr",
     "output_type": "stream",
     "text": [
      "\r",
      "9it [00:00, 24.47it/s]"
     ]
    },
    {
     "name": "stdout",
     "output_type": "stream",
     "text": [
      "{'ner': 5.877403806093141}\n",
      "{'ner': 5.87742315429798}\n"
     ]
    },
    {
     "name": "stderr",
     "output_type": "stream",
     "text": [
      "11it [00:00, 25.98it/s]\n"
     ]
    },
    {
     "name": "stdout",
     "output_type": "stream",
     "text": [
      "{'ner': 5.87742315429798}\n",
      "{'ner': 5.877423154298026}\n"
     ]
    },
    {
     "name": "stderr",
     "output_type": "stream",
     "text": [
      "\r",
      "0it [00:00, ?it/s]"
     ]
    },
    {
     "name": "stdout",
     "output_type": "stream",
     "text": [
      "{'ner': 3.017576786474316e-13}\n",
      "{'ner': 3.0776466680303675e-11}\n"
     ]
    },
    {
     "name": "stderr",
     "output_type": "stream",
     "text": [
      "\r",
      "4it [00:00, 29.10it/s]"
     ]
    },
    {
     "name": "stdout",
     "output_type": "stream",
     "text": [
      "{'ner': 3.0803261370657004e-11}\n",
      "{'ner': 0.00021999425698386303}\n",
      "{'ner': 0.00021999425701439414}\n",
      "{'ner': 0.00022234794577441263}\n"
     ]
    },
    {
     "name": "stderr",
     "output_type": "stream",
     "text": [
      "\r",
      "7it [00:00, 22.59it/s]"
     ]
    },
    {
     "name": "stdout",
     "output_type": "stream",
     "text": [
      "{'ner': 0.002592647987127618}\n"
     ]
    },
    {
     "name": "stderr",
     "output_type": "stream",
     "text": [
      "\r",
      "10it [00:00, 23.10it/s]"
     ]
    },
    {
     "name": "stdout",
     "output_type": "stream",
     "text": [
      "{'ner': 1.9219807037925374}\n",
      "{'ner': 1.9292278912412244}\n",
      "{'ner': 1.9292278912412337}\n"
     ]
    },
    {
     "name": "stderr",
     "output_type": "stream",
     "text": [
      "11it [00:00, 24.19it/s]\n"
     ]
    },
    {
     "name": "stdout",
     "output_type": "stream",
     "text": [
      "{'ner': 3.92811113861936}\n"
     ]
    },
    {
     "name": "stderr",
     "output_type": "stream",
     "text": [
      "\r",
      "0it [00:00, ?it/s]"
     ]
    },
    {
     "name": "stdout",
     "output_type": "stream",
     "text": [
      "{'ner': 5.7715846925603216e-11}\n",
      "{'ner': 6.196112360759985e-11}\n"
     ]
    },
    {
     "name": "stderr",
     "output_type": "stream",
     "text": [
      "\r",
      "3it [00:00, 22.55it/s]"
     ]
    },
    {
     "name": "stdout",
     "output_type": "stream",
     "text": [
      "{'ner': 6.257333946286697e-11}\n",
      "{'ner': 6.53892707844672e-11}\n",
      "{'ner': 1.3582657960683392e-10}\n"
     ]
    },
    {
     "name": "stderr",
     "output_type": "stream",
     "text": [
      "\r",
      "6it [00:00, 23.27it/s]"
     ]
    },
    {
     "name": "stdout",
     "output_type": "stream",
     "text": [
      "{'ner': 1.360858570031137e-10}\n",
      "{'ner': 1.3956841137092972e-10}\n"
     ]
    },
    {
     "name": "stderr",
     "output_type": "stream",
     "text": [
      "\r",
      "9it [00:00, 23.96it/s]"
     ]
    },
    {
     "name": "stdout",
     "output_type": "stream",
     "text": [
      "{'ner': 6.174876778587207e-06}\n",
      "{'ner': 6.1748769439363685e-06}\n",
      "{'ner': 0.000426230220615291}\n"
     ]
    },
    {
     "name": "stderr",
     "output_type": "stream",
     "text": [
      "11it [00:00, 22.97it/s]\n"
     ]
    },
    {
     "name": "stdout",
     "output_type": "stream",
     "text": [
      "{'ner': 0.006170928679672963}\n"
     ]
    },
    {
     "name": "stderr",
     "output_type": "stream",
     "text": [
      "\r",
      "0it [00:00, ?it/s]"
     ]
    },
    {
     "name": "stdout",
     "output_type": "stream",
     "text": [
      "{'ner': 7.68632330771091e-11}\n"
     ]
    },
    {
     "name": "stderr",
     "output_type": "stream",
     "text": [
      "\r",
      "3it [00:00, 21.19it/s]"
     ]
    },
    {
     "name": "stdout",
     "output_type": "stream",
     "text": [
      "{'ner': 7.688232883822122e-11}\n",
      "{'ner': 1.0602921282649962e-05}\n",
      "{'ner': 1.0603019632466022e-05}\n"
     ]
    },
    {
     "name": "stderr",
     "output_type": "stream",
     "text": [
      "\r",
      "6it [00:00, 24.45it/s]"
     ]
    },
    {
     "name": "stdout",
     "output_type": "stream",
     "text": [
      "{'ner': 3.675863301837077}\n",
      "{'ner': 3.675863304142688}\n",
      "{'ner': 3.675863304358914}\n"
     ]
    },
    {
     "name": "stderr",
     "output_type": "stream",
     "text": [
      "\r",
      "9it [00:00, 24.70it/s]"
     ]
    },
    {
     "name": "stdout",
     "output_type": "stream",
     "text": [
      "{'ner': 3.675863323191444}\n",
      "{'ner': 3.6758633283253235}\n",
      "{'ner': 3.675863333975134}\n"
     ]
    },
    {
     "name": "stderr",
     "output_type": "stream",
     "text": [
      "11it [00:00, 25.04it/s]\n"
     ]
    },
    {
     "name": "stdout",
     "output_type": "stream",
     "text": [
      "{'ner': 3.684025174263628}\n"
     ]
    },
    {
     "name": "stderr",
     "output_type": "stream",
     "text": [
      "\r",
      "0it [00:00, ?it/s]"
     ]
    },
    {
     "name": "stdout",
     "output_type": "stream",
     "text": [
      "{'ner': 6.286114085064431e-12}\n",
      "{'ner': 6.212329197379235e-11}\n"
     ]
    },
    {
     "name": "stderr",
     "output_type": "stream",
     "text": [
      "\r",
      "3it [00:00, 23.89it/s]"
     ]
    },
    {
     "name": "stdout",
     "output_type": "stream",
     "text": [
      "{'ner': 1.8960748094793624e-10}\n",
      "{'ner': 1.697496891212814}\n",
      "{'ner': 1.697496891213158}\n"
     ]
    },
    {
     "name": "stderr",
     "output_type": "stream",
     "text": [
      "\r",
      "6it [00:00, 20.53it/s]"
     ]
    },
    {
     "name": "stdout",
     "output_type": "stream",
     "text": [
      "{'ner': 1.6974968912318866}\n"
     ]
    },
    {
     "name": "stderr",
     "output_type": "stream",
     "text": [
      "\r",
      "9it [00:00, 22.25it/s]"
     ]
    },
    {
     "name": "stdout",
     "output_type": "stream",
     "text": [
      "{'ner': 1.7033149266854652}\n",
      "{'ner': 1.7033149266881082}\n",
      "{'ner': 1.703314926688908}\n"
     ]
    },
    {
     "name": "stderr",
     "output_type": "stream",
     "text": [
      "11it [00:00, 23.47it/s]\n"
     ]
    },
    {
     "name": "stdout",
     "output_type": "stream",
     "text": [
      "{'ner': 1.703314926688916}\n",
      "{'ner': 3.7033149275158967}\n"
     ]
    },
    {
     "name": "stderr",
     "output_type": "stream",
     "text": [
      "\r",
      "0it [00:00, ?it/s]"
     ]
    },
    {
     "name": "stdout",
     "output_type": "stream",
     "text": [
      "{'ner': 1.7391256111337425}\n"
     ]
    },
    {
     "name": "stderr",
     "output_type": "stream",
     "text": [
      "\r",
      "3it [00:00, 22.15it/s]"
     ]
    },
    {
     "name": "stdout",
     "output_type": "stream",
     "text": [
      "{'ner': 1.7391256111347329}\n",
      "{'ner': 1.739125773907086}\n"
     ]
    },
    {
     "name": "stderr",
     "output_type": "stream",
     "text": [
      "\r",
      "6it [00:00, 23.69it/s]"
     ]
    },
    {
     "name": "stdout",
     "output_type": "stream",
     "text": [
      "{'ner': 1.7391257739070995}\n",
      "{'ner': 1.7391257739146364}\n",
      "{'ner': 1.7391257741187565}\n",
      "{'ner': 1.7391257781355685}\n",
      "{'ner': 1.739125778174697}\n"
     ]
    },
    {
     "name": "stderr",
     "output_type": "stream",
     "text": [
      "11it [00:00, 24.38it/s]\n"
     ]
    },
    {
     "name": "stdout",
     "output_type": "stream",
     "text": [
      "{'ner': 1.7391257781752754}\n",
      "{'ner': 2.310370615902526}\n",
      "{'ner': 2.3103706159025337}\n"
     ]
    },
    {
     "name": "stderr",
     "output_type": "stream",
     "text": [
      "\r",
      "0it [00:00, ?it/s]"
     ]
    },
    {
     "name": "stdout",
     "output_type": "stream",
     "text": [
      "{'ner': 1.8977902645254207e-05}\n"
     ]
    },
    {
     "name": "stderr",
     "output_type": "stream",
     "text": [
      "\r",
      "3it [00:00, 24.28it/s]"
     ]
    },
    {
     "name": "stdout",
     "output_type": "stream",
     "text": [
      "{'ner': 1.8978994687272124e-05}\n",
      "{'ner': 1.9091597871626166e-05}\n",
      "{'ner': 1.0208742799714838}\n",
      "{'ner': 1.0208742799943873}\n"
     ]
    },
    {
     "name": "stderr",
     "output_type": "stream",
     "text": [
      "\r",
      "6it [00:00, 23.32it/s]"
     ]
    },
    {
     "name": "stdout",
     "output_type": "stream",
     "text": [
      "{'ner': 1.020874280104477}\n",
      "{'ner': 1.1356871041305197}\n",
      "{'ner': 1.1850506800064806}\n"
     ]
    },
    {
     "name": "stderr",
     "output_type": "stream",
     "text": [
      "11it [00:00, 24.52it/s]\n"
     ]
    },
    {
     "name": "stdout",
     "output_type": "stream",
     "text": [
      "{'ner': 1.185050680054854}\n",
      "{'ner': 1.1850506801254752}\n",
      "{'ner': 1.1850506801254752}\n"
     ]
    },
    {
     "name": "stderr",
     "output_type": "stream",
     "text": [
      "\r",
      "0it [00:00, ?it/s]"
     ]
    },
    {
     "name": "stdout",
     "output_type": "stream",
     "text": [
      "{'ner': 8.609347700034656e-11}\n"
     ]
    },
    {
     "name": "stderr",
     "output_type": "stream",
     "text": [
      "\r",
      "3it [00:00, 22.53it/s]"
     ]
    },
    {
     "name": "stdout",
     "output_type": "stream",
     "text": [
      "{'ner': 1.9999989681684072}\n",
      "{'ner': 1.9999989681684753}\n",
      "{'ner': 1.9999989682310693}\n",
      "{'ner': 1.9999995730666098}\n"
     ]
    },
    {
     "name": "stderr",
     "output_type": "stream",
     "text": [
      "\r",
      "6it [00:00, 23.10it/s]"
     ]
    },
    {
     "name": "stdout",
     "output_type": "stream",
     "text": [
      "{'ner': 2.0051920535905503}\n",
      "{'ner': 2.0051920674169015}\n",
      "{'ner': 2.0051920674169255}\n"
     ]
    },
    {
     "name": "stderr",
     "output_type": "stream",
     "text": [
      "\r",
      "9it [00:00, 21.31it/s]"
     ]
    },
    {
     "name": "stdout",
     "output_type": "stream",
     "text": [
      "{'ner': 2.0051920719143426}\n",
      "{'ner': 2.005192076550258}\n"
     ]
    },
    {
     "name": "stderr",
     "output_type": "stream",
     "text": [
      "11it [00:00, 23.44it/s]\n"
     ]
    },
    {
     "name": "stdout",
     "output_type": "stream",
     "text": [
      "{'ner': 7.024181401331348}\n"
     ]
    },
    {
     "name": "stderr",
     "output_type": "stream",
     "text": [
      "2it [00:00, 18.76it/s]"
     ]
    },
    {
     "name": "stdout",
     "output_type": "stream",
     "text": [
      "{'ner': 3.2889729220794664e-08}\n",
      "{'ner': 4.109010058874713e-08}\n",
      "{'ner': 4.109010445432705e-08}\n"
     ]
    },
    {
     "name": "stderr",
     "output_type": "stream",
     "text": [
      "\r",
      "4it [00:00, 18.49it/s]"
     ]
    },
    {
     "name": "stdout",
     "output_type": "stream",
     "text": [
      "{'ner': 4.1098776046450285e-08}\n"
     ]
    },
    {
     "name": "stderr",
     "output_type": "stream",
     "text": [
      "\r",
      "7it [00:00, 20.56it/s]"
     ]
    },
    {
     "name": "stdout",
     "output_type": "stream",
     "text": [
      "{'ner': 0.38722289994838266}\n",
      "{'ner': 0.38726016509718814}\n",
      "{'ner': 0.3872601651362487}\n",
      "{'ner': 0.5096493327716312}\n",
      "{'ner': 0.5096493340220559}\n"
     ]
    },
    {
     "name": "stderr",
     "output_type": "stream",
     "text": [
      "11it [00:00, 21.60it/s]\n"
     ]
    },
    {
     "name": "stdout",
     "output_type": "stream",
     "text": [
      "{'ner': 0.5096493340238708}\n",
      "{'ner': 0.5096493340239744}\n"
     ]
    },
    {
     "name": "stderr",
     "output_type": "stream",
     "text": [
      "\r",
      "0it [00:00, ?it/s]"
     ]
    },
    {
     "name": "stdout",
     "output_type": "stream",
     "text": [
      "{'ner': 1.3342501420208078e-09}\n"
     ]
    },
    {
     "name": "stderr",
     "output_type": "stream",
     "text": [
      "\r",
      "2it [00:00, 14.92it/s]"
     ]
    },
    {
     "name": "stdout",
     "output_type": "stream",
     "text": [
      "{'ner': 0.000269687962848957}\n",
      "{'ner': 0.00026968796285017183}\n"
     ]
    },
    {
     "name": "stderr",
     "output_type": "stream",
     "text": [
      "\r",
      "5it [00:00, 20.63it/s]"
     ]
    },
    {
     "name": "stdout",
     "output_type": "stream",
     "text": [
      "{'ner': 0.00026968796286401764}\n",
      "{'ner': 0.0002696913262775764}\n",
      "{'ner': 0.00026969132627777044}\n",
      "{'ner': 0.0002696959887877176}\n"
     ]
    },
    {
     "name": "stderr",
     "output_type": "stream",
     "text": [
      "\r",
      "8it [00:00, 22.75it/s]"
     ]
    },
    {
     "name": "stdout",
     "output_type": "stream",
     "text": [
      "{'ner': 0.0002697023446305982}\n"
     ]
    },
    {
     "name": "stderr",
     "output_type": "stream",
     "text": [
      "11it [00:00, 23.16it/s]\n"
     ]
    },
    {
     "name": "stdout",
     "output_type": "stream",
     "text": [
      "{'ner': 0.0002697023446309659}\n",
      "{'ner': 3.8062304352640277}\n",
      "{'ner': 7.806203851592458}\n"
     ]
    },
    {
     "name": "stderr",
     "output_type": "stream",
     "text": [
      "\r",
      "0it [00:00, ?it/s]"
     ]
    },
    {
     "name": "stdout",
     "output_type": "stream",
     "text": [
      "{'ner': 7.22342270056637e-16}\n",
      "{'ner': 1.6842912855746167e-13}\n"
     ]
    },
    {
     "name": "stderr",
     "output_type": "stream",
     "text": [
      "\r",
      "3it [00:00, 27.18it/s]"
     ]
    },
    {
     "name": "stdout",
     "output_type": "stream",
     "text": [
      "{'ner': 2.2238367469516216e-07}\n"
     ]
    },
    {
     "name": "stderr",
     "output_type": "stream",
     "text": [
      "\r",
      "6it [00:00, 25.23it/s]"
     ]
    },
    {
     "name": "stdout",
     "output_type": "stream",
     "text": [
      "{'ner': 2.2238988600068118e-07}\n",
      "{'ner': 3.1203939068216094e-07}\n",
      "{'ner': 0.016053219775277783}\n",
      "{'ner': 0.9478105506716965}\n",
      "{'ner': 0.9478105506776567}\n"
     ]
    },
    {
     "name": "stderr",
     "output_type": "stream",
     "text": [
      "11it [00:00, 25.32it/s]\n"
     ]
    },
    {
     "name": "stdout",
     "output_type": "stream",
     "text": [
      "{'ner': 0.9478105506802108}\n",
      "{'ner': 0.9478105506802108}\n",
      "{'ner': 0.9612093284576083}\n"
     ]
    },
    {
     "name": "stderr",
     "output_type": "stream",
     "text": [
      "\r",
      "0it [00:00, ?it/s]"
     ]
    },
    {
     "name": "stdout",
     "output_type": "stream",
     "text": [
      "{'ner': 6.733696076407015e-08}\n",
      "{'ner': 6.733700530511508e-08}\n"
     ]
    },
    {
     "name": "stderr",
     "output_type": "stream",
     "text": [
      "\r",
      "3it [00:00, 21.54it/s]"
     ]
    },
    {
     "name": "stdout",
     "output_type": "stream",
     "text": [
      "{'ner': 1.2754025917788878e-07}\n",
      "{'ner': 7.767557571596674e-05}\n",
      "{'ner': 7.767754056852496e-05}\n"
     ]
    },
    {
     "name": "stderr",
     "output_type": "stream",
     "text": [
      "\r",
      "6it [00:00, 21.84it/s]"
     ]
    },
    {
     "name": "stdout",
     "output_type": "stream",
     "text": [
      "{'ner': 7.767760646841833e-05}\n",
      "{'ner': 7.767774831755389e-05}\n"
     ]
    },
    {
     "name": "stderr",
     "output_type": "stream",
     "text": [
      "\r",
      "9it [00:00, 22.08it/s]"
     ]
    },
    {
     "name": "stdout",
     "output_type": "stream",
     "text": [
      "{'ner': 7.768225142962006e-05}\n",
      "{'ner': 7.768254308277673e-05}\n",
      "{'ner': 7.768564962958259e-05}\n"
     ]
    },
    {
     "name": "stderr",
     "output_type": "stream",
     "text": [
      "11it [00:00, 21.62it/s]\n"
     ]
    },
    {
     "name": "stdout",
     "output_type": "stream",
     "text": [
      "{'ner': 0.00012457746688407503}\n"
     ]
    },
    {
     "name": "stderr",
     "output_type": "stream",
     "text": [
      "\r",
      "0it [00:00, ?it/s]"
     ]
    },
    {
     "name": "stdout",
     "output_type": "stream",
     "text": [
      "{'ner': 2.077282936213498e-11}\n"
     ]
    },
    {
     "name": "stderr",
     "output_type": "stream",
     "text": [
      "\r",
      "3it [00:00, 24.26it/s]"
     ]
    },
    {
     "name": "stdout",
     "output_type": "stream",
     "text": [
      "{'ner': 5.403631589125111e-08}\n",
      "{'ner': 5.4185037224017054e-08}\n",
      "{'ner': 5.828657080096589e-08}\n"
     ]
    },
    {
     "name": "stderr",
     "output_type": "stream",
     "text": [
      "\r",
      "6it [00:00, 24.83it/s]"
     ]
    },
    {
     "name": "stdout",
     "output_type": "stream",
     "text": [
      "{'ner': 5.5420371936770006e-05}\n",
      "{'ner': 5.5420377632724836e-05}\n",
      "{'ner': 0.09926423747863994}\n"
     ]
    },
    {
     "name": "stderr",
     "output_type": "stream",
     "text": [
      "\r",
      "9it [00:00, 24.33it/s]"
     ]
    },
    {
     "name": "stdout",
     "output_type": "stream",
     "text": [
      "{'ner': 0.09927258785906916}\n",
      "{'ner': 0.099272596621976}\n",
      "{'ner': 0.09927274423739989}\n"
     ]
    },
    {
     "name": "stderr",
     "output_type": "stream",
     "text": [
      "11it [00:00, 25.86it/s]\n"
     ]
    },
    {
     "name": "stdout",
     "output_type": "stream",
     "text": [
      "{'ner': 0.09961533533622294}\n"
     ]
    },
    {
     "name": "stderr",
     "output_type": "stream",
     "text": [
      "\r",
      "0it [00:00, ?it/s]"
     ]
    },
    {
     "name": "stdout",
     "output_type": "stream",
     "text": [
      "{'ner': 2.4119925654135693e-07}\n",
      "{'ner': 0.6102033285774163}\n"
     ]
    },
    {
     "name": "stderr",
     "output_type": "stream",
     "text": [
      "\r",
      "3it [00:00, 22.82it/s]"
     ]
    },
    {
     "name": "stdout",
     "output_type": "stream",
     "text": [
      "{'ner': 0.6102034918874208}\n",
      "{'ner': 0.6102034925096899}\n",
      "{'ner': 0.610203492509707}\n"
     ]
    },
    {
     "name": "stderr",
     "output_type": "stream",
     "text": [
      "\r",
      "6it [00:00, 22.64it/s]"
     ]
    },
    {
     "name": "stdout",
     "output_type": "stream",
     "text": [
      "{'ner': 0.6102034972110163}\n",
      "{'ner': 0.6102034972110179}\n"
     ]
    },
    {
     "name": "stderr",
     "output_type": "stream",
     "text": [
      "\r",
      "9it [00:00, 23.26it/s]"
     ]
    },
    {
     "name": "stdout",
     "output_type": "stream",
     "text": [
      "{'ner': 0.6102034972289648}\n",
      "{'ner': 0.6146881674199044}\n",
      "{'ner': 0.6146881816374311}\n"
     ]
    },
    {
     "name": "stderr",
     "output_type": "stream",
     "text": [
      "11it [00:00, 24.67it/s]\n"
     ]
    },
    {
     "name": "stdout",
     "output_type": "stream",
     "text": [
      "{'ner': 0.6148758251937936}\n"
     ]
    },
    {
     "name": "stderr",
     "output_type": "stream",
     "text": [
      "\r",
      "0it [00:00, ?it/s]"
     ]
    },
    {
     "name": "stdout",
     "output_type": "stream",
     "text": [
      "{'ner': 2.4586160431678828e-12}\n",
      "{'ner': 3.0495179852682087e-12}\n"
     ]
    },
    {
     "name": "stderr",
     "output_type": "stream",
     "text": [
      "\r",
      "3it [00:00, 26.82it/s]"
     ]
    },
    {
     "name": "stdout",
     "output_type": "stream",
     "text": [
      "{'ner': 3.1044131109224105e-12}\n",
      "{'ner': 1.9903721809753405}\n"
     ]
    },
    {
     "name": "stderr",
     "output_type": "stream",
     "text": [
      "\r",
      "6it [00:00, 25.67it/s]"
     ]
    },
    {
     "name": "stdout",
     "output_type": "stream",
     "text": [
      "{'ner': 1.9903721819879596}\n",
      "{'ner': 1.990372181987963}\n",
      "{'ner': 1.9903721819879667}\n"
     ]
    },
    {
     "name": "stderr",
     "output_type": "stream",
     "text": [
      "11it [00:00, 26.03it/s]\n"
     ]
    },
    {
     "name": "stdout",
     "output_type": "stream",
     "text": [
      "{'ner': 1.9903721819883755}\n",
      "{'ner': 1.9903721820037243}\n",
      "{'ner': 1.9903721820041493}\n",
      "{'ner': 1.9903721820101552}\n"
     ]
    },
    {
     "name": "stderr",
     "output_type": "stream",
     "text": [
      "\r",
      "0it [00:00, ?it/s]"
     ]
    },
    {
     "name": "stdout",
     "output_type": "stream",
     "text": [
      "{'ner': 4.8385452859077516e-11}\n",
      "{'ner': 7.702977840918127e-10}\n"
     ]
    },
    {
     "name": "stderr",
     "output_type": "stream",
     "text": [
      "6it [00:00, 25.89it/s]"
     ]
    },
    {
     "name": "stdout",
     "output_type": "stream",
     "text": [
      "{'ner': 1.283703378661098}\n",
      "{'ner': 1.2837033786675764}\n",
      "{'ner': 1.283703378667594}\n",
      "{'ner': 1.2837033786996164}\n",
      "{'ner': 1.2837033787460224}\n",
      "{'ner': 1.2837033789436232}\n"
     ]
    },
    {
     "name": "stderr",
     "output_type": "stream",
     "text": [
      "11it [00:00, 25.76it/s]\n"
     ]
    },
    {
     "name": "stdout",
     "output_type": "stream",
     "text": [
      "{'ner': 2.9488356041888006}\n",
      "{'ner': 2.948835604192391}\n",
      "{'ner': 2.948835604193566}\n"
     ]
    },
    {
     "name": "stderr",
     "output_type": "stream",
     "text": [
      "\r",
      "0it [00:00, ?it/s]"
     ]
    },
    {
     "name": "stdout",
     "output_type": "stream",
     "text": [
      "{'ner': 0.5170295292706384}\n",
      "{'ner': 0.5170295292706384}\n"
     ]
    },
    {
     "name": "stderr",
     "output_type": "stream",
     "text": [
      "\r",
      "3it [00:00, 27.16it/s]"
     ]
    },
    {
     "name": "stdout",
     "output_type": "stream",
     "text": [
      "{'ner': 0.517029529270663}\n"
     ]
    },
    {
     "name": "stderr",
     "output_type": "stream",
     "text": [
      "\r",
      "6it [00:00, 28.55it/s]"
     ]
    },
    {
     "name": "stdout",
     "output_type": "stream",
     "text": [
      "{'ner': 0.5170295292706634}\n",
      "{'ner': 0.5170295292706655}\n",
      "{'ner': 0.5170295292707815}\n",
      "{'ner': 0.5170295292708618}\n",
      "{'ner': 0.5170295292708795}\n"
     ]
    },
    {
     "name": "stderr",
     "output_type": "stream",
     "text": [
      "11it [00:00, 23.47it/s]\n"
     ]
    },
    {
     "name": "stdout",
     "output_type": "stream",
     "text": [
      "{'ner': 0.5170297542735519}\n",
      "{'ner': 1.6721788564862923}\n",
      "{'ner': 1.6721788564863245}\n"
     ]
    },
    {
     "name": "stderr",
     "output_type": "stream",
     "text": [
      "\r",
      "0it [00:00, ?it/s]"
     ]
    },
    {
     "name": "stdout",
     "output_type": "stream",
     "text": [
      "{'ner': 1.1807351256780812e-06}\n"
     ]
    },
    {
     "name": "stderr",
     "output_type": "stream",
     "text": [
      "\r",
      "2it [00:00, 18.34it/s]"
     ]
    },
    {
     "name": "stdout",
     "output_type": "stream",
     "text": [
      "{'ner': 1.2109553556760757e-06}\n"
     ]
    },
    {
     "name": "stderr",
     "output_type": "stream",
     "text": [
      "\r",
      "4it [00:00, 18.83it/s]"
     ]
    },
    {
     "name": "stdout",
     "output_type": "stream",
     "text": [
      "{'ner': 1.2226651320956701e-06}\n",
      "{'ner': 1.2226652358340616e-06}\n",
      "{'ner': 1.2230898268989524e-06}\n",
      "{'ner': 1.2230898311113038e-06}\n"
     ]
    },
    {
     "name": "stderr",
     "output_type": "stream",
     "text": [
      "\r",
      "7it [00:00, 19.67it/s]"
     ]
    },
    {
     "name": "stdout",
     "output_type": "stream",
     "text": [
      "{'ner': 1.22308984190765e-06}\n",
      "{'ner': 1.223089856546103e-06}\n",
      "{'ner': 1.2432498538247913e-06}\n"
     ]
    },
    {
     "name": "stderr",
     "output_type": "stream",
     "text": [
      "\r",
      "10it [00:00, 19.19it/s]"
     ]
    },
    {
     "name": "stdout",
     "output_type": "stream",
     "text": [
      "{'ner': 1.2432498791118585e-06}\n"
     ]
    },
    {
     "name": "stderr",
     "output_type": "stream",
     "text": [
      "11it [00:00, 19.19it/s]\n"
     ]
    },
    {
     "name": "stdout",
     "output_type": "stream",
     "text": [
      "{'ner': 1.2477253973087855e-06}\n"
     ]
    },
    {
     "name": "stderr",
     "output_type": "stream",
     "text": [
      "3it [00:00, 23.11it/s]"
     ]
    },
    {
     "name": "stdout",
     "output_type": "stream",
     "text": [
      "{'ner': 7.742127047459856e-16}\n",
      "{'ner': 9.22679998317443e-11}\n",
      "{'ner': 9.227646165991533e-11}\n",
      "{'ner': 9.227647633629634e-11}\n",
      "{'ner': 0.0001712770730801756}\n"
     ]
    },
    {
     "name": "stderr",
     "output_type": "stream",
     "text": [
      "\r",
      "6it [00:00, 22.56it/s]"
     ]
    },
    {
     "name": "stdout",
     "output_type": "stream",
     "text": [
      "{'ner': 0.00017127707321904756}\n",
      "{'ner': 0.00017127707321927145}\n",
      "{'ner': 0.00017127707322471845}\n"
     ]
    },
    {
     "name": "stderr",
     "output_type": "stream",
     "text": [
      "\r",
      "9it [00:00, 22.52it/s]"
     ]
    },
    {
     "name": "stdout",
     "output_type": "stream",
     "text": [
      "{'ner': 0.00017127723129185953}\n"
     ]
    },
    {
     "name": "stderr",
     "output_type": "stream",
     "text": [
      "11it [00:00, 24.37it/s]\n"
     ]
    },
    {
     "name": "stdout",
     "output_type": "stream",
     "text": [
      "{'ner': 0.39007148475082454}\n",
      "{'ner': 0.3900714847508246}\n"
     ]
    },
    {
     "name": "stderr",
     "output_type": "stream",
     "text": [
      "3it [00:00, 22.61it/s]"
     ]
    },
    {
     "name": "stdout",
     "output_type": "stream",
     "text": [
      "{'ner': 5.876174239724548e-10}\n",
      "{'ner': 7.282296139408624e-06}\n",
      "{'ner': 7.2824444866307504e-06}\n",
      "{'ner': 7.282444486721439e-06}\n",
      "{'ner': 7.96025757424526e-06}\n"
     ]
    },
    {
     "name": "stderr",
     "output_type": "stream",
     "text": [
      "9it [00:00, 25.66it/s]"
     ]
    },
    {
     "name": "stdout",
     "output_type": "stream",
     "text": [
      "{'ner': 7.960257575102079e-06}\n",
      "{'ner': 7.960257577991183e-06}\n",
      "{'ner': 7.960285532957474e-06}\n",
      "{'ner': 7.960289338641926e-06}\n"
     ]
    },
    {
     "name": "stderr",
     "output_type": "stream",
     "text": [
      "11it [00:00, 26.45it/s]\n"
     ]
    },
    {
     "name": "stdout",
     "output_type": "stream",
     "text": [
      "{'ner': 7.994205534029354e-06}\n",
      "{'ner': 7.995915873037979e-06}\n"
     ]
    },
    {
     "name": "stderr",
     "output_type": "stream",
     "text": [
      "3it [00:00, 27.13it/s]"
     ]
    },
    {
     "name": "stdout",
     "output_type": "stream",
     "text": [
      "{'ner': 9.129081646602039e-09}\n",
      "{'ner': 5.142427713007715e-07}\n",
      "{'ner': 5.142428990632423e-07}\n",
      "{'ner': 5.142429657318105e-07}\n"
     ]
    },
    {
     "name": "stderr",
     "output_type": "stream",
     "text": [
      "\r",
      "6it [00:00, 26.08it/s]"
     ]
    },
    {
     "name": "stdout",
     "output_type": "stream",
     "text": [
      "{'ner': 5.142429676350771e-07}\n",
      "{'ner': 5.142453737469972e-07}\n"
     ]
    },
    {
     "name": "stderr",
     "output_type": "stream",
     "text": [
      "\r",
      "9it [00:00, 24.87it/s]"
     ]
    },
    {
     "name": "stdout",
     "output_type": "stream",
     "text": [
      "{'ner': 1.1026350715708554e-06}\n",
      "{'ner': 1.1026763711999012e-06}\n",
      "{'ner': 1.1027481992014677e-06}\n"
     ]
    },
    {
     "name": "stderr",
     "output_type": "stream",
     "text": [
      "11it [00:00, 25.74it/s]\n"
     ]
    },
    {
     "name": "stdout",
     "output_type": "stream",
     "text": [
      "{'ner': 1.1027607983044714e-06}\n",
      "{'ner': 1.1027608215266352e-06}\n"
     ]
    },
    {
     "name": "stderr",
     "output_type": "stream",
     "text": [
      "2it [00:00, 19.10it/s]"
     ]
    },
    {
     "name": "stdout",
     "output_type": "stream",
     "text": [
      "{'ner': 4.5111169120796245e-13}\n",
      "{'ner': 4.578780191375754e-13}\n",
      "{'ner': 4.711295961791563e-13}\n",
      "{'ner': 3.9783015355802714e-07}\n"
     ]
    },
    {
     "name": "stderr",
     "output_type": "stream",
     "text": [
      "\r",
      "5it [00:00, 23.74it/s]"
     ]
    },
    {
     "name": "stdout",
     "output_type": "stream",
     "text": [
      "{'ner': 3.9783038124010866e-07}\n",
      "{'ner': 3.978303816677978e-07}\n"
     ]
    },
    {
     "name": "stderr",
     "output_type": "stream",
     "text": [
      "\r",
      "8it [00:00, 24.27it/s]"
     ]
    },
    {
     "name": "stdout",
     "output_type": "stream",
     "text": [
      "{'ner': 3.979464282707114e-07}\n",
      "{'ner': 3.979465007481486e-07}\n",
      "{'ner': 4.2796210319612347e-07}\n",
      "{'ner': 4.279621130738575e-07}\n"
     ]
    },
    {
     "name": "stderr",
     "output_type": "stream",
     "text": [
      "11it [00:00, 26.16it/s]\n"
     ]
    },
    {
     "name": "stdout",
     "output_type": "stream",
     "text": [
      "{'ner': 4.2796211310290954e-07}\n"
     ]
    },
    {
     "name": "stderr",
     "output_type": "stream",
     "text": [
      "\r",
      "0it [00:00, ?it/s]"
     ]
    },
    {
     "name": "stdout",
     "output_type": "stream",
     "text": [
      "{'ner': 5.0556249457461526e-15}\n"
     ]
    },
    {
     "name": "stderr",
     "output_type": "stream",
     "text": [
      "\r",
      "3it [00:00, 22.46it/s]"
     ]
    },
    {
     "name": "stdout",
     "output_type": "stream",
     "text": [
      "{'ner': 6.812517945957189e-07}\n",
      "{'ner': 6.812555342217909e-07}\n",
      "{'ner': 6.812555738737829e-07}\n",
      "{'ner': 6.812555738887611e-07}\n"
     ]
    },
    {
     "name": "stderr",
     "output_type": "stream",
     "text": [
      "\r",
      "6it [00:00, 23.29it/s]"
     ]
    },
    {
     "name": "stdout",
     "output_type": "stream",
     "text": [
      "{'ner': 1.5198163646208107}\n"
     ]
    },
    {
     "name": "stderr",
     "output_type": "stream",
     "text": [
      "\r",
      "9it [00:00, 24.73it/s]"
     ]
    },
    {
     "name": "stdout",
     "output_type": "stream",
     "text": [
      "{'ner': 1.519816366612926}\n",
      "{'ner': 1.526149048127249}\n",
      "{'ner': 1.5261490481318531}\n"
     ]
    },
    {
     "name": "stderr",
     "output_type": "stream",
     "text": [
      "11it [00:00, 24.03it/s]\n"
     ]
    },
    {
     "name": "stdout",
     "output_type": "stream",
     "text": [
      "{'ner': 1.526149048131854}\n",
      "{'ner': 1.5261490481344837}\n"
     ]
    },
    {
     "name": "stderr",
     "output_type": "stream",
     "text": [
      "3it [00:00, 25.22it/s]"
     ]
    },
    {
     "name": "stdout",
     "output_type": "stream",
     "text": [
      "{'ner': 4.11555897944002e-18}\n",
      "{'ner': 2.2178927877618104e-16}\n",
      "{'ner': 4.4371651304819154e-13}\n",
      "{'ner': 1.1143550454184375e-11}\n"
     ]
    },
    {
     "name": "stderr",
     "output_type": "stream",
     "text": [
      "\r",
      "6it [00:00, 25.07it/s]"
     ]
    },
    {
     "name": "stdout",
     "output_type": "stream",
     "text": [
      "{'ner': 1.2182554347401698e-11}\n",
      "{'ner': 1.2184073727087215e-11}\n"
     ]
    },
    {
     "name": "stderr",
     "output_type": "stream",
     "text": [
      "\r",
      "9it [00:00, 25.92it/s]"
     ]
    },
    {
     "name": "stdout",
     "output_type": "stream",
     "text": [
      "{'ner': 1.2184076646541603e-11}\n",
      "{'ner': 1.0365374530100224e-10}\n",
      "{'ner': 1.4482940173878066e-10}\n",
      "{'ner': 9.503636465801981e-09}\n"
     ]
    },
    {
     "name": "stderr",
     "output_type": "stream",
     "text": [
      "\r",
      "11it [00:00, 26.50it/s]"
     ]
    },
    {
     "name": "stdout",
     "output_type": "stream",
     "text": [
      "{'ner': 9.503636465806384e-09}\n"
     ]
    },
    {
     "name": "stderr",
     "output_type": "stream",
     "text": [
      "\n"
     ]
    }
   ],
   "source": [
    "for _, annotations in TRAIN_DATA:\n",
    "    for ent in annotations.get('entities'):\n",
    "        ner.add_label(ent[2])\n",
    "\n",
    "other_pipes = [pipe for pipe in nlp.pipe_names if pipe != 'ner']\n",
    "with nlp.disable_pipes(*other_pipes):  # only train NER\n",
    "    optimizer = nlp.begin_training()\n",
    "    for itn in range(n_iter):\n",
    "        random.shuffle(TRAIN_DATA)\n",
    "        losses = {}\n",
    "        for batch in tqdm(spacy.util.minibatch(TRAIN_DATA, size=2)):\n",
    "            for text, annotations in batch:\n",
    "                # create Example\n",
    "                doc = nlp.make_doc(text)\n",
    "                example = Example.from_dict(doc, annotations)\n",
    "                # Update the model\n",
    "                nlp.update([example],\n",
    "                           drop=0.5,\n",
    "                           sgd=optimizer,\n",
    "                           losses=losses)\n",
    "                \n",
    "            print(losses)\n",
    "            \n",
    "#         for text, annotations in tqdm(TRAIN_DATA):\n",
    "#             nlp.update(\n",
    "#                 [text],  \n",
    "#                 [annotations],  \n",
    "#                 drop=0.5,  \n",
    "#                 sgd=optimizer,\n",
    "#                 losses=losses)\n",
    "#         print(losses)"
   ]
  },
  {
   "cell_type": "code",
   "execution_count": 27,
   "id": "5d1d3706",
   "metadata": {},
   "outputs": [
    {
     "name": "stdout",
     "output_type": "stream",
     "text": [
      "Saved model to ner\n"
     ]
    }
   ],
   "source": [
    "if output_dir is not None:\n",
    "    output_dir = Path(output_dir)\n",
    "    if not output_dir.exists():\n",
    "        output_dir.mkdir()\n",
    "    nlp.to_disk(output_dir)\n",
    "    print(\"Saved model to\", output_dir)"
   ]
  },
  {
   "cell_type": "code",
   "execution_count": 18,
   "id": "3889686c",
   "metadata": {},
   "outputs": [],
   "source": [
    "TEST_DATA = [\n",
    "    \"Proficiency in one or more of the following developer skills: Java, C/C++, PHP, Python, Ruby, Unix, MySQL, Clojure, Scala, Java Script, CSS, HTML5\",\n",
    "    \"Experience in sophisticated methodologies such as Data Modeling, Validation, Processing, Hadoop, MapReduce, Mongo, Pig\",\n",
    "    \"Experience with web frameworks such as AngularJS, NodeJS, SproutCore\",\n",
    "    \"Programming experience with at least one modern language such as Java, C++, or C# including object-oriented design.\",\n",
    "    \"Experience with distributed, multi-tiered systems, algorithms, and relational databases.\",\n",
    "    \"You strive to build rich and dynamic web applications with front-end frameworks such as React, Redux, Ember, or Angular\",\n",
    "    \"You are familiar with programming languages and web frameworks like Ruby (Rails, EventMachine), Python (Django, Flask), or Node.js (Express)\",\n",
    "    \"Entry-level experience in a language such as C, C#, Python, Java, or Rust\",\n",
    "    \"Understanding of basic computer networking concepts (e.g., TCP/IP, UDP)\",\n",
    "    \"Basic understanding of agile software development frameworks (e.g., SAFe, Scrum, Kanban)\",\n",
    "    \"Entry-level experience with Linux/UNIX Operating Systems\",\n",
    "    \"Available on a revolving basis for Spring, Summer, and Fall. Currently seeking candidates for Spring and Summer 2023, 12-week Software Engineer Internships! Interviews will begin this Fall. Candidates are encouraged to apply early as these positions fill up well in advance. Positions are available in Austin-TX, Arlington-VA, and Raleigh-NC, only. What We're Looking For\",\n",
    "    \"Currently enrolled in an Associates, Bachelors, Masters, or PhD in Computer Science, Computer Engineering, Data Science, Electrical Engineering, or majors relating to these fields are considered with an expected graduation date between 10/2023 - 9/2026.• Programming experience with at least one modern language such as Java, C++, or C# including object-oriented design.PREFERRED QUALIFICATIONS• Previous technical internship(s), if applicable.• Experience with distributed, multi-tiered systems, algorithms, and relational databases.• Experience in optimization mathematics such as linear programming and nonlinear optimization.\",\n",
    "    \"Basic understanding of object-oriented programming (OOP) fundamentals and design patterns.\",\n",
    "    \"Experience with programming languages such as C# / .Net / Python.\",\n",
    "    \"Completion of at least one year of an undergraduate or graduate degree program in Math, Statistics, or equivalent field of study.\",\n",
    "    \"Familiarity with Excel analysis tools (e.g., pivot tables, VBA/macros).\",\n",
    "    \"Experience with programming languages such as SQL, Python, or C#.\",\n",
    "    \"Analytical aptitude and a passion for problem-solving.\"\n",
    "]"
   ]
  },
  {
   "cell_type": "code",
   "execution_count": 19,
   "id": "9553c8b3",
   "metadata": {
    "scrolled": true
   },
   "outputs": [
    {
     "name": "stdout",
     "output_type": "stream",
     "text": [
      "Entities [('Java', 'TECH'), ('C', 'TECH'), ('C++', 'TECH'), ('PHP', 'TECH'), ('Python', 'TECH'), ('Ruby', 'TECH'), ('Unix', 'TECH'), ('MySQL', 'TECH'), ('Clojure', 'TECH'), ('Scala', 'TECH'), ('Java Script', 'TECH'), ('CSS', 'TECH'), ('HTML5', 'TECH')]\n",
      "Entities [('Data Modeling', 'TECH'), ('Validation', 'TECH'), ('Processing', 'TECH'), ('Hadoop', 'TECH'), ('MapReduce', 'TECH'), ('Mongo', 'TECH'), ('Pig', 'TECH')]\n",
      "Entities [('AngularJS', 'TECH'), ('NodeJS', 'TECH'), ('SproutCore', 'TECH')]\n",
      "Entities [('Java', 'TECH'), ('C++', 'TECH'), ('C#', 'TECH'), ('object-oriented', 'TECH')]\n",
      "Entities [('distributed', 'TECH'), ('multi-tiered', 'TECH'), ('systems', 'TECH'), ('algorithms', 'TECH'), ('relational databases', 'TECH')]\n",
      "Entities [('React', 'TECH'), ('Redux', 'TECH'), ('Ember', 'TECH'), ('Angular', 'TECH')]\n",
      "Entities [('Ruby', 'TECH'), ('Rails', 'TECH'), ('EventMachine', 'TECH'), ('Python', 'TECH'), ('Django', 'TECH'), ('Flask', 'TECH'), ('Node.js', 'TECH'), ('Express', 'TECH')]\n",
      "Entities [('C', 'TECH'), ('C#', 'TECH'), ('Python', 'TECH'), ('Java', 'TECH'), ('Rust', 'TECH')]\n",
      "Entities [('networking concepts', 'TECH'), ('TCP', 'TECH'), ('UDP', 'TECH')]\n",
      "Entities [('SAFe', 'TECH'), ('Scrum', 'TECH'), ('Kanban', 'TECH')]\n",
      "Entities [('Linux', 'TECH'), ('Operating Systems', 'TECH')]\n",
      "Entities [('Spring', 'TECH'), ('Summer', 'TECH'), ('Fall', 'TECH'), ('Summer 2023', 'TECH'), ('12-week Software Engineer', 'TECH'), ('Candidates', 'TECH'), ('Austin-TX', 'TECH'), ('Arlington-VA', 'TECH'), ('Raleigh-NC', 'TECH'), ('only', 'TECH')]\n",
      "Entities [('Associates', 'TECH'), ('Bachelors', 'TECH'), ('Computer Science', 'TECH'), ('Computer Engineering', 'TECH'), ('Data Science', 'TECH'), ('Electrical Engineering', 'TECH'), ('Java', 'TECH'), ('C++', 'TECH'), ('C#', 'TECH'), ('object-oriented', 'TECH'), ('distributed', 'TECH'), ('multi-tiered', 'TECH'), ('systems', 'TECH'), ('algorithms', 'TECH'), ('relational databases.• Experience', 'TECH'), ('mathematics', 'TECH')]\n",
      "Entities [('object-oriented', 'TECH'), ('OOP', 'TECH'), ('fundamentals', 'TECH')]\n",
      "Entities [('C#', 'TECH'), ('.Net', 'TECH'), ('Python', 'TECH')]\n",
      "Entities [('Completion', 'TECH'), ('Math', 'TECH'), ('Statistics', 'TECH')]\n",
      "Entities [('VBA', 'TECH'), ('macros', 'TECH')]\n",
      "Entities [('SQL', 'TECH'), ('Python', 'TECH'), ('C#', 'TECH')]\n",
      "Entities []\n"
     ]
    }
   ],
   "source": [
    "for text in TEST_DATA:\n",
    "    doc = nlp(text)\n",
    "    print('Entities', [(ent.text, ent.label_) for ent in doc.ents])"
   ]
  },
  {
   "cell_type": "code",
   "execution_count": 50,
   "id": "a021c111",
   "metadata": {},
   "outputs": [
    {
     "data": {
      "text/plain": [
       "'<!DOCTYPE html>\\n<html  lang=\"en-us\">\\n\\n<head>\\n    <meta http-equiv=\"Content-Type\" content=\"text/html; charset=utf-8\">\\n    <meta http-equiv=\"X-UA-Compatible\" content=\"IE=edge\" />\\n\\n    <title>Tesla Careers</title>\\n\\n    <meta name=\"keywords\" content=\"Careers, HR\" />\\n    <meta name=\"description\" content=\"Apply for the Autopilot - Software Engineer Internship (Fall 2022) position in Palo Alto, California.\" />\\n\\n    <meta name=\"twitter:card\" content=\"summary_large_image\" />\\n    <meta name=\"twitter:description\" content=\"Apply for the Autopilot - Software Engineer Internship (Fall 2022) position in Palo Alto, California.\" />\\n    <meta name=\"twitter:title\" content=\"Autopilot - Software Engineer Internship (Fall 2022) | Tesla Careers\" />\\n    <meta name=\"twitter:site\" content=\"@tesla\" />\\n    <meta name=\"twitter:creator\" content=\"@tesla\" />\\n    <meta name=\"twitter:url\" content=\"https://www.tesla.com/careers/search/job/autopilot-software-engineer-internship-fall-2022-113054\" />\\n    <meta name=\"twitter:image:alt\" content=\"Tesla Careers\" />\\n    <meta name=\"twitter:image\" content=\"https://www.tesla.com/ns_videos/homepage-social.jpg\" />\\n\\n    <link rel=\"canonical\" href=\"https://www.tesla.com/careers/search/job/autopilot-software-engineer-internship-fall-2022-113054\" />\\n\\n    <meta property=\"og:site_name\" content=\"Tesla Careers\" />\\n    <meta property=\"og:type\" content=\"website\" />\\n    <meta property=\"og:url\" content=\"https://www.tesla.com/careers/search/job/autopilot-software-engineer-internship-fall-2022-113054\" />\\n    <meta property=\"og:title\" content=\"Autopilot - Software Engineer Internship (Fall 2022) | Tesla Careers\" />\\n    <meta property=\"og:description\" content=\"Apply for the Autopilot - Software Engineer Internship (Fall 2022) position in Palo Alto, California.\" />\\n    <meta property=\"og:image\" content=\"https://www.tesla.com/ns_videos/homepage-social.jpg\" />\\n    <meta property=\"og:image:url\" content=\"https://www.tesla.com/ns_videos/homepage-social.jpg\" />\\n    <meta property=\"og:image:secure_url\" content=\"https://www.tesla.com/ns_videos/homepage-social.jpg\" />\\n    <meta property=\"og:image:alt\" content=\"Tesla Careers\" />\\n\\n    <meta id=\"viewport-tag\" name=\"viewport\" content=\"width=device-width, initial-scale=1, user-scalable=0, minimum-scale=1.0, maximum-scale=1.0\" />\\n\\n    <link rel=\"apple-touch-icon\" sizes=\"57x57\" href=\"https://www.tesla.com/themes/custom/tesla_frontend/assets/favicons/apple-touch-icon-57x57.png\">\\n    <link rel=\"apple-touch-icon\" sizes=\"60x60\" href=\"https://www.tesla.com/themes/custom/tesla_frontend/assets/favicons/apple-touch-icon-60x60.png\">\\n    <link rel=\"apple-touch-icon\" sizes=\"72x72\" href=\"https://www.tesla.com/themes/custom/tesla_frontend/assets/favicons/apple-touch-icon-72x72.png\">\\n    <link rel=\"apple-touch-icon\" sizes=\"76x76\" href=\"https://www.tesla.com/themes/custom/tesla_frontend/assets/favicons/apple-touch-icon-76x76.png\">\\n    <link rel=\"apple-touch-icon\" sizes=\"114x114\" href=\"https://www.tesla.com/themes/custom/tesla_frontend/assets/favicons/apple-touch-icon-114x114.png\">\\n    <link rel=\"apple-touch-icon\" sizes=\"120x120\" href=\"https://www.tesla.com/themes/custom/tesla_frontend/assets/favicons/apple-touch-icon-120x120.png\">\\n    <link rel=\"apple-touch-icon\" sizes=\"144x144\" href=\"https://www.tesla.com/themes/custom/tesla_frontend/assets/favicons/apple-touch-icon-144x144.png\">\\n    <link rel=\"apple-touch-icon\" sizes=\"152x152\" href=\"https://www.tesla.com/themes/custom/tesla_frontend/assets/favicons/apple-touch-icon-152x152.png\">\\n    <link rel=\"icon\" type=\"image/png\" sizes=\"196x196\" href=\"https://www.tesla.com/themes/custom/tesla_frontend/assets/favicons/favicon-196x196.png\">\\n    <link rel=\"icon\" type=\"image/png\" sizes=\"160x160\" href=\"https://www.tesla.com/themes/custom/tesla_frontend/assets/favicons/favicon-160x160.png\">\\n    <link rel=\"icon\" type=\"image/png\" sizes=\"96x96\" href=\"https://www.tesla.com/themes/custom/tesla_frontend/assets/favicons/favicon-96x96.png\">\\n    <link rel=\"icon\" type=\"image/png\" sizes=\"16x16\" href=\"https://www.tesla.com/themes/custom/tesla_frontend/assets/favicons/favicon-16x16.png\">\\n    <link rel=\"icon\" type=\"image/png\" sizes=\"32x32\" href=\"https://www.tesla.com/themes/custom/tesla_frontend/assets/favicons/favicon-32x32.png\">\\n    <link rel=\"icon\" type=\"image/x-icon\" href=\"https://www.tesla.com/themes/custom/tesla_frontend/assets/favicons/favicon.ico\">\\n\\n    <link rel=\"stylesheet\" media=\"all\" href=\"https://cdn-design.tesla.com/design-system/5.x/index.css\" />\\n\\n    <link rel=\"stylesheet\" media=\"all\" href=\"https://www.tesla.com/modules/custom/tesla_mega_menu/dist/1.1.0/header.bundle.css\" />\\n\\n    \\n    \\n                        <link rel=\"stylesheet\" media=\"all\" href=\"/cua/assets/apps/careers-ui/static/css/main.d39d9166.css\" />\\n            \\n        <style type=\"text/css\">\\n        .careers-page {\\n    display: flex;\\n    flex-direction: column;\\n}\\n\\n.careers-page .tds-header-semitransparent .tds-header-main {\\n    background-color: rgba(34, 34, 34, .75);\\n}\\n\\n@media (max-width: 640px) {\\n    .careers-page .tds-header-semitransparent .tds-header-main {\\n        background-color: black;\\n    }\\n}\\n\\n.careers-page .legacy-hero {\\n    margin-bottom: 2rem;\\n}\\n\\n.careers-page > #app {\\n    flex-grow: 1;\\n}\\n\\n.careers-page .careers-width-constraint {\\n    width: 100%;\\n    max-width: 1060px;\\n    padding-left: 20px;\\n    padding-right: 20px;\\n    margin: 0 auto;\\n}\\n\\n.careers-page .legacy-careers-hero {\\n    width: 100%;\\n    float: left;\\n}\\n\\n.careers-page .tds-table-head .tds-table-row th {\\n    vertical-align: middle;\\n}\\n\\n.careers-page .legacy-hero--mobile {\\n    text-align: center;\\n}\\n\\n.tds-list-item_title > a {\\n    font-family: inherit;\\n}\\n\\n@media (max-width: 640px) {\\n    .careers-page .legacy-hero {\\n        display: none;\\n    }\\n}\\n@media (min-width: 641px) {\\n    .careers-page .legacy-hero--mobile {\\n        display: none;\\n    }\\n}\\n\\n/* Overrides to make TDS4 SHL work with TDS5. */\\n.careers-page .tds-card.tds-locale-selector-trigger {\\n    padding: 0;\\n}\\n\\n.careers-page .tds-card.tds-locale-selector-trigger .tds-icon-globe {\\n    margin-inline-start: calc(var(--tds-size--1x) - 2px);\\n}\\n\\n.careers-page button.tds-site-nav-item {\\n    text-align: start;\\n}\\n\\n.careers-page .tds-site-nav-items--vertical > li:not(:last-child) {\\n    margin-block-end: 0;\\n}\\n\\n.careers-page .tds-modal-actions {\\n    z-index: 2;\\n}\\n\\n/** Prevent excessive flicker on SHL. **/\\n.careers-page.tds--indicate-focus .tds-site-header.tds--fade-in {\\n    -webkit-animation: var(--tds--fade-in) !important;\\n    animation: var(--tds--fade-in) !important;\\n}\\n\\n/* Fix SHL support for TDSv5 */\\n@media (min-width: 600px) {\\n    .careers-page .tds-modal--sheet-right:not([open]),\\n    [dir=\"rtl\"] .careers-page .tds-modal--sheet-left:not([open]) {\\n        transform: translateX(50%) translateY(0);\\n        bottom: 0;\\n    }\\n\\n    .careers-page .tds-modal--sheet-left:not([open]),\\n    [dir=\"rtl\"] .careers-page .tds-modal--sheet-right:not([open]) {\\n        transform: translateX(-50%) translateY(0);\\n    }\\n\\n    .careers-page .tds-modal--sheet-left[open],\\n    .careers-page .tds-modal--sheet-right[open] {\\n        transform: translateX(0) translateY(0);\\n        bottom: 0;\\n    }\\n}    </style>\\n    </head>\\n\\n<body class=\"careers-page\">\\n<header id=\"tds-site-header-wrapper\" class=\"tds-site-header-wrapper\"></header>\\n\\n    <section class=\"legacy-hero tds-scrim--black\">\\n        <img src=\"https://www.tesla.com/tesla_theme/assets/img/careers/search-hero.jpg\" class=\"legacy-careers-hero\" alt=\"Tesla Careers Hero\" />\\n    </section>\\n    <section class=\"legacy-hero--mobile\">\\n        <h1 class=\"tds-text--h2\">Tesla Careers</h1>\\n    </section>\\n\\n<script type=\"text/javascript\">\\n    window.tesla = {\"App\":{\"app\":\"careersV2-app\",\"base_url\":\"https://www.tesla.com\",\"host\":\"http://cua-burst-app-prod.tesla.com\",\"language_direction\":\"LTR\",\"locale\":\"en_US\",\"strings\":{\"0\":null,\"Address\":{\"EmptySelectOption\":\"-- Select --\",\"ErrorMessages\":{\"InvalidPostalCode\":\"Invalid zip code\",\"RequiredFieldMessage\":\"This field is required\"},\"Labels\":{\"AddressLine\":\"Address\",\"AddressLine1\":\"Address Line 1\",\"AddressLine2\":\"Address Line 2\",\"City\":\"City\",\"Country\":\"Country\",\"County\":\"County\",\"Department\":\"Department\",\"District\":\"District\",\"PostalCode\":\"Postal Code\",\"Province\":\"Province\",\"Region\":\"Region\",\"State\":\"State\"}},\"ApplicationStep\":{\"Next\":\"Next\",\"Previous\":\"Previous\",\"Progress\":\"Step {current} of {total}\",\"Submit\":\"Submit\"},\"Apply\":{\"Confirmation\":{\"Header\":\"Your Application Has Been Received\",\"Message\":\"Check your email to create your Tesla Connect account. With Tesla Connect, view the status of your application and manage your personal information.\",\"SubHeader\":\"What\\'s Next\"},\"DefaultJobTitle\":\"Position {jobId}\",\"Error\":{\"Header\":\"An error has occurred\",\"Message\":\"The website encountered an unexpected error. Please try again later.\"},\"Heading\":\"Job Application\"},\"Country\":{\"EmptySelectOption\":\"-- Select --\"},\"Date\":{\"RequiredMessage\":\"Please complete this required field\"},\"Details\":{\"ApplyForJob\":\"Apply\",\"Data\":{\"Category\":\"Job Category\",\"Id\":\"Req. ID\",\"JobCompensationAndBenefits\":\"Compensation and Benefits\",\"JobDescription\":\"What to Expect\",\"JobRequirements\":\"What You\\\\u2019ll Bring\",\"JobResponsibilities\":\"What You\\\\u2019ll Do\",\"JobType\":\"Job Type\",\"Location\":\"Location\"},\"EVerify\":\"Tesla participates in the <a class=\\\\\"tds-link\\\\\" href=\\\\\"/careers/e-verify?redirect=no\\\\\" target=\\\\\"_blank\\\\\">E-Verify Program</a>\",\"GoToSearch\":\"Go to search\"},\"EEOSection\":{\"Acknowledgment\":{\"RequiredMessage\":\"Please complete this required field\"}},\"FileUpload\":{\"ButtonText\":\"Choose file\",\"Errors\":{\"FileSizeExceeded\":\"File size exceeds the maximum allowed file size (max {max})\",\"FilesExceeded\":\"Too many files selected (max {max})\",\"InvalidFileType\":\"Invalid file type\"}},\"FilterLabels\":{\"Country\":\"Location\",\"EmptyOption\":\"- Select -\",\"JobCategory\":\"Job Category\",\"Location\":\"City\",\"Region\":\"Region\",\"Reset\":\"Reset Filters\",\"Search\":\"Search\",\"States\":\"State\",\"Type\":\"Job Type\",\"Types\":{\"FullTime\":\"Full-Time\",\"Intern\":\"Intern/Apprentice\",\"PartTime\":\"Part-Time\",\"Seasonal\":\"Seasonal\"}},\"FirstNameInput\":{\"Errors\":{\"InvalidMessage\":\"Invalid first name\"}},\"Footer\":{\"AboutTesla\":{\"Header\":\"About Tesla\",\"One\":\"Tesla is accelerating the world\\\\u2019s transition to sustainable energy. We design, manufacture, sell and service the world\\\\u2019s best solar technology, energy storage systems, and electric vehicles, providing customers the opportunity to generate, store and consume energy entirely sustainably.\",\"Three\":\"Our world-class teams operate with a non-conventional philosophy of inter-disciplinary collaboration. Each member of the team is expected to challenge and to be challenged, to create, and to innovate. We\\\\u2019re tackling the world\\\\u2019s most difficult and important problems\\\\u2014and we wouldn\\\\u2019t succeed without our shared passion for making the world a better place.\",\"Two\":\"Tesla is committed to hiring and developing top talent from around the world for any given discipline. Based in California, Tesla\\\\u2019s workforce spans across four continents. We work to build an inclusive environment in which all people, regardless of gender, race, religion, or background, can come to do their best work.\"},\"EqualOpportunity\":{\"Global\":\"Tesla is an Equal Opportunity / Affirmative Action employer committed to diversity in the workplace. All qualified applicants will receive consideration for employment without regard to race, color, religion, sex, sexual orientation, age, national origin, disability, protected veteran status, gender identity or any other factor protected by applicable federal, state or local laws.\",\"GlobalAlternative\":\"Tesla is an Equal Opportunity / Affirmative Action employer committed to diversity in the workplace.\",\"More\":{\"One\":\"Tesla is also committed to working with and providing reasonable accommodations to individuals with disabilities. Please let your recruiter know if you need an accommodation at any point during the interview process.\",\"Two\":\"For quick access to screen reading technology compatible with this site <a href=\\\\\"https://chrome.google.com/webstore/detail/chromevox/kgejglhpjiefppelpmljglcjbhoiplfn\\\\\" target=\\\\\"_blank\\\\\">click here to download a free compatible screen reader</a> (free step by step <a href=\\\\\"http://www.chromevox.com/tutorial\\\\\" target=\\\\\"_blank\\\\\">tutorial can be found here</a>). Please contact <a href=\\\\\"mailto:accommodationrequest@tesla.com\\\\\">accommodationrequest@tesla.com</a> for additional information or to request accommodations.\"}},\"LearnMore\":\"Learn more about Tesla\",\"Privacy\":{\"One\":\"Privacy is a top priority for Tesla. We build it into our products and view it as an essential part of our business. To understand more about the data we collect and process as part of your application, please view our <a href=\\\\\"https://www.tesla.com/sites/default/files/downloads/global-tesla-talent-privacy-notice.pdf\\\\\" target=\\\\\"_blank\\\\\">Tesla Talent Privacy Notice</a>.\"}},\"Grohmann\":{\"Footer\":{\"AboutTesla\":{\"Four\":\"Tesla Automation has its headquarters in Pr\\\\u00fcm, Germany with additional locations in Neutraubling and Neuwied.\",\"Header\":\"About Tesla Automation\",\"One\":\"Tesla Automation is a world-leader in highly automated methods of manufacturing.\",\"Three\":\"The formation of Tesla Automation in 2016 enables exponential improvement of production speed and quality, while substantially reducing the capital expenditures required per vehicle.\",\"Two\":\"Established in 1983 as Grohmann Engineering, the company has been at the forefront of automation and innovation for over three decades.\"},\"EqualOpportunity\":{\"Global\":\"Tesla Automation is an equal opportunity employer. All aspects of employment including the decision to hire, promote, discipline, or discharge, will be based on merit, competence, performance, and business needs. We do not discriminate on the basis of race, color, religion, marital status, age, national origin, ancestry, physical or mental disability, medical condition, pregnancy, genetic information, gender, sexual orientation, gender identity or gender expression, veteran status, or any other status protected under federal, state, or local law.\"}}},\"JobDetailSection\":{\"Availability\":{\"Heading\":\"Availability\"},\"Experience\":{\"Heading\":\"Experience\"}},\"LastNameInput\":{\"Errors\":{\"InvalidMessage\":\"Invalid last name\"}},\"LegalSection\":{\"Acknowledgment\":{\"Copy\":{\"Global\":\"<p>1. I certify that all statements I have made on this application and on my resume or any other supplementary materials are true and correct. I acknowledge that any false statement or misrepresentation on this application, my resume, or supplementary materials will be cause for refusal to hire, or for immediate termination of employment at any time during the period of my employment.</p><p>2. I understand that no supervisor or manager may alter or amend the above conditions except in writing, signed by a company officer.</p><p>3. <a href=\\'https://www.tesla.com/sites/default/files/downloads/global-tesla-talent-privacy-notice.pdf\\' target=\\'_blank\\' class=\\'tds-link\\'>Tesla Talent Privacy Notice</a></p><p>4. <a href=\\'https://www.tesla.com/sites/default/files/legal/us-application-arbitration-agreement-20190307.pdf\\' target=\\'_blank\\' class=\\'tds-link\\'>Tesla\\\\u2019s Arbitration Agreement</a></p>\",\"USOnly\":{\"paragraph\":\"<p>1. I certify that all statements I have made on this application and on my resume or any other supplementary materials are true and correct. I acknowledge that any false statement or misrepresentation on this application, my resume, or supplementary materials will be cause for refusal to hire, or for immediate termination of employment at any time during the period of my employment.</p><p>2. I understand and agree that, if I am offered a position, it will be offered on condition that my employment will be at will and for no definite period, and that my employment may be terminated, at any time, with or without cause and with or without prior notice.</p><p>3. I understand that no supervisor or manager may alter or amend the above conditions except in writing, signed by a company officer.</p><p>4. <a href=\\'https://www.tesla.com/sites/default/files/downloads/global-tesla-talent-privacy-notice.pdf\\' target=\\'_blank\\' class=\\'tds-link\\'>Tesla Talent Privacy Notice</a></p><p>5. <a href=\\'https://www.tesla.com/sites/default/files/legal/us-application-arbitration-agreement-20190307.pdf\\' target=\\'_blank\\' class=\\'tds-link\\'>Tesla\\\\u2019s Arbitration Agreement</a></p>\"}},\"Heading\":\"Acknowledgment\",\"RequiredMessage\":\"Please complete this required field\"}},\"PageHeader\":\"Careers\",\"PersonalSection\":{\"Profile\":{\"OptionalResumeMessage\":\"Please provide at least one item below to proceed.\",\"OptionalResumeValidationMessage\":\"At least one of these items is required.\"}},\"PhoneInput\":{\"Errors\":{\"InvalidMessage\":\"Invalid telephone number\"}},\"ProfileLinks\":{\"AddButton\":{\"Label\":\"Add Profile Link\"},\"AddMoreButton\":{\"Label\":\"Add Additional Profile Link\"},\"Caption\":\"Profile Link {index}\",\"Link\":{\"RequiredMessage\":\"Please complete this required field\"},\"RemoveButton\":{\"Label\":\"Remove\"},\"Type\":{\"Label\":\"Profile Link Type\",\"RequiredMessage\":\"Please complete this required field\"}},\"Results\":{\"Headers\":{\"Category\":\"Category\",\"DatePosted\":\"Date Posted\",\"Location\":\"Location\",\"Title\":\"Title\"},\"Loading\":\"Loading\",\"NoResults\":\"No results found\"},\"Search\":{\"ResultCount\":\"Results: {count}\"},\"ShareOnLinkedin\":\"Share on LinkedIn\",\"SomethingWentWrong\":\"Something went wrong\",\"TextAreaWithCounter\":{\"CharactersRemainingMessage\":\"{counter} characters remaining\"}},\"stringsGlossary\":null,\"language\":\"en\",\"country\":\"US\",\"is_appointment_canceled\":false,\"baseRoute\":\"/careers/search\",\"sentryDSN\":\"https://7732524fcc0b44afa743109eeb223c7c@errlog.tesla.com/177\",\"sentryEnv\":\"production\",\"initialReduxState\":{\"app\":{\"isVersion2\":true,\"stateUrl\":\"/cua-api/apps/careers/state\",\"jobUrl\":\"/cua-api/careers/job\",\"geoIpUrl\":\"https://location-services-prd.tesla.com/geoip/country\",\"formSchemaApiUrl\":\"https://www.tesla.com/api/tesla/rcf/v3\",\"formSubmissionUrl\":\"/cua-api/submit-form/generic\",\"isGeoIpEnabled\":true,\"isGrohmannSite\":false,\"market\":\"US\"},\"root\":{\"jobs\":{\"data\":{\"113054\":{\"id\":\"113054\",\"title\":\"Autopilot - Software Engineer Internship (Fall 2022)\",\"department\":\"Autopilot & Robotics\",\"jobFamily\":\"Autopilot\",\"location\":\"Palo Alto, California\",\"description\":\"<div class=\\\\\"MSWordContent\\\\\"><div><div><p><em>Disclaimer: This\\\\nposition is expected to start around August or September 2022 and continue\\\\nthrough the entire Fall term (i.e. through December) or into early Spring 2023\\\\nif available.&nbsp;We ask for a minimum of 12 weeks,&nbsp;<strong>full-time</strong>, for\\\\nmost internships. Please consider before&nbsp;submitting an application.</em></p><p><em>International Students:\\\\nIf your work authorization is through CPT, please consult your school&nbsp;<strong>before&nbsp;</strong>applying.\\\\nYou must be able to work 40 hours per week. Many students will be limited to\\\\npart-time depending on their academic standing.&nbsp;</em></p><p><strong></strong></p><p><strong>Internship Programs at\\\\nTesla</strong></p><p>The Internship Recruiting Team is driven by the\\\\npassion to recognize emerging talent. Our year-round program places the best\\\\nstudents in positions where they will grow both technically and personally\\\\nthrough their experience working closely with their manager, mentor, and team.\\\\nWe are dedicated to providing an experience that allows for the intern to\\\\nexperience life at Tesla by giving them projects that are critical to their\\\\nteam\\\\u2019s success.</p><p>Instead of going on coffee runs and making\\\\ncopies, you\\\\u2019ll be seated at the table making critical decisions that will\\\\ninfluence not only your team, but the overall achievement of Tesla\\\\u2019s mission.</p><p><strong></strong></p><p><strong>Location</strong></p><ul class=\\\\\"tds-list tds-list--unordered\\\\\">\\\\n <li>Palo\\\\n     Alto, CA</li>\\\\n</ul><p><strong>About the Team</strong></p><p>As a Software Engineering Intern within the Autonomy group,\\\\nyou will have the opportunity to apply your technical skills to a variety of\\\\nsystem components &amp; foundational code targeting higher performance of\\\\nAutopilot and Humanoid robot. The nature of the role means that the code you\\\\nwill write, debug, and maintain will almost always connect with a variety of other\\\\ncomponents. You will be building robust code foundations for the autonomy teams\\\\nto write their applications on top of\\\\u202fand evangelize best software practices\\\\nfor the better of Autopilot and Humanoid robot. You will be developing system\\\\ntools to benchmark, characterize and optimize the latency and throughput of the\\\\nautonomy workloads on the FSD chip. You will write tests and integrate with our\\\\nevaluation pipeline to ensure the system and functional stability of our stack.</p><p><strong>Responsibilities</strong></p><ul class=\\\\\"tds-list tds-list--unordered\\\\\">\\\\n <li>Write, debug and maintain\\\\n     robust C/C++ software to the entire Autopilot and Humanoid robot software\\\\n     stack; depending on needs and your interests/skills, you might work on\\\\n     code related to our high-frame rate Camera &amp; Vision stack, write GPU\\\\n     kernels, design and implement low memory footprint image compression\\\\n     libraries, implement high-performance inter-process communication data\\\\n     buffers, improve/extend our image &amp; raw data logging/telemetry code,\\\\n     or make our evaluation/replay software more stable and performant.</li>\\\\n <li>Optimize hardware resources\\\\n     usage, leverage custom hardware components where appropriate.</li>\\\\n <li>Advocate for best coding\\\\n     practices amongst the group, build tools helping engineers to write better\\\\n     code (for instance, performance/memory tracking).</li>\\\\n <li>Generalize software frameworks\\\\n     when necessary while keeping in mind that too much abstraction can\\\\n     sometimes become a bottleneck.</li>\\\\n</ul><p><strong>Requirements</strong></p><ul class=\\\\\"tds-list tds-list--unordered\\\\\">\\\\n <li>Experience programming C/C++\\\\n     software, including modern C/C++ (C++14/17/20).</li>\\\\n <li>Experience or familiarity with\\\\n     Computer Vision, Machine Learning &amp; related software concepts is\\\\u202fa\\\\n     plus.</li>\\\\n <li>Experience with performant\\\\n     software design, object-oriented C++, compiler design and/or hardcore\\\\n     lower-level C code a plus, but preferred.</li>\\\\n <li>Proficient developing software\\\\n     on a Linux host, for embedded Linux targets (cross-compilation, etc.)\\\\u202fis a\\\\n     plus.</li>\\\\n <li>Experience with at least one of\\\\n     the following is a plus: imaging software, Cuda/OpenCL, SIMD,\\\\n     multithreading, Linux system software (posix etc.), &amp; computer vision.</li>\\\\n</ul></div><br></div></div> \",\"jobDescription\":\"\",\"jobResponsibilities\":\"\",\"jobRequirements\":\"\",\"jobCompensationAndBenefits\":\"\",\"applicationType\":\"007\",\"isGrohmann\":false,\"timeType\":\"Intern/Apprentice\",\"subWorkerType\":\"\",\"url\":\"/careers/search/job/autopilot-software-engineer-internship-fall-2022-113054\"}}}}}},\"reduxLogger\":false,\"resourceBaseUrl\":\"/cua/assets/apps/careers-ui\"}</script>\\n<div id=\"app\"></div>\\n\\n            <script type=\"text/javascript\" src=\"/cua/assets/apps/careers-ui/static/js/main.78205744.js\"></script>\\n    \\n<noscript>\\n            \\n<main id=\"main-content\" class=\"tds-shell-content\">\\n    <div class=\"tds-content_container tds-content_container--large\">\\n        <h1>Autopilot - Software Engineer Internship (Fall 2022)</h1>\\n\\n        <table class=\"tds-table\">\\n            <tbody class=\"tds-table-body\">\\n                <tr class=\"tds-table-row\">\\n                    <th scope=\"row\">Job Category</th>\\n                    <td>Autopilot & Robotics</td>\\n                </tr>\\n                <tr class=\"tds-table-row\">\\n                    <th scope=\"row\">Location</th>\\n                    <td>Palo Alto, California</td>\\n                </tr>\\n                <tr class=\"tds-table-row\">\\n                    <th scope=\"row\">Req. ID</th>\\n                    <td>113054</td>\\n                </tr>\\n                <tr class=\"tds-table-row\">\\n                    <th scope=\"row\">Job Type</th>\\n                    <td>Intern/Apprentice</td>\\n                </tr>\\n            </tbody>\\n        </table>\\n\\n        <div class=\"tds-flex tds-flex--center\">\\n            <a class=\"tds-btn\" href=\"/careers/search/job/apply/113054\" target=\"_blank\" rel=\"noopener noreferrer\">\\n                Apply            </a>\\n            <a\\n                class=\"tds-link tds-o-link\"\\n                href=\"https://www.linkedin.com/shareArticle?mini=true&url=https%3A%2F%2Fwww.tesla.com%2Fcareers%2Fsearch%2Fjob%2Fautopilot-software-engineer-internship-fall-2022-113054\"\\n                target=\"_blank\"\\n                rel=\"noopener noreferrer\"\\n                aria-label=\"Share on LinkedIn\"\\n            >\\n                <span class=\"tds-icon tds-icon--medium tds-icon-social-linkedin\" />\\n            </a>\\n        </div>\\n\\n        <div>\\n            <div class=\"MSWordContent\"><div><div><p><em>Disclaimer: This\\nposition is expected to start around August or September 2022 and continue\\nthrough the entire Fall term (i.e. through December) or into early Spring 2023\\nif available.&nbsp;We ask for a minimum of 12 weeks,&nbsp;<strong>full-time</strong>, for\\nmost internships. Please consider before&nbsp;submitting an application.</em></p><p><em>International Students:\\nIf your work authorization is through CPT, please consult your school&nbsp;<strong>before&nbsp;</strong>applying.\\nYou must be able to work 40 hours per week. Many students will be limited to\\npart-time depending on their academic standing.&nbsp;</em></p><p><strong></strong></p><p><strong>Internship Programs at\\nTesla</strong></p><p>The Internship Recruiting Team is driven by the\\npassion to recognize emerging talent. Our year-round program places the best\\nstudents in positions where they will grow both technically and personally\\nthrough their experience working closely with their manager, mentor, and team.\\nWe are dedicated to providing an experience that allows for the intern to\\nexperience life at Tesla by giving them projects that are critical to their\\nteam’s success.</p><p>Instead of going on coffee runs and making\\ncopies, you’ll be seated at the table making critical decisions that will\\ninfluence not only your team, but the overall achievement of Tesla’s mission.</p><p><strong></strong></p><p><strong>Location</strong></p><ul class=\"tds-list tds-list--unordered\">\\n <li>Palo\\n     Alto, CA</li>\\n</ul><p><strong>About the Team</strong></p><p>As a Software Engineering Intern within the Autonomy group,\\nyou will have the opportunity to apply your technical skills to a variety of\\nsystem components &amp; foundational code targeting higher performance of\\nAutopilot and Humanoid robot. The nature of the role means that the code you\\nwill write, debug, and maintain will almost always connect with a variety of other\\ncomponents. You will be building robust code foundations for the autonomy teams\\nto write their applications on top of\\u202fand evangelize best software practices\\nfor the better of Autopilot and Humanoid robot. You will be developing system\\ntools to benchmark, characterize and optimize the latency and throughput of the\\nautonomy workloads on the FSD chip. You will write tests and integrate with our\\nevaluation pipeline to ensure the system and functional stability of our stack.</p><p><strong>Responsibilities</strong></p><ul class=\"tds-list tds-list--unordered\">\\n <li>Write, debug and maintain\\n     robust C/C++ software to the entire Autopilot and Humanoid robot software\\n     stack; depending on needs and your interests/skills, you might work on\\n     code related to our high-frame rate Camera &amp; Vision stack, write GPU\\n     kernels, design and implement low memory footprint image compression\\n     libraries, implement high-performance inter-process communication data\\n     buffers, improve/extend our image &amp; raw data logging/telemetry code,\\n     or make our evaluation/replay software more stable and performant.</li>\\n <li>Optimize hardware resources\\n     usage, leverage custom hardware components where appropriate.</li>\\n <li>Advocate for best coding\\n     practices amongst the group, build tools helping engineers to write better\\n     code (for instance, performance/memory tracking).</li>\\n <li>Generalize software frameworks\\n     when necessary while keeping in mind that too much abstraction can\\n     sometimes become a bottleneck.</li>\\n</ul><p><strong>Requirements</strong></p><ul class=\"tds-list tds-list--unordered\">\\n <li>Experience programming C/C++\\n     software, including modern C/C++ (C++14/17/20).</li>\\n <li>Experience or familiarity with\\n     Computer Vision, Machine Learning &amp; related software concepts is\\u202fa\\n     plus.</li>\\n <li>Experience with performant\\n     software design, object-oriented C++, compiler design and/or hardcore\\n     lower-level C code a plus, but preferred.</li>\\n <li>Proficient developing software\\n     on a Linux host, for embedded Linux targets (cross-compilation, etc.)\\u202fis a\\n     plus.</li>\\n <li>Experience with at least one of\\n     the following is a plus: imaging software, Cuda/OpenCL, SIMD,\\n     multithreading, Linux system software (posix etc.), &amp; computer vision.</li>\\n</ul></div><br></div></div>         </div>\\n    </div>\\n</main>    </noscript>\\n\\n\\n\\n  <style type=\"text/css\">\\n      .tds-site-footer .fr-disclaimer {\\n    position: absolute;\\n    left: 24px;\\n}\\n\\n@media (max-width: 1200px) {\\n  .tds-site-footer .fr-disclaimer {\\n    position: relative;\\n  }\\n}\\n  </style>\\n\\n<footer class=\"tds-site-footer tds--padding\">\\n    <nav class=\"tds-footer-nav\">  \\n         \\n                  <ul class=\"tds-list tds-list--horizontal\">     \\n          <li class=\"tds-footer-item\">         \\n            <a class=\"tds-link\" href=\"/about\">Tesla &copy; 2022</a>       \\n          </li>      \\n  \\n          <li class=\"tds-footer-item\">         \\n            <a class=\"tds-link\" href=\"/about/legal\" title=\"Privacy & Legal\">Privacy & Legal</a>       \\n          </li> \\n  \\n                    \\n            \\n          <li class=\"tds-footer-item\">         \\n            <a class=\"tds-link\" href=\"/contact\" title=\"Contact\">Contact</a>       \\n          </li>  \\n  \\n          <li class=\"tds-footer-item\">         \\n            <a class=\"tds-link\" href=\"/careers\" title=\"Careers\">Careers</a>       \\n          </li> \\n  \\n          <li class=\"tds-footer-item\">         \\n            <a class=\"tds-link\" href=\"/updates\" title=\"Get Newsletter\">Get Newsletter</a>       \\n          </li>\\n          \\n                    <li class=\"tds-footer-item\">         \\n            <a class=\"tds-link\" href=\"https://forums.tesla.com/\" title=\"Forums\">Forums</a>       \\n          </li>\\n                    \\n          <li class=\"tds-footer-item\">         \\n            <a class=\"tds-link\" href=\"/findus/list\" title=\"Locations\">Locations</a>       \\n          </li>\\n        </ul> \\n          </nav> \\n  </footer>\\n    <!-- Google Tag Manager -->\\n    <script>(function(w,d,s,l,i){w[l]=w[l]||[];w[l].push({\\'gtm.start\\':\\n    new Date().getTime(),event:\\'gtm.js\\'});var f=d.getElementsByTagName(s)[0],\\n    j=d.createElement(s),dl=l!=\\'dataLayer\\'?\\'&l=\\'+l:\\'\\';j.async=true;j.src=\\n    \\'https://www.googletagmanager.com/gtm.js?id=\\'+i+dl;f.parentNode.insertBefore(j,f);\\n    })(window,document,\\'script\\',\\'dataLayer\\',\\'GTM-KMG5DM\\');</script>\\n    <!-- End Google Tag Manager -->\\n    <!-- Google Tag Manager (noscript) -->\\n    <noscript><iframe src=\"https://www.googletagmanager.com/ns.html?id=GTM-KMG5DM\" height=\"0\" width=\"0\" style=\"display:none;visibility:hidden\"></iframe></noscript>\\n    <!-- End Google Tag Manager (noscript) -->\\n\\n<!-- Boomerang -->\\n<script>\\n    (function() {\\n        // Boomerang Loader Snippet version 12\\n        if (window.BOOMR && (window.BOOMR.version || window.BOOMR.snippetExecuted)) {\\n            return;\\n        }\\n\\n        window.BOOMR = window.BOOMR || {};\\n        window.BOOMR.snippetStart = new Date().getTime();\\n        window.BOOMR.snippetExecuted = true;\\n        window.BOOMR.snippetVersion = 12;\\n\\n        // NOTE: Set Boomerang URL here\\n        window.BOOMR.url = \"/app-assets/js/boomerang/boomerang.min.js\";\\n\\n        var // document.currentScript is supported in all browsers other than IE\\n            where = document.currentScript || document.getElementsByTagName(\"script\")[0],\\n            // Whether or not Preload method has worked\\n            promoted = false,\\n            // How long to wait for Preload to work before falling back to iframe method\\n            LOADER_TIMEOUT = 3000;\\n\\n        // Tells the browser to execute the Preloaded script by adding it to the DOM\\n        function promote() {\\n            if (promoted) {\\n                return;\\n            }\\n\\n            var script = document.createElement(\"script\");\\n            script.id = \"boomr-scr-as\";\\n            script.src = window.BOOMR.url;\\n\\n            // Not really needed since dynamic scripts are async by default and the script is already in cache at this point,\\n            // but some naive parsers will see a missing async attribute and think we\\'re not async\\n            script.async = true;\\n\\n            where.parentNode.appendChild(script);\\n\\n            promoted = true;\\n        }\\n\\n        // Non-blocking iframe loader (fallback for non-Preload scenarios) for all recent browsers.\\n        // For IE 6/7, falls back to dynamic script node.\\n        function iframeLoader(wasFallback) {\\n            promoted = true;\\n\\n            var dom, doc = document, bootstrap, iframe, iframeStyle, win = window;\\n\\n            window.BOOMR.snippetMethod = wasFallback ? \"if\" : \"i\";\\n\\n            // Adds Boomerang within the iframe\\n            bootstrap = function(parent, scriptId) {\\n                var script = doc.createElement(\"script\");\\n                script.id = scriptId || \"boomr-if-as\";\\n                script.src = window.BOOMR.url;\\n\\n                BOOMR_lstart = new Date().getTime();\\n\\n                parent = parent || doc.body;\\n                parent.appendChild(script);\\n            };\\n\\n            // For IE 6/7, we\\'ll just load the script in the current frame, as those browsers don\\'t support \\'about:blank\\'\\n            // for an iframe src (it triggers warnings on secure sites).  This means loading on IE 6/7 may cause SPoF.\\n            if (!window.addEventListener && window.attachEvent && navigator.userAgent.match(/MSIE [67]\\\\./)) {\\n                window.BOOMR.snippetMethod = \"s\";\\n\\n                bootstrap(where.parentNode, \"boomr-async\");\\n                return;\\n            }\\n\\n            // The rest of this function is IE8+ and other browsers that don\\'t support Preload hints but will work with CSP & iframes\\n            iframe = document.createElement(\"IFRAME\");\\n\\n            // An empty frame\\n            iframe.src = \"about:blank\";\\n\\n            // We set title and role appropriately to play nicely with screen readers and other assistive technologies\\n            iframe.title = \"\";\\n            iframe.role = \"presentation\";\\n\\n            // Ensure we\\'re not loaded lazily\\n            iframe.loading = \"eager\";\\n\\n            // Hide the iframe\\n            iframeStyle = (iframe.frameElement || iframe).style;\\n            iframeStyle.width = 0;\\n            iframeStyle.height = 0;\\n            iframeStyle.border = 0;\\n            iframeStyle.display = \"none\";\\n\\n            // Append to the end of the current block\\n            where.parentNode.appendChild(iframe);\\n\\n            // Try to get the iframe\\'s document object\\n            try {\\n                win = iframe.contentWindow;\\n                doc = win.document.open();\\n            }\\n            catch (e) {\\n                // document.domain has been changed and we\\'re on an old version of IE, so we got an access denied.\\n                // Note: the only browsers that have this problem also do not have CSP support.\\n\\n                // Get document.domain of the parent window\\n                dom = document.domain;\\n\\n                // Set the src of the iframe to a JavaScript URL that will immediately set its document.domain to match the parent.\\n                // This lets us access the iframe document long enough to inject our script.\\n                // Our script may need to do more domain massaging later.\\n                iframe.src = \"javascript:var d=document.open();d.domain=\\'\" + dom + \"\\';void(0);\";\\n                win = iframe.contentWindow;\\n\\n                doc = win.document.open();\\n            }\\n\\n            if (dom) {\\n                // Unsafe version for IE8 compatability. If document.domain has changed, we can\\'t use win, but we can use doc.\\n                doc._boomrl = function() {\\n                    this.domain = dom;\\n                    bootstrap();\\n                };\\n\\n                // Run our function at load.\\n                // Split the string so HTML code injectors don\\'t get confused and add code here.\\n                doc.write(\"<bo\" + \"dy onload=\\'document._boomrl();\\'>\");\\n            }\\n            else {\\n                // document.domain hasn\\'t changed, regular method should be OK\\n                win._boomrl = function() {\\n                    bootstrap();\\n                };\\n\\n                if (win.addEventListener) {\\n                    win.addEventListener(\"load\", win._boomrl, false);\\n                }\\n                else if (win.attachEvent) {\\n                    win.attachEvent(\"onload\", win._boomrl);\\n                }\\n            }\\n\\n            // Finish the document\\n            doc.close();\\n        }\\n\\n        // See if Preload is supported or not\\n        var link = document.createElement(\"link\");\\n\\n        if (link.relList &&\\n            typeof link.relList.supports === \"function\" &&\\n            link.relList.supports(\"preload\") &&\\n            (\"as\" in link)) {\\n            window.BOOMR.snippetMethod = \"p\";\\n\\n            // Set attributes to trigger a Preload\\n            link.href = window.BOOMR.url;\\n            link.rel  = \"preload\";\\n            link.as   = \"script\";\\n\\n            // Add our script tag if successful, fallback to iframe if not\\n            link.addEventListener(\"load\", promote);\\n            link.addEventListener(\"error\", function() {\\n                iframeLoader(true);\\n            });\\n\\n            // Have a fallback in case Preload does nothing or is slow\\n            setTimeout(function() {\\n                if (!promoted) {\\n                    iframeLoader(true);\\n                }\\n            }, LOADER_TIMEOUT);\\n\\n            // Note the timestamp we started trying to Preload\\n            BOOMR_lstart = new Date().getTime();\\n\\n            // Append our link tag\\n            where.parentNode.appendChild(link);\\n        }\\n        else {\\n            // No Preload support, use iframe loader\\n            iframeLoader(false);\\n        }\\n\\n        // Save when the onload event happened, in case this is a non-NavigationTiming browser\\n        function boomerangSaveLoadTime(e) {\\n            window.BOOMR_onload = (e && e.timeStamp) || new Date().getTime();\\n        }\\n\\n        if (window.addEventListener) {\\n            window.addEventListener(\"load\", boomerangSaveLoadTime, false);\\n        }\\n        else if (window.attachEvent) {\\n            window.attachEvent(\"onload\", boomerangSaveLoadTime);\\n        }\\n    })();\\n</script>\\n<!-- End Boomerang -->\\n\\n    <script src=\"https://www.tesla.com/modules/custom/tesla_mega_menu/dist/1.1.0/header.bundle.js\"></script>\\n</body>\\n\\n</html>'"
      ]
     },
     "execution_count": 50,
     "metadata": {},
     "output_type": "execute_result"
    }
   ],
   "source": [
    "url = \"https://www.tesla.com/careers/search/job/autopilot-software-engineer-internship-fall-2022-113054\"\n",
    "r = requests.get(url)\n",
    "r.text"
   ]
  },
  {
   "cell_type": "code",
   "execution_count": 51,
   "id": "000f8c93",
   "metadata": {},
   "outputs": [],
   "source": [
    "soup = BeautifulSoup(r.text, 'html.parser')"
   ]
  },
  {
   "cell_type": "code",
   "execution_count": 93,
   "id": "ccf7689d",
   "metadata": {},
   "outputs": [],
   "source": [
    "l = soup.get_text().split(\"\\n\")\n",
    "l_removed_empty = list(filter(lambda a: a != '' and a != ' ', l))\n",
    "l_strip = list()\n",
    "\n",
    "for text in l_removed_empty:\n",
    "    l_strip.append(text.strip())"
   ]
  },
  {
   "cell_type": "code",
   "execution_count": 94,
   "id": "7d167efb",
   "metadata": {},
   "outputs": [
    {
     "data": {
      "text/plain": [
       "['Tesla Careers',\n",
       " 'Tesla Careers',\n",
       " 'Autopilot - Software Engineer Internship (Fall 2022)',\n",
       " 'Job Category',\n",
       " 'Autopilot & Robotics',\n",
       " 'Location',\n",
       " 'Palo Alto, California',\n",
       " 'Req. ID',\n",
       " '113054',\n",
       " 'Job Type',\n",
       " 'Intern/Apprentice',\n",
       " 'Apply',\n",
       " 'Disclaimer: This',\n",
       " 'position is expected to start around August or September 2022 and continue',\n",
       " 'through the entire Fall term (i.e. through December) or into early Spring 2023',\n",
       " 'if available.\\xa0We ask for a minimum of 12 weeks,\\xa0full-time, for',\n",
       " 'most internships. Please consider before\\xa0submitting an application.International Students:',\n",
       " 'If your work authorization is through CPT, please consult your school\\xa0before\\xa0applying.',\n",
       " 'You must be able to work 40 hours per week. Many students will be limited to',\n",
       " 'part-time depending on their academic standing.\\xa0Internship Programs at',\n",
       " 'TeslaThe Internship Recruiting Team is driven by the',\n",
       " 'passion to recognize emerging talent. Our year-round program places the best',\n",
       " 'students in positions where they will grow both technically and personally',\n",
       " 'through their experience working closely with their manager, mentor, and team.',\n",
       " 'We are dedicated to providing an experience that allows for the intern to',\n",
       " 'experience life at Tesla by giving them projects that are critical to their',\n",
       " 'team’s success.Instead of going on coffee runs and making',\n",
       " 'copies, you’ll be seated at the table making critical decisions that will',\n",
       " 'influence not only your team, but the overall achievement of Tesla’s mission.Location',\n",
       " 'Palo',\n",
       " 'Alto, CA',\n",
       " 'About the TeamAs a Software Engineering Intern within the Autonomy group,',\n",
       " 'you will have the opportunity to apply your technical skills to a variety of',\n",
       " 'system components & foundational code targeting higher performance of',\n",
       " 'Autopilot and Humanoid robot. The nature of the role means that the code you',\n",
       " 'will write, debug, and maintain will almost always connect with a variety of other',\n",
       " 'components. You will be building robust code foundations for the autonomy teams',\n",
       " 'to write their applications on top of\\u202fand evangelize best software practices',\n",
       " 'for the better of Autopilot and Humanoid robot. You will be developing system',\n",
       " 'tools to benchmark, characterize and optimize the latency and throughput of the',\n",
       " 'autonomy workloads on the FSD chip. You will write tests and integrate with our',\n",
       " 'evaluation pipeline to ensure the system and functional stability of our stack.Responsibilities',\n",
       " 'Write, debug and maintain',\n",
       " 'robust C/C++ software to the entire Autopilot and Humanoid robot software',\n",
       " 'stack; depending on needs and your interests/skills, you might work on',\n",
       " 'code related to our high-frame rate Camera & Vision stack, write GPU',\n",
       " 'kernels, design and implement low memory footprint image compression',\n",
       " 'libraries, implement high-performance inter-process communication data',\n",
       " 'buffers, improve/extend our image & raw data logging/telemetry code,',\n",
       " 'or make our evaluation/replay software more stable and performant.',\n",
       " 'Optimize hardware resources',\n",
       " 'usage, leverage custom hardware components where appropriate.',\n",
       " 'Advocate for best coding',\n",
       " 'practices amongst the group, build tools helping engineers to write better',\n",
       " 'code (for instance, performance/memory tracking).',\n",
       " 'Generalize software frameworks',\n",
       " 'when necessary while keeping in mind that too much abstraction can',\n",
       " 'sometimes become a bottleneck.',\n",
       " 'Requirements',\n",
       " 'Experience programming C/C++',\n",
       " 'software, including modern C/C++ (C++14/17/20).',\n",
       " 'Experience or familiarity with',\n",
       " 'Computer Vision, Machine Learning & related software concepts is\\u202fa',\n",
       " 'plus.',\n",
       " 'Experience with performant',\n",
       " 'software design, object-oriented C++, compiler design and/or hardcore',\n",
       " 'lower-level C code a plus, but preferred.',\n",
       " 'Proficient developing software',\n",
       " 'on a Linux host, for embedded Linux targets (cross-compilation, etc.)\\u202fis a',\n",
       " 'plus.',\n",
       " 'Experience with at least one of',\n",
       " 'the following is a plus: imaging software, Cuda/OpenCL, SIMD,',\n",
       " 'multithreading, Linux system software (posix etc.), & computer vision.',\n",
       " 'Tesla © 2022',\n",
       " 'Privacy & Legal',\n",
       " 'Contact',\n",
       " 'Careers',\n",
       " 'Get Newsletter',\n",
       " 'Forums',\n",
       " 'Locations']"
      ]
     },
     "execution_count": 94,
     "metadata": {},
     "output_type": "execute_result"
    }
   ],
   "source": [
    "l_strip"
   ]
  },
  {
   "cell_type": "code",
   "execution_count": 97,
   "id": "6724ab9a",
   "metadata": {},
   "outputs": [],
   "source": [
    "unique_vocabs = list()\n",
    "\n",
    "for text in l_strip:\n",
    "    doc = nlp(text)\n",
    "    for ent in doc.ents:\n",
    "        unique_vocabs.append(ent.text)\n",
    "#     print('Entities', [(ent.text, ent.label_) for ent in doc.ents])"
   ]
  },
  {
   "cell_type": "code",
   "execution_count": 98,
   "id": "06369fce",
   "metadata": {},
   "outputs": [
    {
     "data": {
      "text/plain": [
       "['Autopilot - Software Engineer Internship',\n",
       " 'Fall 2022',\n",
       " 'Job Category',\n",
       " 'Autopilot',\n",
       " 'Robotics',\n",
       " 'Location',\n",
       " 'Palo Alto',\n",
       " 'California',\n",
       " 'Req',\n",
       " 'Job Type',\n",
       " 'Apprentice',\n",
       " 'Apply',\n",
       " 'This',\n",
       " 'September',\n",
       " 'December',\n",
       " 'most internships',\n",
       " 'Please consider before',\n",
       " 'CPT',\n",
       " 'please consult your school',\n",
       " 'Many',\n",
       " 'mentor',\n",
       " 'Location',\n",
       " 'Palo',\n",
       " 'Alto',\n",
       " 'CA',\n",
       " 'About the',\n",
       " 'Autopilot',\n",
       " 'Humanoid robot',\n",
       " 'debug',\n",
       " 'evangelize best software',\n",
       " 'Autopilot',\n",
       " 'Humanoid robot',\n",
       " 'optimize',\n",
       " 'integrate',\n",
       " 'stack',\n",
       " 'Responsibilities',\n",
       " 'debug',\n",
       " 'maintain',\n",
       " 'C',\n",
       " 'C++ software',\n",
       " 'stack; depending',\n",
       " 'needs',\n",
       " 'your interests',\n",
       " 'GPU',\n",
       " 'kernels',\n",
       " 'extend',\n",
       " 'data logging',\n",
       " 'Advocate',\n",
       " 'better',\n",
       " 'Requirements',\n",
       " 'C',\n",
       " 'C++',\n",
       " 'C',\n",
       " 'C++',\n",
       " 'C++14/17/20',\n",
       " 'Computer Vision',\n",
       " 'object-oriented',\n",
       " 'C++',\n",
       " 'C',\n",
       " 'Linux host',\n",
       " 'embedded Linux',\n",
       " 'etc',\n",
       " 'Cuda',\n",
       " 'OpenCL',\n",
       " 'SIMD',\n",
       " 'Linux system',\n",
       " 'computer vision',\n",
       " '©',\n",
       " 'Legal',\n",
       " 'Contact',\n",
       " 'Forums',\n",
       " 'Locations']"
      ]
     },
     "execution_count": 98,
     "metadata": {},
     "output_type": "execute_result"
    }
   ],
   "source": [
    "unique_vocabs"
   ]
  },
  {
   "cell_type": "code",
   "execution_count": 136,
   "id": "706d7fc5",
   "metadata": {},
   "outputs": [],
   "source": [
    "nlp = spacy.load('ner')\n",
    "session = AsyncHTMLSession()"
   ]
  },
  {
   "cell_type": "code",
   "execution_count": 146,
   "id": "3fd437f8",
   "metadata": {},
   "outputs": [],
   "source": [
    "def generate_keywords_from_url(url):\n",
    "#     r = await session.get(url)\n",
    "#     await r.html.arender()\n",
    "    try:\n",
    "        r = requests.get(url)\n",
    "    except:\n",
    "        return list()\n",
    "    \n",
    "    print(r.status_code)\n",
    "    \n",
    "    if (r.status_code / 100) % 10 != 2:\n",
    "        return list()\n",
    "    \n",
    "#     print(r.html.text)\n",
    "    \n",
    "#     soup = BeautifulSoup(r.html.html, 'html.parser')\n",
    "    soup = BeautifulSoup(r.text, 'html.parser')\n",
    "    raw_text = soup.get_text()\n",
    "    \n",
    "    print(raw_text)\n",
    "    \n",
    "    splitting_text = \"\"\n",
    "    splitting_texts = [\"Qualifications\", \"Qualities\", \"Responsibilities\", \"Who You Are\", \"Objectives\", \"Skills\",\n",
    "                       \"We want to hear from you\"]\n",
    "    \n",
    "    for text in splitting_texts:\n",
    "        if text in raw_text:\n",
    "            splitting_text = text\n",
    "            break\n",
    "            \n",
    "#     print(splitting_text)\n",
    "            \n",
    "    if splitting_text != \"\":\n",
    "        l = raw_text.split(splitting_text, 1)[1].split(\"\\n\")\n",
    "    else:\n",
    "        l = raw_text.split(\"\\n\")\n",
    "        \n",
    "    l_removed_empty = list(filter(lambda a: a != '' and a != ' ', l))\n",
    "    l_strip = list()\n",
    "\n",
    "    for text in l_removed_empty:\n",
    "        l_strip.append(text.strip())\n",
    "        \n",
    "    unique_vocabs = dict()\n",
    "\n",
    "    for text in l_strip:\n",
    "        doc = nlp(text)\n",
    "        for ent in doc.ents:\n",
    "            if ent.text not in unique_vocabs:\n",
    "                unique_vocabs[ent.text] = 1\n",
    "            else:\n",
    "                unique_vocabs[ent.text] += 1\n",
    "            \n",
    "    return unique_vocabs"
   ]
  },
  {
   "cell_type": "code",
   "execution_count": 147,
   "id": "d4f5f7de",
   "metadata": {},
   "outputs": [
    {
     "data": {
      "text/plain": [
       "[]"
      ]
     },
     "execution_count": 147,
     "metadata": {},
     "output_type": "execute_result"
    }
   ],
   "source": [
    "# generate_keywords_from_url(\"https://jobs.apple.com/en-us/details/200389054/software-engineering-internship?team=STDNT\")\n",
    "# generate_keywords_from_url(\"https://www.tesla.com/careers/search/job/autopilot-software-engineer-internship-fall-2022-113054\")\n",
    "# generate_keywords_from_url(\"https://tas-creditsuisse.taleo.net/careersection/campus/jobdetail.ftl\")\n",
    "# generate_keywords_from_url(\"https://www.citadel.com/careers/details/equities-citadel-associate-program-summer-internship-2023-us/\")\n",
    "# await generate_keywords_from_url(\"https://www.tesla.com/careers/search/job/software-engineering-internship-fall-2022-112959\")\n",
    "# generate_keywords_from_url(\"https://www.metacareers.com/v2/jobs/3162859397331113/\")\n",
    "# asyncio.run(generate_keywords_from_url(\"https://careers.google.com/jobs/results/133326305782309574-software-engineering-manager-google-assistant/\"))\n",
    "# await generate_keywords_from_url(\"https://careers.microsoft.com/students/us/en/job/1369987/Software-Engineering-Full-Time-Opportunity-for-University-Graduates\")\n",
    "generate_keywords_from_url(\"https://jobs.lever.co/palantir/7d69cf8a-06fd-4f05-bd84-27149db29c4d\")"
   ]
  },
  {
   "cell_type": "code",
   "execution_count": 130,
   "id": "d10ffba7",
   "metadata": {},
   "outputs": [],
   "source": [
    "# nest_asyncio.apply()\n",
    "session = AsyncHTMLSession()\n",
    "r = await session.get('https://careers.google.com/jobs/results/133494866135917254-data-manager-google-cloud-delivery-center/')\n",
    "await r.html.arender()\n",
    "# r.html.find('title')[0].text"
   ]
  },
  {
   "cell_type": "code",
   "execution_count": null,
   "id": "3279aa0d",
   "metadata": {},
   "outputs": [],
   "source": []
  }
 ],
 "metadata": {
  "kernelspec": {
   "display_name": "auto",
   "language": "python",
   "name": "auto"
  },
  "language_info": {
   "codemirror_mode": {
    "name": "ipython",
    "version": 3
   },
   "file_extension": ".py",
   "mimetype": "text/x-python",
   "name": "python",
   "nbconvert_exporter": "python",
   "pygments_lexer": "ipython3",
   "version": "3.10.4"
  }
 },
 "nbformat": 4,
 "nbformat_minor": 5
}
